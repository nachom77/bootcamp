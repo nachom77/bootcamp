{
  "nbformat": 4,
  "nbformat_minor": 0,
  "metadata": {
    "colab": {
      "name": "Modelo hibrido.ipynb",
      "provenance": [],
      "collapsed_sections": [],
      "machine_shape": "hm"
    },
    "kernelspec": {
      "name": "python3",
      "display_name": "Python 3"
    },
    "language_info": {
      "name": "python"
    },
    "accelerator": "GPU"
  },
  "cells": [
    {
      "cell_type": "markdown",
      "source": [
        "# Carga de datos"
      ],
      "metadata": {
        "id": "dHhl8VpS1uIC"
      }
    },
    {
      "cell_type": "markdown",
      "source": [
        "Se parte de los datos de la etapa EDA y de limpieza de variables que aparece en el fichero EDA.ipynb"
      ],
      "metadata": {
        "id": "CXHO8zCE1z86"
      }
    },
    {
      "cell_type": "code",
      "execution_count": 5,
      "metadata": {
        "colab": {
          "base_uri": "https://localhost:8080/"
        },
        "id": "xoNHK8BmoJbA",
        "outputId": "5bae6c28-8009-473a-bcf1-1598db51ecf3"
      },
      "outputs": [
        {
          "output_type": "stream",
          "name": "stdout",
          "text": [
            "Mounted at /content/drive\n"
          ]
        }
      ],
      "source": [
        "from google.colab import drive\n",
        "drive.mount('/content/drive')"
      ]
    },
    {
      "cell_type": "code",
      "source": [
        "import numpy as np\n",
        "images = np.load(\"/content/drive/MyDrive/images2.npy\")"
      ],
      "metadata": {
        "id": "L4TmibgqqzSE"
      },
      "execution_count": 6,
      "outputs": []
    },
    {
      "cell_type": "code",
      "source": [
        "images.shape"
      ],
      "metadata": {
        "colab": {
          "base_uri": "https://localhost:8080/"
        },
        "id": "X9BLdgsTsJnj",
        "outputId": "fc9af209-e004-4d4e-e6ac-bbe687404eb6"
      },
      "execution_count": 7,
      "outputs": [
        {
          "output_type": "execute_result",
          "data": {
            "text/plain": [
              "(7551, 224, 224, 3)"
            ]
          },
          "metadata": {},
          "execution_count": 7
        }
      ]
    },
    {
      "cell_type": "code",
      "source": [
        "import pandas as pd\n",
        "data = pd.read_csv(\"/content/drive/MyDrive/data.csv\")"
      ],
      "metadata": {
        "id": "4yTD4wJGra68"
      },
      "execution_count": 8,
      "outputs": []
    },
    {
      "cell_type": "code",
      "source": [
        "data.shape"
      ],
      "metadata": {
        "colab": {
          "base_uri": "https://localhost:8080/"
        },
        "id": "RUapCBPDsWr2",
        "outputId": "bbe0d392-7efe-414c-abe3-37db817eb893"
      },
      "execution_count": 9,
      "outputs": [
        {
          "output_type": "execute_result",
          "data": {
            "text/plain": [
              "(7551, 29)"
            ]
          },
          "metadata": {},
          "execution_count": 9
        }
      ]
    },
    {
      "cell_type": "code",
      "source": [
        "data.describe().T"
      ],
      "metadata": {
        "colab": {
          "base_uri": "https://localhost:8080/",
          "height": 1000
        },
        "id": "zG4FySbHOQ0F",
        "outputId": "b7bb776b-a3e9-49ff-84b0-6ca4db93c662"
      },
      "execution_count": 10,
      "outputs": [
        {
          "output_type": "execute_result",
          "data": {
            "text/plain": [
              "                            count         mean           std         min  \\\n",
              "Unnamed: 0                 7551.0  7002.905443   4066.874185    0.000000   \n",
              "Experiences Offered        7551.0     0.000000      0.000000    0.000000   \n",
              "Host Location              7551.0   224.627467     58.400028    0.000000   \n",
              "Host Total Listings Count  7551.0    11.361542     32.267210    0.000000   \n",
              "Latitude                   7551.0    40.426910      0.173015   39.317472   \n",
              "Longitude                  7551.0    -3.467004      1.175704   -3.832004   \n",
              "Property Type              7551.0     1.854059      4.689585    0.000000   \n",
              "Room Type                  7551.0     0.229241      0.428795    0.000000   \n",
              "Accommodates               7551.0     3.413455      1.640352    1.000000   \n",
              "Bathrooms                  7551.0     1.184678      0.503526    0.000000   \n",
              "Bedrooms                   7551.0     1.275063      0.777472    0.000000   \n",
              "Beds                       7551.0     1.994438      1.247608    1.000000   \n",
              "Bed Type                   7551.0     3.970600      0.214530    0.000000   \n",
              "Price                      7551.0    67.051384     25.265321   31.000000   \n",
              "Weekly Price               7551.0   333.642564    100.462875   90.000000   \n",
              "Monthly Price              7551.0  1479.652629    413.065289  275.000000   \n",
              "Security Deposit           7551.0   137.925838     76.750483   70.000000   \n",
              "Cleaning Fee               7551.0    29.303801     14.329708    4.000000   \n",
              "Guests Included            7551.0     1.653688      0.999165    1.000000   \n",
              "Extra People               7551.0     7.919613     11.130950    0.000000   \n",
              "Minimum Nights             7551.0     2.945438     14.088535    1.000000   \n",
              "Maximum Nights             7551.0  1033.599523  11684.612013    1.000000   \n",
              "Availability 30            7551.0     8.104489      8.331704    0.000000   \n",
              "Availability 365           7551.0   205.554231    123.408388    0.000000   \n",
              "Number of Reviews          7551.0    26.484969     41.343481    0.000000   \n",
              "Review Scores Value        7551.0     9.373858      0.868553    2.000000   \n",
              "Cancellation Policy        7551.0     1.126076      0.828145    0.000000   \n",
              "Reviews per Month          7551.0     1.848966      1.763578    0.020000   \n",
              "Diferencia dias            7551.0  1209.642564    592.615478  268.000000   \n",
              "\n",
              "                                   25%          50%           75%  \\\n",
              "Unnamed: 0                 3495.000000  6980.000000  10512.500000   \n",
              "Experiences Offered           0.000000     0.000000      0.000000   \n",
              "Host Location               236.000000   236.000000    236.000000   \n",
              "Host Total Listings Count     1.000000     2.000000      6.000000   \n",
              "Latitude                     40.410813    40.419071     40.427578   \n",
              "Longitude                    -3.707139    -3.701384     -3.694005   \n",
              "Property Type                 0.000000     0.000000      0.000000   \n",
              "Room Type                     0.000000     0.000000      0.000000   \n",
              "Accommodates                  2.000000     3.000000      4.000000   \n",
              "Bathrooms                     1.000000     1.000000      1.000000   \n",
              "Bedrooms                      1.000000     1.000000      2.000000   \n",
              "Beds                          1.000000     2.000000      2.000000   \n",
              "Bed Type                      4.000000     4.000000      4.000000   \n",
              "Price                        47.000000    61.000000     83.000000   \n",
              "Weekly Price                300.000000   300.000000    300.000000   \n",
              "Monthly Price              1500.000000  1500.000000   1500.000000   \n",
              "Security Deposit            100.000000   100.000000    150.000000   \n",
              "Cleaning Fee                 20.000000    30.000000     30.000000   \n",
              "Guests Included               1.000000     1.000000      2.000000   \n",
              "Extra People                  0.000000     5.000000     15.000000   \n",
              "Minimum Nights                1.000000     2.000000      3.000000   \n",
              "Maximum Nights              365.000000  1125.000000   1125.000000   \n",
              "Availability 30               1.000000     6.000000     12.000000   \n",
              "Availability 365             89.000000   245.000000    316.000000   \n",
              "Number of Reviews             1.000000    10.000000     34.000000   \n",
              "Review Scores Value           9.000000    10.000000     10.000000   \n",
              "Cancellation Policy           0.000000     1.000000      2.000000   \n",
              "Reviews per Month             0.700000     1.000000      2.630000   \n",
              "Diferencia dias             719.000000  1123.000000   1681.000000   \n",
              "\n",
              "                                      max  \n",
              "Unnamed: 0                   14000.000000  \n",
              "Experiences Offered              0.000000  \n",
              "Host Location                  447.000000  \n",
              "Host Total Listings Count      265.000000  \n",
              "Latitude                        41.418574  \n",
              "Longitude                        3.358584  \n",
              "Property Type                   21.000000  \n",
              "Room Type                        2.000000  \n",
              "Accommodates                    16.000000  \n",
              "Bathrooms                        8.000000  \n",
              "Bedrooms                        10.000000  \n",
              "Beds                            16.000000  \n",
              "Bed Type                         4.000000  \n",
              "Price                          139.000000  \n",
              "Weekly Price                   995.000000  \n",
              "Monthly Price                25000.000000  \n",
              "Security Deposit               990.000000  \n",
              "Cleaning Fee                   400.000000  \n",
              "Guests Included                 16.000000  \n",
              "Extra People                   276.000000  \n",
              "Minimum Nights                1125.000000  \n",
              "Maximum Nights             1000000.000000  \n",
              "Availability 30                 30.000000  \n",
              "Availability 365               365.000000  \n",
              "Number of Reviews              389.000000  \n",
              "Review Scores Value             10.000000  \n",
              "Cancellation Policy              4.000000  \n",
              "Reviews per Month               13.900000  \n",
              "Diferencia dias               3150.000000  "
            ],
            "text/html": [
              "\n",
              "  <div id=\"df-053b4074-2356-4854-9b3f-9b7895ebbbe1\">\n",
              "    <div class=\"colab-df-container\">\n",
              "      <div>\n",
              "<style scoped>\n",
              "    .dataframe tbody tr th:only-of-type {\n",
              "        vertical-align: middle;\n",
              "    }\n",
              "\n",
              "    .dataframe tbody tr th {\n",
              "        vertical-align: top;\n",
              "    }\n",
              "\n",
              "    .dataframe thead th {\n",
              "        text-align: right;\n",
              "    }\n",
              "</style>\n",
              "<table border=\"1\" class=\"dataframe\">\n",
              "  <thead>\n",
              "    <tr style=\"text-align: right;\">\n",
              "      <th></th>\n",
              "      <th>count</th>\n",
              "      <th>mean</th>\n",
              "      <th>std</th>\n",
              "      <th>min</th>\n",
              "      <th>25%</th>\n",
              "      <th>50%</th>\n",
              "      <th>75%</th>\n",
              "      <th>max</th>\n",
              "    </tr>\n",
              "  </thead>\n",
              "  <tbody>\n",
              "    <tr>\n",
              "      <th>Unnamed: 0</th>\n",
              "      <td>7551.0</td>\n",
              "      <td>7002.905443</td>\n",
              "      <td>4066.874185</td>\n",
              "      <td>0.000000</td>\n",
              "      <td>3495.000000</td>\n",
              "      <td>6980.000000</td>\n",
              "      <td>10512.500000</td>\n",
              "      <td>14000.000000</td>\n",
              "    </tr>\n",
              "    <tr>\n",
              "      <th>Experiences Offered</th>\n",
              "      <td>7551.0</td>\n",
              "      <td>0.000000</td>\n",
              "      <td>0.000000</td>\n",
              "      <td>0.000000</td>\n",
              "      <td>0.000000</td>\n",
              "      <td>0.000000</td>\n",
              "      <td>0.000000</td>\n",
              "      <td>0.000000</td>\n",
              "    </tr>\n",
              "    <tr>\n",
              "      <th>Host Location</th>\n",
              "      <td>7551.0</td>\n",
              "      <td>224.627467</td>\n",
              "      <td>58.400028</td>\n",
              "      <td>0.000000</td>\n",
              "      <td>236.000000</td>\n",
              "      <td>236.000000</td>\n",
              "      <td>236.000000</td>\n",
              "      <td>447.000000</td>\n",
              "    </tr>\n",
              "    <tr>\n",
              "      <th>Host Total Listings Count</th>\n",
              "      <td>7551.0</td>\n",
              "      <td>11.361542</td>\n",
              "      <td>32.267210</td>\n",
              "      <td>0.000000</td>\n",
              "      <td>1.000000</td>\n",
              "      <td>2.000000</td>\n",
              "      <td>6.000000</td>\n",
              "      <td>265.000000</td>\n",
              "    </tr>\n",
              "    <tr>\n",
              "      <th>Latitude</th>\n",
              "      <td>7551.0</td>\n",
              "      <td>40.426910</td>\n",
              "      <td>0.173015</td>\n",
              "      <td>39.317472</td>\n",
              "      <td>40.410813</td>\n",
              "      <td>40.419071</td>\n",
              "      <td>40.427578</td>\n",
              "      <td>41.418574</td>\n",
              "    </tr>\n",
              "    <tr>\n",
              "      <th>Longitude</th>\n",
              "      <td>7551.0</td>\n",
              "      <td>-3.467004</td>\n",
              "      <td>1.175704</td>\n",
              "      <td>-3.832004</td>\n",
              "      <td>-3.707139</td>\n",
              "      <td>-3.701384</td>\n",
              "      <td>-3.694005</td>\n",
              "      <td>3.358584</td>\n",
              "    </tr>\n",
              "    <tr>\n",
              "      <th>Property Type</th>\n",
              "      <td>7551.0</td>\n",
              "      <td>1.854059</td>\n",
              "      <td>4.689585</td>\n",
              "      <td>0.000000</td>\n",
              "      <td>0.000000</td>\n",
              "      <td>0.000000</td>\n",
              "      <td>0.000000</td>\n",
              "      <td>21.000000</td>\n",
              "    </tr>\n",
              "    <tr>\n",
              "      <th>Room Type</th>\n",
              "      <td>7551.0</td>\n",
              "      <td>0.229241</td>\n",
              "      <td>0.428795</td>\n",
              "      <td>0.000000</td>\n",
              "      <td>0.000000</td>\n",
              "      <td>0.000000</td>\n",
              "      <td>0.000000</td>\n",
              "      <td>2.000000</td>\n",
              "    </tr>\n",
              "    <tr>\n",
              "      <th>Accommodates</th>\n",
              "      <td>7551.0</td>\n",
              "      <td>3.413455</td>\n",
              "      <td>1.640352</td>\n",
              "      <td>1.000000</td>\n",
              "      <td>2.000000</td>\n",
              "      <td>3.000000</td>\n",
              "      <td>4.000000</td>\n",
              "      <td>16.000000</td>\n",
              "    </tr>\n",
              "    <tr>\n",
              "      <th>Bathrooms</th>\n",
              "      <td>7551.0</td>\n",
              "      <td>1.184678</td>\n",
              "      <td>0.503526</td>\n",
              "      <td>0.000000</td>\n",
              "      <td>1.000000</td>\n",
              "      <td>1.000000</td>\n",
              "      <td>1.000000</td>\n",
              "      <td>8.000000</td>\n",
              "    </tr>\n",
              "    <tr>\n",
              "      <th>Bedrooms</th>\n",
              "      <td>7551.0</td>\n",
              "      <td>1.275063</td>\n",
              "      <td>0.777472</td>\n",
              "      <td>0.000000</td>\n",
              "      <td>1.000000</td>\n",
              "      <td>1.000000</td>\n",
              "      <td>2.000000</td>\n",
              "      <td>10.000000</td>\n",
              "    </tr>\n",
              "    <tr>\n",
              "      <th>Beds</th>\n",
              "      <td>7551.0</td>\n",
              "      <td>1.994438</td>\n",
              "      <td>1.247608</td>\n",
              "      <td>1.000000</td>\n",
              "      <td>1.000000</td>\n",
              "      <td>2.000000</td>\n",
              "      <td>2.000000</td>\n",
              "      <td>16.000000</td>\n",
              "    </tr>\n",
              "    <tr>\n",
              "      <th>Bed Type</th>\n",
              "      <td>7551.0</td>\n",
              "      <td>3.970600</td>\n",
              "      <td>0.214530</td>\n",
              "      <td>0.000000</td>\n",
              "      <td>4.000000</td>\n",
              "      <td>4.000000</td>\n",
              "      <td>4.000000</td>\n",
              "      <td>4.000000</td>\n",
              "    </tr>\n",
              "    <tr>\n",
              "      <th>Price</th>\n",
              "      <td>7551.0</td>\n",
              "      <td>67.051384</td>\n",
              "      <td>25.265321</td>\n",
              "      <td>31.000000</td>\n",
              "      <td>47.000000</td>\n",
              "      <td>61.000000</td>\n",
              "      <td>83.000000</td>\n",
              "      <td>139.000000</td>\n",
              "    </tr>\n",
              "    <tr>\n",
              "      <th>Weekly Price</th>\n",
              "      <td>7551.0</td>\n",
              "      <td>333.642564</td>\n",
              "      <td>100.462875</td>\n",
              "      <td>90.000000</td>\n",
              "      <td>300.000000</td>\n",
              "      <td>300.000000</td>\n",
              "      <td>300.000000</td>\n",
              "      <td>995.000000</td>\n",
              "    </tr>\n",
              "    <tr>\n",
              "      <th>Monthly Price</th>\n",
              "      <td>7551.0</td>\n",
              "      <td>1479.652629</td>\n",
              "      <td>413.065289</td>\n",
              "      <td>275.000000</td>\n",
              "      <td>1500.000000</td>\n",
              "      <td>1500.000000</td>\n",
              "      <td>1500.000000</td>\n",
              "      <td>25000.000000</td>\n",
              "    </tr>\n",
              "    <tr>\n",
              "      <th>Security Deposit</th>\n",
              "      <td>7551.0</td>\n",
              "      <td>137.925838</td>\n",
              "      <td>76.750483</td>\n",
              "      <td>70.000000</td>\n",
              "      <td>100.000000</td>\n",
              "      <td>100.000000</td>\n",
              "      <td>150.000000</td>\n",
              "      <td>990.000000</td>\n",
              "    </tr>\n",
              "    <tr>\n",
              "      <th>Cleaning Fee</th>\n",
              "      <td>7551.0</td>\n",
              "      <td>29.303801</td>\n",
              "      <td>14.329708</td>\n",
              "      <td>4.000000</td>\n",
              "      <td>20.000000</td>\n",
              "      <td>30.000000</td>\n",
              "      <td>30.000000</td>\n",
              "      <td>400.000000</td>\n",
              "    </tr>\n",
              "    <tr>\n",
              "      <th>Guests Included</th>\n",
              "      <td>7551.0</td>\n",
              "      <td>1.653688</td>\n",
              "      <td>0.999165</td>\n",
              "      <td>1.000000</td>\n",
              "      <td>1.000000</td>\n",
              "      <td>1.000000</td>\n",
              "      <td>2.000000</td>\n",
              "      <td>16.000000</td>\n",
              "    </tr>\n",
              "    <tr>\n",
              "      <th>Extra People</th>\n",
              "      <td>7551.0</td>\n",
              "      <td>7.919613</td>\n",
              "      <td>11.130950</td>\n",
              "      <td>0.000000</td>\n",
              "      <td>0.000000</td>\n",
              "      <td>5.000000</td>\n",
              "      <td>15.000000</td>\n",
              "      <td>276.000000</td>\n",
              "    </tr>\n",
              "    <tr>\n",
              "      <th>Minimum Nights</th>\n",
              "      <td>7551.0</td>\n",
              "      <td>2.945438</td>\n",
              "      <td>14.088535</td>\n",
              "      <td>1.000000</td>\n",
              "      <td>1.000000</td>\n",
              "      <td>2.000000</td>\n",
              "      <td>3.000000</td>\n",
              "      <td>1125.000000</td>\n",
              "    </tr>\n",
              "    <tr>\n",
              "      <th>Maximum Nights</th>\n",
              "      <td>7551.0</td>\n",
              "      <td>1033.599523</td>\n",
              "      <td>11684.612013</td>\n",
              "      <td>1.000000</td>\n",
              "      <td>365.000000</td>\n",
              "      <td>1125.000000</td>\n",
              "      <td>1125.000000</td>\n",
              "      <td>1000000.000000</td>\n",
              "    </tr>\n",
              "    <tr>\n",
              "      <th>Availability 30</th>\n",
              "      <td>7551.0</td>\n",
              "      <td>8.104489</td>\n",
              "      <td>8.331704</td>\n",
              "      <td>0.000000</td>\n",
              "      <td>1.000000</td>\n",
              "      <td>6.000000</td>\n",
              "      <td>12.000000</td>\n",
              "      <td>30.000000</td>\n",
              "    </tr>\n",
              "    <tr>\n",
              "      <th>Availability 365</th>\n",
              "      <td>7551.0</td>\n",
              "      <td>205.554231</td>\n",
              "      <td>123.408388</td>\n",
              "      <td>0.000000</td>\n",
              "      <td>89.000000</td>\n",
              "      <td>245.000000</td>\n",
              "      <td>316.000000</td>\n",
              "      <td>365.000000</td>\n",
              "    </tr>\n",
              "    <tr>\n",
              "      <th>Number of Reviews</th>\n",
              "      <td>7551.0</td>\n",
              "      <td>26.484969</td>\n",
              "      <td>41.343481</td>\n",
              "      <td>0.000000</td>\n",
              "      <td>1.000000</td>\n",
              "      <td>10.000000</td>\n",
              "      <td>34.000000</td>\n",
              "      <td>389.000000</td>\n",
              "    </tr>\n",
              "    <tr>\n",
              "      <th>Review Scores Value</th>\n",
              "      <td>7551.0</td>\n",
              "      <td>9.373858</td>\n",
              "      <td>0.868553</td>\n",
              "      <td>2.000000</td>\n",
              "      <td>9.000000</td>\n",
              "      <td>10.000000</td>\n",
              "      <td>10.000000</td>\n",
              "      <td>10.000000</td>\n",
              "    </tr>\n",
              "    <tr>\n",
              "      <th>Cancellation Policy</th>\n",
              "      <td>7551.0</td>\n",
              "      <td>1.126076</td>\n",
              "      <td>0.828145</td>\n",
              "      <td>0.000000</td>\n",
              "      <td>0.000000</td>\n",
              "      <td>1.000000</td>\n",
              "      <td>2.000000</td>\n",
              "      <td>4.000000</td>\n",
              "    </tr>\n",
              "    <tr>\n",
              "      <th>Reviews per Month</th>\n",
              "      <td>7551.0</td>\n",
              "      <td>1.848966</td>\n",
              "      <td>1.763578</td>\n",
              "      <td>0.020000</td>\n",
              "      <td>0.700000</td>\n",
              "      <td>1.000000</td>\n",
              "      <td>2.630000</td>\n",
              "      <td>13.900000</td>\n",
              "    </tr>\n",
              "    <tr>\n",
              "      <th>Diferencia dias</th>\n",
              "      <td>7551.0</td>\n",
              "      <td>1209.642564</td>\n",
              "      <td>592.615478</td>\n",
              "      <td>268.000000</td>\n",
              "      <td>719.000000</td>\n",
              "      <td>1123.000000</td>\n",
              "      <td>1681.000000</td>\n",
              "      <td>3150.000000</td>\n",
              "    </tr>\n",
              "  </tbody>\n",
              "</table>\n",
              "</div>\n",
              "      <button class=\"colab-df-convert\" onclick=\"convertToInteractive('df-053b4074-2356-4854-9b3f-9b7895ebbbe1')\"\n",
              "              title=\"Convert this dataframe to an interactive table.\"\n",
              "              style=\"display:none;\">\n",
              "        \n",
              "  <svg xmlns=\"http://www.w3.org/2000/svg\" height=\"24px\"viewBox=\"0 0 24 24\"\n",
              "       width=\"24px\">\n",
              "    <path d=\"M0 0h24v24H0V0z\" fill=\"none\"/>\n",
              "    <path d=\"M18.56 5.44l.94 2.06.94-2.06 2.06-.94-2.06-.94-.94-2.06-.94 2.06-2.06.94zm-11 1L8.5 8.5l.94-2.06 2.06-.94-2.06-.94L8.5 2.5l-.94 2.06-2.06.94zm10 10l.94 2.06.94-2.06 2.06-.94-2.06-.94-.94-2.06-.94 2.06-2.06.94z\"/><path d=\"M17.41 7.96l-1.37-1.37c-.4-.4-.92-.59-1.43-.59-.52 0-1.04.2-1.43.59L10.3 9.45l-7.72 7.72c-.78.78-.78 2.05 0 2.83L4 21.41c.39.39.9.59 1.41.59.51 0 1.02-.2 1.41-.59l7.78-7.78 2.81-2.81c.8-.78.8-2.07 0-2.86zM5.41 20L4 18.59l7.72-7.72 1.47 1.35L5.41 20z\"/>\n",
              "  </svg>\n",
              "      </button>\n",
              "      \n",
              "  <style>\n",
              "    .colab-df-container {\n",
              "      display:flex;\n",
              "      flex-wrap:wrap;\n",
              "      gap: 12px;\n",
              "    }\n",
              "\n",
              "    .colab-df-convert {\n",
              "      background-color: #E8F0FE;\n",
              "      border: none;\n",
              "      border-radius: 50%;\n",
              "      cursor: pointer;\n",
              "      display: none;\n",
              "      fill: #1967D2;\n",
              "      height: 32px;\n",
              "      padding: 0 0 0 0;\n",
              "      width: 32px;\n",
              "    }\n",
              "\n",
              "    .colab-df-convert:hover {\n",
              "      background-color: #E2EBFA;\n",
              "      box-shadow: 0px 1px 2px rgba(60, 64, 67, 0.3), 0px 1px 3px 1px rgba(60, 64, 67, 0.15);\n",
              "      fill: #174EA6;\n",
              "    }\n",
              "\n",
              "    [theme=dark] .colab-df-convert {\n",
              "      background-color: #3B4455;\n",
              "      fill: #D2E3FC;\n",
              "    }\n",
              "\n",
              "    [theme=dark] .colab-df-convert:hover {\n",
              "      background-color: #434B5C;\n",
              "      box-shadow: 0px 1px 3px 1px rgba(0, 0, 0, 0.15);\n",
              "      filter: drop-shadow(0px 1px 2px rgba(0, 0, 0, 0.3));\n",
              "      fill: #FFFFFF;\n",
              "    }\n",
              "  </style>\n",
              "\n",
              "      <script>\n",
              "        const buttonEl =\n",
              "          document.querySelector('#df-053b4074-2356-4854-9b3f-9b7895ebbbe1 button.colab-df-convert');\n",
              "        buttonEl.style.display =\n",
              "          google.colab.kernel.accessAllowed ? 'block' : 'none';\n",
              "\n",
              "        async function convertToInteractive(key) {\n",
              "          const element = document.querySelector('#df-053b4074-2356-4854-9b3f-9b7895ebbbe1');\n",
              "          const dataTable =\n",
              "            await google.colab.kernel.invokeFunction('convertToInteractive',\n",
              "                                                     [key], {});\n",
              "          if (!dataTable) return;\n",
              "\n",
              "          const docLinkHtml = 'Like what you see? Visit the ' +\n",
              "            '<a target=\"_blank\" href=https://colab.research.google.com/notebooks/data_table.ipynb>data table notebook</a>'\n",
              "            + ' to learn more about interactive tables.';\n",
              "          element.innerHTML = '';\n",
              "          dataTable['output_type'] = 'display_data';\n",
              "          await google.colab.output.renderOutput(dataTable, element);\n",
              "          const docLink = document.createElement('div');\n",
              "          docLink.innerHTML = docLinkHtml;\n",
              "          element.appendChild(docLink);\n",
              "        }\n",
              "      </script>\n",
              "    </div>\n",
              "  </div>\n",
              "  "
            ]
          },
          "metadata": {},
          "execution_count": 10
        }
      ]
    },
    {
      "cell_type": "code",
      "source": [
        "y1 = data['Price']\n",
        "x1 = data.drop(['Price'],axis=1)\n",
        "\n"
      ],
      "metadata": {
        "id": "Yo4fwhbjDuRK"
      },
      "execution_count": 11,
      "outputs": []
    },
    {
      "cell_type": "code",
      "source": [
        "print(x1.shape,y1.shape)"
      ],
      "metadata": {
        "colab": {
          "base_uri": "https://localhost:8080/"
        },
        "id": "U1820SYHutfV",
        "outputId": "e2405a13-f472-4348-d2da-cb3131574db9"
      },
      "execution_count": 12,
      "outputs": [
        {
          "output_type": "stream",
          "name": "stdout",
          "text": [
            "(7551, 28) (7551,)\n"
          ]
        }
      ]
    },
    {
      "cell_type": "code",
      "source": [
        "x1.describe().T"
      ],
      "metadata": {
        "colab": {
          "base_uri": "https://localhost:8080/",
          "height": 971
        },
        "id": "RtsS0HqV0LwB",
        "outputId": "8a6c3ef2-ef9f-4e82-b964-688c203be14a"
      },
      "execution_count": 13,
      "outputs": [
        {
          "output_type": "execute_result",
          "data": {
            "text/plain": [
              "                            count         mean           std         min  \\\n",
              "Unnamed: 0                 7551.0  7002.905443   4066.874185    0.000000   \n",
              "Experiences Offered        7551.0     0.000000      0.000000    0.000000   \n",
              "Host Location              7551.0   224.627467     58.400028    0.000000   \n",
              "Host Total Listings Count  7551.0    11.361542     32.267210    0.000000   \n",
              "Latitude                   7551.0    40.426910      0.173015   39.317472   \n",
              "Longitude                  7551.0    -3.467004      1.175704   -3.832004   \n",
              "Property Type              7551.0     1.854059      4.689585    0.000000   \n",
              "Room Type                  7551.0     0.229241      0.428795    0.000000   \n",
              "Accommodates               7551.0     3.413455      1.640352    1.000000   \n",
              "Bathrooms                  7551.0     1.184678      0.503526    0.000000   \n",
              "Bedrooms                   7551.0     1.275063      0.777472    0.000000   \n",
              "Beds                       7551.0     1.994438      1.247608    1.000000   \n",
              "Bed Type                   7551.0     3.970600      0.214530    0.000000   \n",
              "Weekly Price               7551.0   333.642564    100.462875   90.000000   \n",
              "Monthly Price              7551.0  1479.652629    413.065289  275.000000   \n",
              "Security Deposit           7551.0   137.925838     76.750483   70.000000   \n",
              "Cleaning Fee               7551.0    29.303801     14.329708    4.000000   \n",
              "Guests Included            7551.0     1.653688      0.999165    1.000000   \n",
              "Extra People               7551.0     7.919613     11.130950    0.000000   \n",
              "Minimum Nights             7551.0     2.945438     14.088535    1.000000   \n",
              "Maximum Nights             7551.0  1033.599523  11684.612013    1.000000   \n",
              "Availability 30            7551.0     8.104489      8.331704    0.000000   \n",
              "Availability 365           7551.0   205.554231    123.408388    0.000000   \n",
              "Number of Reviews          7551.0    26.484969     41.343481    0.000000   \n",
              "Review Scores Value        7551.0     9.373858      0.868553    2.000000   \n",
              "Cancellation Policy        7551.0     1.126076      0.828145    0.000000   \n",
              "Reviews per Month          7551.0     1.848966      1.763578    0.020000   \n",
              "Diferencia dias            7551.0  1209.642564    592.615478  268.000000   \n",
              "\n",
              "                                   25%          50%           75%  \\\n",
              "Unnamed: 0                 3495.000000  6980.000000  10512.500000   \n",
              "Experiences Offered           0.000000     0.000000      0.000000   \n",
              "Host Location               236.000000   236.000000    236.000000   \n",
              "Host Total Listings Count     1.000000     2.000000      6.000000   \n",
              "Latitude                     40.410813    40.419071     40.427578   \n",
              "Longitude                    -3.707139    -3.701384     -3.694005   \n",
              "Property Type                 0.000000     0.000000      0.000000   \n",
              "Room Type                     0.000000     0.000000      0.000000   \n",
              "Accommodates                  2.000000     3.000000      4.000000   \n",
              "Bathrooms                     1.000000     1.000000      1.000000   \n",
              "Bedrooms                      1.000000     1.000000      2.000000   \n",
              "Beds                          1.000000     2.000000      2.000000   \n",
              "Bed Type                      4.000000     4.000000      4.000000   \n",
              "Weekly Price                300.000000   300.000000    300.000000   \n",
              "Monthly Price              1500.000000  1500.000000   1500.000000   \n",
              "Security Deposit            100.000000   100.000000    150.000000   \n",
              "Cleaning Fee                 20.000000    30.000000     30.000000   \n",
              "Guests Included               1.000000     1.000000      2.000000   \n",
              "Extra People                  0.000000     5.000000     15.000000   \n",
              "Minimum Nights                1.000000     2.000000      3.000000   \n",
              "Maximum Nights              365.000000  1125.000000   1125.000000   \n",
              "Availability 30               1.000000     6.000000     12.000000   \n",
              "Availability 365             89.000000   245.000000    316.000000   \n",
              "Number of Reviews             1.000000    10.000000     34.000000   \n",
              "Review Scores Value           9.000000    10.000000     10.000000   \n",
              "Cancellation Policy           0.000000     1.000000      2.000000   \n",
              "Reviews per Month             0.700000     1.000000      2.630000   \n",
              "Diferencia dias             719.000000  1123.000000   1681.000000   \n",
              "\n",
              "                                      max  \n",
              "Unnamed: 0                   14000.000000  \n",
              "Experiences Offered              0.000000  \n",
              "Host Location                  447.000000  \n",
              "Host Total Listings Count      265.000000  \n",
              "Latitude                        41.418574  \n",
              "Longitude                        3.358584  \n",
              "Property Type                   21.000000  \n",
              "Room Type                        2.000000  \n",
              "Accommodates                    16.000000  \n",
              "Bathrooms                        8.000000  \n",
              "Bedrooms                        10.000000  \n",
              "Beds                            16.000000  \n",
              "Bed Type                         4.000000  \n",
              "Weekly Price                   995.000000  \n",
              "Monthly Price                25000.000000  \n",
              "Security Deposit               990.000000  \n",
              "Cleaning Fee                   400.000000  \n",
              "Guests Included                 16.000000  \n",
              "Extra People                   276.000000  \n",
              "Minimum Nights                1125.000000  \n",
              "Maximum Nights             1000000.000000  \n",
              "Availability 30                 30.000000  \n",
              "Availability 365               365.000000  \n",
              "Number of Reviews              389.000000  \n",
              "Review Scores Value             10.000000  \n",
              "Cancellation Policy              4.000000  \n",
              "Reviews per Month               13.900000  \n",
              "Diferencia dias               3150.000000  "
            ],
            "text/html": [
              "\n",
              "  <div id=\"df-f3d0ccf7-eb8b-4ed6-aec5-8088fa41a9c8\">\n",
              "    <div class=\"colab-df-container\">\n",
              "      <div>\n",
              "<style scoped>\n",
              "    .dataframe tbody tr th:only-of-type {\n",
              "        vertical-align: middle;\n",
              "    }\n",
              "\n",
              "    .dataframe tbody tr th {\n",
              "        vertical-align: top;\n",
              "    }\n",
              "\n",
              "    .dataframe thead th {\n",
              "        text-align: right;\n",
              "    }\n",
              "</style>\n",
              "<table border=\"1\" class=\"dataframe\">\n",
              "  <thead>\n",
              "    <tr style=\"text-align: right;\">\n",
              "      <th></th>\n",
              "      <th>count</th>\n",
              "      <th>mean</th>\n",
              "      <th>std</th>\n",
              "      <th>min</th>\n",
              "      <th>25%</th>\n",
              "      <th>50%</th>\n",
              "      <th>75%</th>\n",
              "      <th>max</th>\n",
              "    </tr>\n",
              "  </thead>\n",
              "  <tbody>\n",
              "    <tr>\n",
              "      <th>Unnamed: 0</th>\n",
              "      <td>7551.0</td>\n",
              "      <td>7002.905443</td>\n",
              "      <td>4066.874185</td>\n",
              "      <td>0.000000</td>\n",
              "      <td>3495.000000</td>\n",
              "      <td>6980.000000</td>\n",
              "      <td>10512.500000</td>\n",
              "      <td>14000.000000</td>\n",
              "    </tr>\n",
              "    <tr>\n",
              "      <th>Experiences Offered</th>\n",
              "      <td>7551.0</td>\n",
              "      <td>0.000000</td>\n",
              "      <td>0.000000</td>\n",
              "      <td>0.000000</td>\n",
              "      <td>0.000000</td>\n",
              "      <td>0.000000</td>\n",
              "      <td>0.000000</td>\n",
              "      <td>0.000000</td>\n",
              "    </tr>\n",
              "    <tr>\n",
              "      <th>Host Location</th>\n",
              "      <td>7551.0</td>\n",
              "      <td>224.627467</td>\n",
              "      <td>58.400028</td>\n",
              "      <td>0.000000</td>\n",
              "      <td>236.000000</td>\n",
              "      <td>236.000000</td>\n",
              "      <td>236.000000</td>\n",
              "      <td>447.000000</td>\n",
              "    </tr>\n",
              "    <tr>\n",
              "      <th>Host Total Listings Count</th>\n",
              "      <td>7551.0</td>\n",
              "      <td>11.361542</td>\n",
              "      <td>32.267210</td>\n",
              "      <td>0.000000</td>\n",
              "      <td>1.000000</td>\n",
              "      <td>2.000000</td>\n",
              "      <td>6.000000</td>\n",
              "      <td>265.000000</td>\n",
              "    </tr>\n",
              "    <tr>\n",
              "      <th>Latitude</th>\n",
              "      <td>7551.0</td>\n",
              "      <td>40.426910</td>\n",
              "      <td>0.173015</td>\n",
              "      <td>39.317472</td>\n",
              "      <td>40.410813</td>\n",
              "      <td>40.419071</td>\n",
              "      <td>40.427578</td>\n",
              "      <td>41.418574</td>\n",
              "    </tr>\n",
              "    <tr>\n",
              "      <th>Longitude</th>\n",
              "      <td>7551.0</td>\n",
              "      <td>-3.467004</td>\n",
              "      <td>1.175704</td>\n",
              "      <td>-3.832004</td>\n",
              "      <td>-3.707139</td>\n",
              "      <td>-3.701384</td>\n",
              "      <td>-3.694005</td>\n",
              "      <td>3.358584</td>\n",
              "    </tr>\n",
              "    <tr>\n",
              "      <th>Property Type</th>\n",
              "      <td>7551.0</td>\n",
              "      <td>1.854059</td>\n",
              "      <td>4.689585</td>\n",
              "      <td>0.000000</td>\n",
              "      <td>0.000000</td>\n",
              "      <td>0.000000</td>\n",
              "      <td>0.000000</td>\n",
              "      <td>21.000000</td>\n",
              "    </tr>\n",
              "    <tr>\n",
              "      <th>Room Type</th>\n",
              "      <td>7551.0</td>\n",
              "      <td>0.229241</td>\n",
              "      <td>0.428795</td>\n",
              "      <td>0.000000</td>\n",
              "      <td>0.000000</td>\n",
              "      <td>0.000000</td>\n",
              "      <td>0.000000</td>\n",
              "      <td>2.000000</td>\n",
              "    </tr>\n",
              "    <tr>\n",
              "      <th>Accommodates</th>\n",
              "      <td>7551.0</td>\n",
              "      <td>3.413455</td>\n",
              "      <td>1.640352</td>\n",
              "      <td>1.000000</td>\n",
              "      <td>2.000000</td>\n",
              "      <td>3.000000</td>\n",
              "      <td>4.000000</td>\n",
              "      <td>16.000000</td>\n",
              "    </tr>\n",
              "    <tr>\n",
              "      <th>Bathrooms</th>\n",
              "      <td>7551.0</td>\n",
              "      <td>1.184678</td>\n",
              "      <td>0.503526</td>\n",
              "      <td>0.000000</td>\n",
              "      <td>1.000000</td>\n",
              "      <td>1.000000</td>\n",
              "      <td>1.000000</td>\n",
              "      <td>8.000000</td>\n",
              "    </tr>\n",
              "    <tr>\n",
              "      <th>Bedrooms</th>\n",
              "      <td>7551.0</td>\n",
              "      <td>1.275063</td>\n",
              "      <td>0.777472</td>\n",
              "      <td>0.000000</td>\n",
              "      <td>1.000000</td>\n",
              "      <td>1.000000</td>\n",
              "      <td>2.000000</td>\n",
              "      <td>10.000000</td>\n",
              "    </tr>\n",
              "    <tr>\n",
              "      <th>Beds</th>\n",
              "      <td>7551.0</td>\n",
              "      <td>1.994438</td>\n",
              "      <td>1.247608</td>\n",
              "      <td>1.000000</td>\n",
              "      <td>1.000000</td>\n",
              "      <td>2.000000</td>\n",
              "      <td>2.000000</td>\n",
              "      <td>16.000000</td>\n",
              "    </tr>\n",
              "    <tr>\n",
              "      <th>Bed Type</th>\n",
              "      <td>7551.0</td>\n",
              "      <td>3.970600</td>\n",
              "      <td>0.214530</td>\n",
              "      <td>0.000000</td>\n",
              "      <td>4.000000</td>\n",
              "      <td>4.000000</td>\n",
              "      <td>4.000000</td>\n",
              "      <td>4.000000</td>\n",
              "    </tr>\n",
              "    <tr>\n",
              "      <th>Weekly Price</th>\n",
              "      <td>7551.0</td>\n",
              "      <td>333.642564</td>\n",
              "      <td>100.462875</td>\n",
              "      <td>90.000000</td>\n",
              "      <td>300.000000</td>\n",
              "      <td>300.000000</td>\n",
              "      <td>300.000000</td>\n",
              "      <td>995.000000</td>\n",
              "    </tr>\n",
              "    <tr>\n",
              "      <th>Monthly Price</th>\n",
              "      <td>7551.0</td>\n",
              "      <td>1479.652629</td>\n",
              "      <td>413.065289</td>\n",
              "      <td>275.000000</td>\n",
              "      <td>1500.000000</td>\n",
              "      <td>1500.000000</td>\n",
              "      <td>1500.000000</td>\n",
              "      <td>25000.000000</td>\n",
              "    </tr>\n",
              "    <tr>\n",
              "      <th>Security Deposit</th>\n",
              "      <td>7551.0</td>\n",
              "      <td>137.925838</td>\n",
              "      <td>76.750483</td>\n",
              "      <td>70.000000</td>\n",
              "      <td>100.000000</td>\n",
              "      <td>100.000000</td>\n",
              "      <td>150.000000</td>\n",
              "      <td>990.000000</td>\n",
              "    </tr>\n",
              "    <tr>\n",
              "      <th>Cleaning Fee</th>\n",
              "      <td>7551.0</td>\n",
              "      <td>29.303801</td>\n",
              "      <td>14.329708</td>\n",
              "      <td>4.000000</td>\n",
              "      <td>20.000000</td>\n",
              "      <td>30.000000</td>\n",
              "      <td>30.000000</td>\n",
              "      <td>400.000000</td>\n",
              "    </tr>\n",
              "    <tr>\n",
              "      <th>Guests Included</th>\n",
              "      <td>7551.0</td>\n",
              "      <td>1.653688</td>\n",
              "      <td>0.999165</td>\n",
              "      <td>1.000000</td>\n",
              "      <td>1.000000</td>\n",
              "      <td>1.000000</td>\n",
              "      <td>2.000000</td>\n",
              "      <td>16.000000</td>\n",
              "    </tr>\n",
              "    <tr>\n",
              "      <th>Extra People</th>\n",
              "      <td>7551.0</td>\n",
              "      <td>7.919613</td>\n",
              "      <td>11.130950</td>\n",
              "      <td>0.000000</td>\n",
              "      <td>0.000000</td>\n",
              "      <td>5.000000</td>\n",
              "      <td>15.000000</td>\n",
              "      <td>276.000000</td>\n",
              "    </tr>\n",
              "    <tr>\n",
              "      <th>Minimum Nights</th>\n",
              "      <td>7551.0</td>\n",
              "      <td>2.945438</td>\n",
              "      <td>14.088535</td>\n",
              "      <td>1.000000</td>\n",
              "      <td>1.000000</td>\n",
              "      <td>2.000000</td>\n",
              "      <td>3.000000</td>\n",
              "      <td>1125.000000</td>\n",
              "    </tr>\n",
              "    <tr>\n",
              "      <th>Maximum Nights</th>\n",
              "      <td>7551.0</td>\n",
              "      <td>1033.599523</td>\n",
              "      <td>11684.612013</td>\n",
              "      <td>1.000000</td>\n",
              "      <td>365.000000</td>\n",
              "      <td>1125.000000</td>\n",
              "      <td>1125.000000</td>\n",
              "      <td>1000000.000000</td>\n",
              "    </tr>\n",
              "    <tr>\n",
              "      <th>Availability 30</th>\n",
              "      <td>7551.0</td>\n",
              "      <td>8.104489</td>\n",
              "      <td>8.331704</td>\n",
              "      <td>0.000000</td>\n",
              "      <td>1.000000</td>\n",
              "      <td>6.000000</td>\n",
              "      <td>12.000000</td>\n",
              "      <td>30.000000</td>\n",
              "    </tr>\n",
              "    <tr>\n",
              "      <th>Availability 365</th>\n",
              "      <td>7551.0</td>\n",
              "      <td>205.554231</td>\n",
              "      <td>123.408388</td>\n",
              "      <td>0.000000</td>\n",
              "      <td>89.000000</td>\n",
              "      <td>245.000000</td>\n",
              "      <td>316.000000</td>\n",
              "      <td>365.000000</td>\n",
              "    </tr>\n",
              "    <tr>\n",
              "      <th>Number of Reviews</th>\n",
              "      <td>7551.0</td>\n",
              "      <td>26.484969</td>\n",
              "      <td>41.343481</td>\n",
              "      <td>0.000000</td>\n",
              "      <td>1.000000</td>\n",
              "      <td>10.000000</td>\n",
              "      <td>34.000000</td>\n",
              "      <td>389.000000</td>\n",
              "    </tr>\n",
              "    <tr>\n",
              "      <th>Review Scores Value</th>\n",
              "      <td>7551.0</td>\n",
              "      <td>9.373858</td>\n",
              "      <td>0.868553</td>\n",
              "      <td>2.000000</td>\n",
              "      <td>9.000000</td>\n",
              "      <td>10.000000</td>\n",
              "      <td>10.000000</td>\n",
              "      <td>10.000000</td>\n",
              "    </tr>\n",
              "    <tr>\n",
              "      <th>Cancellation Policy</th>\n",
              "      <td>7551.0</td>\n",
              "      <td>1.126076</td>\n",
              "      <td>0.828145</td>\n",
              "      <td>0.000000</td>\n",
              "      <td>0.000000</td>\n",
              "      <td>1.000000</td>\n",
              "      <td>2.000000</td>\n",
              "      <td>4.000000</td>\n",
              "    </tr>\n",
              "    <tr>\n",
              "      <th>Reviews per Month</th>\n",
              "      <td>7551.0</td>\n",
              "      <td>1.848966</td>\n",
              "      <td>1.763578</td>\n",
              "      <td>0.020000</td>\n",
              "      <td>0.700000</td>\n",
              "      <td>1.000000</td>\n",
              "      <td>2.630000</td>\n",
              "      <td>13.900000</td>\n",
              "    </tr>\n",
              "    <tr>\n",
              "      <th>Diferencia dias</th>\n",
              "      <td>7551.0</td>\n",
              "      <td>1209.642564</td>\n",
              "      <td>592.615478</td>\n",
              "      <td>268.000000</td>\n",
              "      <td>719.000000</td>\n",
              "      <td>1123.000000</td>\n",
              "      <td>1681.000000</td>\n",
              "      <td>3150.000000</td>\n",
              "    </tr>\n",
              "  </tbody>\n",
              "</table>\n",
              "</div>\n",
              "      <button class=\"colab-df-convert\" onclick=\"convertToInteractive('df-f3d0ccf7-eb8b-4ed6-aec5-8088fa41a9c8')\"\n",
              "              title=\"Convert this dataframe to an interactive table.\"\n",
              "              style=\"display:none;\">\n",
              "        \n",
              "  <svg xmlns=\"http://www.w3.org/2000/svg\" height=\"24px\"viewBox=\"0 0 24 24\"\n",
              "       width=\"24px\">\n",
              "    <path d=\"M0 0h24v24H0V0z\" fill=\"none\"/>\n",
              "    <path d=\"M18.56 5.44l.94 2.06.94-2.06 2.06-.94-2.06-.94-.94-2.06-.94 2.06-2.06.94zm-11 1L8.5 8.5l.94-2.06 2.06-.94-2.06-.94L8.5 2.5l-.94 2.06-2.06.94zm10 10l.94 2.06.94-2.06 2.06-.94-2.06-.94-.94-2.06-.94 2.06-2.06.94z\"/><path d=\"M17.41 7.96l-1.37-1.37c-.4-.4-.92-.59-1.43-.59-.52 0-1.04.2-1.43.59L10.3 9.45l-7.72 7.72c-.78.78-.78 2.05 0 2.83L4 21.41c.39.39.9.59 1.41.59.51 0 1.02-.2 1.41-.59l7.78-7.78 2.81-2.81c.8-.78.8-2.07 0-2.86zM5.41 20L4 18.59l7.72-7.72 1.47 1.35L5.41 20z\"/>\n",
              "  </svg>\n",
              "      </button>\n",
              "      \n",
              "  <style>\n",
              "    .colab-df-container {\n",
              "      display:flex;\n",
              "      flex-wrap:wrap;\n",
              "      gap: 12px;\n",
              "    }\n",
              "\n",
              "    .colab-df-convert {\n",
              "      background-color: #E8F0FE;\n",
              "      border: none;\n",
              "      border-radius: 50%;\n",
              "      cursor: pointer;\n",
              "      display: none;\n",
              "      fill: #1967D2;\n",
              "      height: 32px;\n",
              "      padding: 0 0 0 0;\n",
              "      width: 32px;\n",
              "    }\n",
              "\n",
              "    .colab-df-convert:hover {\n",
              "      background-color: #E2EBFA;\n",
              "      box-shadow: 0px 1px 2px rgba(60, 64, 67, 0.3), 0px 1px 3px 1px rgba(60, 64, 67, 0.15);\n",
              "      fill: #174EA6;\n",
              "    }\n",
              "\n",
              "    [theme=dark] .colab-df-convert {\n",
              "      background-color: #3B4455;\n",
              "      fill: #D2E3FC;\n",
              "    }\n",
              "\n",
              "    [theme=dark] .colab-df-convert:hover {\n",
              "      background-color: #434B5C;\n",
              "      box-shadow: 0px 1px 3px 1px rgba(0, 0, 0, 0.15);\n",
              "      filter: drop-shadow(0px 1px 2px rgba(0, 0, 0, 0.3));\n",
              "      fill: #FFFFFF;\n",
              "    }\n",
              "  </style>\n",
              "\n",
              "      <script>\n",
              "        const buttonEl =\n",
              "          document.querySelector('#df-f3d0ccf7-eb8b-4ed6-aec5-8088fa41a9c8 button.colab-df-convert');\n",
              "        buttonEl.style.display =\n",
              "          google.colab.kernel.accessAllowed ? 'block' : 'none';\n",
              "\n",
              "        async function convertToInteractive(key) {\n",
              "          const element = document.querySelector('#df-f3d0ccf7-eb8b-4ed6-aec5-8088fa41a9c8');\n",
              "          const dataTable =\n",
              "            await google.colab.kernel.invokeFunction('convertToInteractive',\n",
              "                                                     [key], {});\n",
              "          if (!dataTable) return;\n",
              "\n",
              "          const docLinkHtml = 'Like what you see? Visit the ' +\n",
              "            '<a target=\"_blank\" href=https://colab.research.google.com/notebooks/data_table.ipynb>data table notebook</a>'\n",
              "            + ' to learn more about interactive tables.';\n",
              "          element.innerHTML = '';\n",
              "          dataTable['output_type'] = 'display_data';\n",
              "          await google.colab.output.renderOutput(dataTable, element);\n",
              "          const docLink = document.createElement('div');\n",
              "          docLink.innerHTML = docLinkHtml;\n",
              "          element.appendChild(docLink);\n",
              "        }\n",
              "      </script>\n",
              "    </div>\n",
              "  </div>\n",
              "  "
            ]
          },
          "metadata": {},
          "execution_count": 13
        }
      ]
    },
    {
      "cell_type": "markdown",
      "source": [
        "Se quitan dos variables ya que no aportan valor, ya que en una de ellos todos los valores son cero"
      ],
      "metadata": {
        "id": "ELjaOAb7Clnj"
      }
    },
    {
      "cell_type": "code",
      "source": [
        "x1 = x1.drop(['Unnamed: 0','Experiences Offered'],axis=1)"
      ],
      "metadata": {
        "id": "rRUIxCC_ClPE"
      },
      "execution_count": 14,
      "outputs": []
    },
    {
      "cell_type": "code",
      "source": [
        "x1.shape"
      ],
      "metadata": {
        "colab": {
          "base_uri": "https://localhost:8080/"
        },
        "id": "-26bHS2VDs8z",
        "outputId": "19521b1c-9492-4252-e5a9-68cc2a217734"
      },
      "execution_count": 15,
      "outputs": [
        {
          "output_type": "execute_result",
          "data": {
            "text/plain": [
              "(7551, 26)"
            ]
          },
          "metadata": {},
          "execution_count": 15
        }
      ]
    },
    {
      "cell_type": "markdown",
      "source": [
        "## Modelo MLP de variables numéricas y categóricas"
      ],
      "metadata": {
        "id": "w_7XKFEA2Fm5"
      }
    },
    {
      "cell_type": "markdown",
      "source": [
        "En el fichero EDA se ha procedido a la transformación de las variable categóricas en núméricas"
      ],
      "metadata": {
        "id": "cCSk-lme2Ugy"
      }
    },
    {
      "cell_type": "markdown",
      "source": [
        "Procedemos a separar en train, validation y test"
      ],
      "metadata": {
        "id": "pGrYjgysD8Gy"
      }
    },
    {
      "cell_type": "code",
      "source": [
        "import tensorflow as tf\n",
        "from tensorflow.keras import Sequential\n",
        "from tensorflow.keras.layers import Dense, Dropout, BatchNormalization, Activation, Flatten\n",
        "from tensorflow.keras.callbacks import EarlyStopping\n",
        "import seaborn as sns\n",
        "from tensorflow import keras\n",
        "from tensorflow.keras import layers\n",
        "from tensorflow.keras.utils import plot_model\n",
        "from tensorflow.keras.utils import to_categorical\n",
        "from sklearn.preprocessing import StandardScaler\n",
        "from sklearn.preprocessing import MinMaxScaler\n",
        "from tensorflow.keras.optimizers import Adam\n",
        "from tensorflow.keras import models, layers, optimizers, regularizers\n",
        "from numpy.random import seed\n",
        "from sklearn.model_selection import train_test_split\n",
        "from sklearn.preprocessing import StandardScaler\n",
        "from sklearn.metrics import explained_variance_score, mean_squared_error, r2_score\n",
        "from hyperopt import fmin, tpe, hp, STATUS_OK, Trials\n",
        "from tensorflow.keras.layers import Conv2D, MaxPooling2D\n",
        "\n",
        "seed = 1234\n",
        "\n",
        "x1, x1_test, y1, y1_test = train_test_split(x1,y1,test_size = 0.20, shuffle =True, random_state = seed)\n",
        "x1_train, x1_val, y1_train, y1_val = train_test_split(x1,y1,test_size = 0.15, shuffle =True, random_state = seed)"
      ],
      "metadata": {
        "id": "W6kFEqBrDxho"
      },
      "execution_count": 16,
      "outputs": []
    },
    {
      "cell_type": "code",
      "source": [
        "print( x1_train.shape, x1_val.shape, x1_test.shape)"
      ],
      "metadata": {
        "colab": {
          "base_uri": "https://localhost:8080/"
        },
        "id": "oNdoMvlAhliA",
        "outputId": "b2b5c3d2-a432-4b0e-b015-309c0ccab968"
      },
      "execution_count": 17,
      "outputs": [
        {
          "output_type": "stream",
          "name": "stdout",
          "text": [
            "(5134, 26) (906, 26) (1511, 26)\n"
          ]
        }
      ]
    },
    {
      "cell_type": "markdown",
      "source": [
        "Se realiza la normalización de las variables"
      ],
      "metadata": {
        "id": "-tdK9RQa2igI"
      }
    },
    {
      "cell_type": "code",
      "source": [
        "from sklearn.preprocessing import MinMaxScaler, StandardScaler\n",
        "\n",
        "mn = MinMaxScaler()\n",
        "\n",
        "x_train_scaled = pd.DataFrame(mn.fit_transform(x1_train), columns = x1_train.columns)\n",
        "x_test_scaled = pd.DataFrame(mn.fit_transform(x1_test), columns = x1_test.columns)\n",
        "x_val_scaled = pd.DataFrame(mn.fit_transform(x1_val), columns = x1_val.columns)\n",
        "\n",
        "y_train_scaled = pd.DataFrame(mn.fit_transform(y1_train.to_numpy().reshape(-1,1)), columns = ['price'], index = x_train_scaled.index)\n",
        "y_test_scaled = pd.DataFrame(mn.fit_transform(y1_test.to_numpy().reshape(-1,1)), columns = ['price'], index = x_test_scaled.index)\n",
        "y_val_scaled = pd.DataFrame(mn.fit_transform(y1_val.to_numpy().reshape(-1,1)), columns = ['price'], index = x_val_scaled.index)"
      ],
      "metadata": {
        "id": "jHEyfkD3GyIW"
      },
      "execution_count": 18,
      "outputs": []
    },
    {
      "cell_type": "code",
      "source": [
        "x_train_scaled.head()"
      ],
      "metadata": {
        "colab": {
          "base_uri": "https://localhost:8080/",
          "height": 352
        },
        "id": "c8zQ85adYwIl",
        "outputId": "539daeef-b43b-46b7-f3ad-6a4e1cc88077"
      },
      "execution_count": 19,
      "outputs": [
        {
          "output_type": "execute_result",
          "data": {
            "text/plain": [
              "   Host Location  Host Total Listings Count  Latitude  Longitude  \\\n",
              "0       0.524775                   0.086957  0.521743   0.017435   \n",
              "1       0.304054                   0.004831  0.519060   0.017751   \n",
              "2       0.524775                   0.072464  0.522220   0.018323   \n",
              "3       0.524775                   0.004831  0.532353   0.021420   \n",
              "4       0.304054                   0.009662  0.527965   0.018538   \n",
              "\n",
              "   Property Type  Room Type  Accommodates  Bathrooms  Bedrooms      Beds  ...  \\\n",
              "0            0.0        0.0      0.066667   0.166667       0.1  0.000000  ...   \n",
              "1            0.0        0.0      0.133333   0.166667       0.1  0.066667  ...   \n",
              "2            0.0        0.0      0.200000   0.166667       0.0  0.066667  ...   \n",
              "3            0.0        0.0      0.133333   0.166667       0.1  0.000000  ...   \n",
              "4            0.0        0.0      0.066667   0.166667       0.1  0.000000  ...   \n",
              "\n",
              "   Extra People  Minimum Nights  Maximum Nights  Availability 30  \\\n",
              "0      0.000000        0.000000        0.001124         0.466667   \n",
              "1      0.043478        0.010870        0.000009         0.400000   \n",
              "2      0.090580        0.005435        0.000029         0.033333   \n",
              "3      0.000000        0.016304        0.001124         0.000000   \n",
              "4      0.000000        0.021739        0.000059         0.000000   \n",
              "\n",
              "   Availability 365  Number of Reviews  Review Scores Value  \\\n",
              "0          0.356164           0.011364                1.000   \n",
              "1          0.408219           0.028409                0.875   \n",
              "2          0.416438           0.005682                0.875   \n",
              "3          0.000000           0.002841                1.000   \n",
              "4          0.761644           0.036932                0.875   \n",
              "\n",
              "   Cancellation Policy  Reviews per Month  Diferencia dias  \n",
              "0                  0.5           0.293078         0.265094  \n",
              "1                  0.0           0.219440         0.136364  \n",
              "2                  0.5           0.005155         0.401110  \n",
              "3                  0.5           0.022828         0.311589  \n",
              "4                  0.5           0.019146         0.539556  \n",
              "\n",
              "[5 rows x 26 columns]"
            ],
            "text/html": [
              "\n",
              "  <div id=\"df-bcf9c751-59c9-4803-9b0e-2a681b3edc30\">\n",
              "    <div class=\"colab-df-container\">\n",
              "      <div>\n",
              "<style scoped>\n",
              "    .dataframe tbody tr th:only-of-type {\n",
              "        vertical-align: middle;\n",
              "    }\n",
              "\n",
              "    .dataframe tbody tr th {\n",
              "        vertical-align: top;\n",
              "    }\n",
              "\n",
              "    .dataframe thead th {\n",
              "        text-align: right;\n",
              "    }\n",
              "</style>\n",
              "<table border=\"1\" class=\"dataframe\">\n",
              "  <thead>\n",
              "    <tr style=\"text-align: right;\">\n",
              "      <th></th>\n",
              "      <th>Host Location</th>\n",
              "      <th>Host Total Listings Count</th>\n",
              "      <th>Latitude</th>\n",
              "      <th>Longitude</th>\n",
              "      <th>Property Type</th>\n",
              "      <th>Room Type</th>\n",
              "      <th>Accommodates</th>\n",
              "      <th>Bathrooms</th>\n",
              "      <th>Bedrooms</th>\n",
              "      <th>Beds</th>\n",
              "      <th>...</th>\n",
              "      <th>Extra People</th>\n",
              "      <th>Minimum Nights</th>\n",
              "      <th>Maximum Nights</th>\n",
              "      <th>Availability 30</th>\n",
              "      <th>Availability 365</th>\n",
              "      <th>Number of Reviews</th>\n",
              "      <th>Review Scores Value</th>\n",
              "      <th>Cancellation Policy</th>\n",
              "      <th>Reviews per Month</th>\n",
              "      <th>Diferencia dias</th>\n",
              "    </tr>\n",
              "  </thead>\n",
              "  <tbody>\n",
              "    <tr>\n",
              "      <th>0</th>\n",
              "      <td>0.524775</td>\n",
              "      <td>0.086957</td>\n",
              "      <td>0.521743</td>\n",
              "      <td>0.017435</td>\n",
              "      <td>0.0</td>\n",
              "      <td>0.0</td>\n",
              "      <td>0.066667</td>\n",
              "      <td>0.166667</td>\n",
              "      <td>0.1</td>\n",
              "      <td>0.000000</td>\n",
              "      <td>...</td>\n",
              "      <td>0.000000</td>\n",
              "      <td>0.000000</td>\n",
              "      <td>0.001124</td>\n",
              "      <td>0.466667</td>\n",
              "      <td>0.356164</td>\n",
              "      <td>0.011364</td>\n",
              "      <td>1.000</td>\n",
              "      <td>0.5</td>\n",
              "      <td>0.293078</td>\n",
              "      <td>0.265094</td>\n",
              "    </tr>\n",
              "    <tr>\n",
              "      <th>1</th>\n",
              "      <td>0.304054</td>\n",
              "      <td>0.004831</td>\n",
              "      <td>0.519060</td>\n",
              "      <td>0.017751</td>\n",
              "      <td>0.0</td>\n",
              "      <td>0.0</td>\n",
              "      <td>0.133333</td>\n",
              "      <td>0.166667</td>\n",
              "      <td>0.1</td>\n",
              "      <td>0.066667</td>\n",
              "      <td>...</td>\n",
              "      <td>0.043478</td>\n",
              "      <td>0.010870</td>\n",
              "      <td>0.000009</td>\n",
              "      <td>0.400000</td>\n",
              "      <td>0.408219</td>\n",
              "      <td>0.028409</td>\n",
              "      <td>0.875</td>\n",
              "      <td>0.0</td>\n",
              "      <td>0.219440</td>\n",
              "      <td>0.136364</td>\n",
              "    </tr>\n",
              "    <tr>\n",
              "      <th>2</th>\n",
              "      <td>0.524775</td>\n",
              "      <td>0.072464</td>\n",
              "      <td>0.522220</td>\n",
              "      <td>0.018323</td>\n",
              "      <td>0.0</td>\n",
              "      <td>0.0</td>\n",
              "      <td>0.200000</td>\n",
              "      <td>0.166667</td>\n",
              "      <td>0.0</td>\n",
              "      <td>0.066667</td>\n",
              "      <td>...</td>\n",
              "      <td>0.090580</td>\n",
              "      <td>0.005435</td>\n",
              "      <td>0.000029</td>\n",
              "      <td>0.033333</td>\n",
              "      <td>0.416438</td>\n",
              "      <td>0.005682</td>\n",
              "      <td>0.875</td>\n",
              "      <td>0.5</td>\n",
              "      <td>0.005155</td>\n",
              "      <td>0.401110</td>\n",
              "    </tr>\n",
              "    <tr>\n",
              "      <th>3</th>\n",
              "      <td>0.524775</td>\n",
              "      <td>0.004831</td>\n",
              "      <td>0.532353</td>\n",
              "      <td>0.021420</td>\n",
              "      <td>0.0</td>\n",
              "      <td>0.0</td>\n",
              "      <td>0.133333</td>\n",
              "      <td>0.166667</td>\n",
              "      <td>0.1</td>\n",
              "      <td>0.000000</td>\n",
              "      <td>...</td>\n",
              "      <td>0.000000</td>\n",
              "      <td>0.016304</td>\n",
              "      <td>0.001124</td>\n",
              "      <td>0.000000</td>\n",
              "      <td>0.000000</td>\n",
              "      <td>0.002841</td>\n",
              "      <td>1.000</td>\n",
              "      <td>0.5</td>\n",
              "      <td>0.022828</td>\n",
              "      <td>0.311589</td>\n",
              "    </tr>\n",
              "    <tr>\n",
              "      <th>4</th>\n",
              "      <td>0.304054</td>\n",
              "      <td>0.009662</td>\n",
              "      <td>0.527965</td>\n",
              "      <td>0.018538</td>\n",
              "      <td>0.0</td>\n",
              "      <td>0.0</td>\n",
              "      <td>0.066667</td>\n",
              "      <td>0.166667</td>\n",
              "      <td>0.1</td>\n",
              "      <td>0.000000</td>\n",
              "      <td>...</td>\n",
              "      <td>0.000000</td>\n",
              "      <td>0.021739</td>\n",
              "      <td>0.000059</td>\n",
              "      <td>0.000000</td>\n",
              "      <td>0.761644</td>\n",
              "      <td>0.036932</td>\n",
              "      <td>0.875</td>\n",
              "      <td>0.5</td>\n",
              "      <td>0.019146</td>\n",
              "      <td>0.539556</td>\n",
              "    </tr>\n",
              "  </tbody>\n",
              "</table>\n",
              "<p>5 rows × 26 columns</p>\n",
              "</div>\n",
              "      <button class=\"colab-df-convert\" onclick=\"convertToInteractive('df-bcf9c751-59c9-4803-9b0e-2a681b3edc30')\"\n",
              "              title=\"Convert this dataframe to an interactive table.\"\n",
              "              style=\"display:none;\">\n",
              "        \n",
              "  <svg xmlns=\"http://www.w3.org/2000/svg\" height=\"24px\"viewBox=\"0 0 24 24\"\n",
              "       width=\"24px\">\n",
              "    <path d=\"M0 0h24v24H0V0z\" fill=\"none\"/>\n",
              "    <path d=\"M18.56 5.44l.94 2.06.94-2.06 2.06-.94-2.06-.94-.94-2.06-.94 2.06-2.06.94zm-11 1L8.5 8.5l.94-2.06 2.06-.94-2.06-.94L8.5 2.5l-.94 2.06-2.06.94zm10 10l.94 2.06.94-2.06 2.06-.94-2.06-.94-.94-2.06-.94 2.06-2.06.94z\"/><path d=\"M17.41 7.96l-1.37-1.37c-.4-.4-.92-.59-1.43-.59-.52 0-1.04.2-1.43.59L10.3 9.45l-7.72 7.72c-.78.78-.78 2.05 0 2.83L4 21.41c.39.39.9.59 1.41.59.51 0 1.02-.2 1.41-.59l7.78-7.78 2.81-2.81c.8-.78.8-2.07 0-2.86zM5.41 20L4 18.59l7.72-7.72 1.47 1.35L5.41 20z\"/>\n",
              "  </svg>\n",
              "      </button>\n",
              "      \n",
              "  <style>\n",
              "    .colab-df-container {\n",
              "      display:flex;\n",
              "      flex-wrap:wrap;\n",
              "      gap: 12px;\n",
              "    }\n",
              "\n",
              "    .colab-df-convert {\n",
              "      background-color: #E8F0FE;\n",
              "      border: none;\n",
              "      border-radius: 50%;\n",
              "      cursor: pointer;\n",
              "      display: none;\n",
              "      fill: #1967D2;\n",
              "      height: 32px;\n",
              "      padding: 0 0 0 0;\n",
              "      width: 32px;\n",
              "    }\n",
              "\n",
              "    .colab-df-convert:hover {\n",
              "      background-color: #E2EBFA;\n",
              "      box-shadow: 0px 1px 2px rgba(60, 64, 67, 0.3), 0px 1px 3px 1px rgba(60, 64, 67, 0.15);\n",
              "      fill: #174EA6;\n",
              "    }\n",
              "\n",
              "    [theme=dark] .colab-df-convert {\n",
              "      background-color: #3B4455;\n",
              "      fill: #D2E3FC;\n",
              "    }\n",
              "\n",
              "    [theme=dark] .colab-df-convert:hover {\n",
              "      background-color: #434B5C;\n",
              "      box-shadow: 0px 1px 3px 1px rgba(0, 0, 0, 0.15);\n",
              "      filter: drop-shadow(0px 1px 2px rgba(0, 0, 0, 0.3));\n",
              "      fill: #FFFFFF;\n",
              "    }\n",
              "  </style>\n",
              "\n",
              "      <script>\n",
              "        const buttonEl =\n",
              "          document.querySelector('#df-bcf9c751-59c9-4803-9b0e-2a681b3edc30 button.colab-df-convert');\n",
              "        buttonEl.style.display =\n",
              "          google.colab.kernel.accessAllowed ? 'block' : 'none';\n",
              "\n",
              "        async function convertToInteractive(key) {\n",
              "          const element = document.querySelector('#df-bcf9c751-59c9-4803-9b0e-2a681b3edc30');\n",
              "          const dataTable =\n",
              "            await google.colab.kernel.invokeFunction('convertToInteractive',\n",
              "                                                     [key], {});\n",
              "          if (!dataTable) return;\n",
              "\n",
              "          const docLinkHtml = 'Like what you see? Visit the ' +\n",
              "            '<a target=\"_blank\" href=https://colab.research.google.com/notebooks/data_table.ipynb>data table notebook</a>'\n",
              "            + ' to learn more about interactive tables.';\n",
              "          element.innerHTML = '';\n",
              "          dataTable['output_type'] = 'display_data';\n",
              "          await google.colab.output.renderOutput(dataTable, element);\n",
              "          const docLink = document.createElement('div');\n",
              "          docLink.innerHTML = docLinkHtml;\n",
              "          element.appendChild(docLink);\n",
              "        }\n",
              "      </script>\n",
              "    </div>\n",
              "  </div>\n",
              "  "
            ]
          },
          "metadata": {},
          "execution_count": 19
        }
      ]
    },
    {
      "cell_type": "code",
      "source": [
        "y_train_scaled.head()"
      ],
      "metadata": {
        "colab": {
          "base_uri": "https://localhost:8080/",
          "height": 206
        },
        "id": "gstNL7dZZPww",
        "outputId": "843a6660-5d8f-48e3-b6bc-92ade6aa0994"
      },
      "execution_count": 20,
      "outputs": [
        {
          "output_type": "execute_result",
          "data": {
            "text/plain": [
              "      price\n",
              "0  0.361111\n",
              "1  0.166667\n",
              "2  0.416667\n",
              "3  0.777778\n",
              "4  0.175926"
            ],
            "text/html": [
              "\n",
              "  <div id=\"df-372c975b-b5df-41dd-b846-4a48772d5af0\">\n",
              "    <div class=\"colab-df-container\">\n",
              "      <div>\n",
              "<style scoped>\n",
              "    .dataframe tbody tr th:only-of-type {\n",
              "        vertical-align: middle;\n",
              "    }\n",
              "\n",
              "    .dataframe tbody tr th {\n",
              "        vertical-align: top;\n",
              "    }\n",
              "\n",
              "    .dataframe thead th {\n",
              "        text-align: right;\n",
              "    }\n",
              "</style>\n",
              "<table border=\"1\" class=\"dataframe\">\n",
              "  <thead>\n",
              "    <tr style=\"text-align: right;\">\n",
              "      <th></th>\n",
              "      <th>price</th>\n",
              "    </tr>\n",
              "  </thead>\n",
              "  <tbody>\n",
              "    <tr>\n",
              "      <th>0</th>\n",
              "      <td>0.361111</td>\n",
              "    </tr>\n",
              "    <tr>\n",
              "      <th>1</th>\n",
              "      <td>0.166667</td>\n",
              "    </tr>\n",
              "    <tr>\n",
              "      <th>2</th>\n",
              "      <td>0.416667</td>\n",
              "    </tr>\n",
              "    <tr>\n",
              "      <th>3</th>\n",
              "      <td>0.777778</td>\n",
              "    </tr>\n",
              "    <tr>\n",
              "      <th>4</th>\n",
              "      <td>0.175926</td>\n",
              "    </tr>\n",
              "  </tbody>\n",
              "</table>\n",
              "</div>\n",
              "      <button class=\"colab-df-convert\" onclick=\"convertToInteractive('df-372c975b-b5df-41dd-b846-4a48772d5af0')\"\n",
              "              title=\"Convert this dataframe to an interactive table.\"\n",
              "              style=\"display:none;\">\n",
              "        \n",
              "  <svg xmlns=\"http://www.w3.org/2000/svg\" height=\"24px\"viewBox=\"0 0 24 24\"\n",
              "       width=\"24px\">\n",
              "    <path d=\"M0 0h24v24H0V0z\" fill=\"none\"/>\n",
              "    <path d=\"M18.56 5.44l.94 2.06.94-2.06 2.06-.94-2.06-.94-.94-2.06-.94 2.06-2.06.94zm-11 1L8.5 8.5l.94-2.06 2.06-.94-2.06-.94L8.5 2.5l-.94 2.06-2.06.94zm10 10l.94 2.06.94-2.06 2.06-.94-2.06-.94-.94-2.06-.94 2.06-2.06.94z\"/><path d=\"M17.41 7.96l-1.37-1.37c-.4-.4-.92-.59-1.43-.59-.52 0-1.04.2-1.43.59L10.3 9.45l-7.72 7.72c-.78.78-.78 2.05 0 2.83L4 21.41c.39.39.9.59 1.41.59.51 0 1.02-.2 1.41-.59l7.78-7.78 2.81-2.81c.8-.78.8-2.07 0-2.86zM5.41 20L4 18.59l7.72-7.72 1.47 1.35L5.41 20z\"/>\n",
              "  </svg>\n",
              "      </button>\n",
              "      \n",
              "  <style>\n",
              "    .colab-df-container {\n",
              "      display:flex;\n",
              "      flex-wrap:wrap;\n",
              "      gap: 12px;\n",
              "    }\n",
              "\n",
              "    .colab-df-convert {\n",
              "      background-color: #E8F0FE;\n",
              "      border: none;\n",
              "      border-radius: 50%;\n",
              "      cursor: pointer;\n",
              "      display: none;\n",
              "      fill: #1967D2;\n",
              "      height: 32px;\n",
              "      padding: 0 0 0 0;\n",
              "      width: 32px;\n",
              "    }\n",
              "\n",
              "    .colab-df-convert:hover {\n",
              "      background-color: #E2EBFA;\n",
              "      box-shadow: 0px 1px 2px rgba(60, 64, 67, 0.3), 0px 1px 3px 1px rgba(60, 64, 67, 0.15);\n",
              "      fill: #174EA6;\n",
              "    }\n",
              "\n",
              "    [theme=dark] .colab-df-convert {\n",
              "      background-color: #3B4455;\n",
              "      fill: #D2E3FC;\n",
              "    }\n",
              "\n",
              "    [theme=dark] .colab-df-convert:hover {\n",
              "      background-color: #434B5C;\n",
              "      box-shadow: 0px 1px 3px 1px rgba(0, 0, 0, 0.15);\n",
              "      filter: drop-shadow(0px 1px 2px rgba(0, 0, 0, 0.3));\n",
              "      fill: #FFFFFF;\n",
              "    }\n",
              "  </style>\n",
              "\n",
              "      <script>\n",
              "        const buttonEl =\n",
              "          document.querySelector('#df-372c975b-b5df-41dd-b846-4a48772d5af0 button.colab-df-convert');\n",
              "        buttonEl.style.display =\n",
              "          google.colab.kernel.accessAllowed ? 'block' : 'none';\n",
              "\n",
              "        async function convertToInteractive(key) {\n",
              "          const element = document.querySelector('#df-372c975b-b5df-41dd-b846-4a48772d5af0');\n",
              "          const dataTable =\n",
              "            await google.colab.kernel.invokeFunction('convertToInteractive',\n",
              "                                                     [key], {});\n",
              "          if (!dataTable) return;\n",
              "\n",
              "          const docLinkHtml = 'Like what you see? Visit the ' +\n",
              "            '<a target=\"_blank\" href=https://colab.research.google.com/notebooks/data_table.ipynb>data table notebook</a>'\n",
              "            + ' to learn more about interactive tables.';\n",
              "          element.innerHTML = '';\n",
              "          dataTable['output_type'] = 'display_data';\n",
              "          await google.colab.output.renderOutput(dataTable, element);\n",
              "          const docLink = document.createElement('div');\n",
              "          docLink.innerHTML = docLinkHtml;\n",
              "          element.appendChild(docLink);\n",
              "        }\n",
              "      </script>\n",
              "    </div>\n",
              "  </div>\n",
              "  "
            ]
          },
          "metadata": {},
          "execution_count": 20
        }
      ]
    },
    {
      "cell_type": "markdown",
      "source": [
        "Se establece un modelo secuencial"
      ],
      "metadata": {
        "id": "2d6jvyoD2oVk"
      }
    },
    {
      "cell_type": "code",
      "source": [
        "MLP = Sequential()\n",
        "\n",
        "MLP.add(Dense(32, activation = 'relu', kernel_initializer = 'he_normal', input_shape = (x_train_scaled.shape[1],)))\n",
        "MLP.add(Dropout(0.001))\n",
        "MLP.add(Dense(16, activation = 'relu', kernel_initializer = 'he_normal', kernel_regularizer = 'l1'))\n",
        "MLP.add(Dropout(0.001))\n",
        "MLP.add(Dense(8, activation = 'relu', kernel_initializer = 'he_normal', kernel_regularizer = 'l1'))\n",
        "MLP.add(Dropout(0.001))\n",
        "MLP.add(Dense(1))"
      ],
      "metadata": {
        "id": "o_yLpYMPZ5pH"
      },
      "execution_count": 21,
      "outputs": []
    },
    {
      "cell_type": "code",
      "source": [
        "#Se compila el modelo\n",
        "MLP.compile(optimizer = 'adam', loss = 'mse', metrics = 'mae')"
      ],
      "metadata": {
        "id": "cXJ_eQrEbNtv"
      },
      "execution_count": 22,
      "outputs": []
    },
    {
      "cell_type": "code",
      "source": [
        "#Entrenamos el modelo\n",
        "es = EarlyStopping(monitor = 'val_loss', patience = 5)\n",
        "history = MLP.fit(x_train_scaled, y1_train, validation_data=(x_val_scaled, y1_val), epochs=100, \n",
        "                    batch_size=32, verbose=0, callbacks = [es])"
      ],
      "metadata": {
        "id": "8FvBDYYUboeo"
      },
      "execution_count": 23,
      "outputs": []
    },
    {
      "cell_type": "code",
      "source": [
        "#Se evalua el modelo\n",
        "loss, mae = MLP.evaluate(x_test_scaled, y1_test)"
      ],
      "metadata": {
        "colab": {
          "base_uri": "https://localhost:8080/"
        },
        "id": "AsAG9K9DbwzR",
        "outputId": "ac5a37f2-bc74-4dcd-aeed-e3c253057375"
      },
      "execution_count": 24,
      "outputs": [
        {
          "output_type": "stream",
          "name": "stdout",
          "text": [
            "48/48 [==============================] - 0s 2ms/step - loss: 422.5208 - mae: 16.6024\n"
          ]
        }
      ]
    },
    {
      "cell_type": "code",
      "source": [
        "preds_data = MLP.predict(x_test_scaled)"
      ],
      "metadata": {
        "id": "WTEtjC21aGnH"
      },
      "execution_count": 27,
      "outputs": []
    },
    {
      "cell_type": "code",
      "source": [
        "preds_data"
      ],
      "metadata": {
        "colab": {
          "base_uri": "https://localhost:8080/"
        },
        "id": "Yo14XoWHfxWo",
        "outputId": "fb05795b-16c8-4f12-d47b-52bcb80342aa"
      },
      "execution_count": 42,
      "outputs": [
        {
          "output_type": "execute_result",
          "data": {
            "text/plain": [
              "array([[ 95.77918 ],\n",
              "       [ 91.427444],\n",
              "       [103.03491 ],\n",
              "       ...,\n",
              "       [ 70.21558 ],\n",
              "       [110.897575],\n",
              "       [ 76.8877  ]], dtype=float32)"
            ]
          },
          "metadata": {},
          "execution_count": 42
        }
      ]
    },
    {
      "cell_type": "code",
      "source": [
        "#Se grafica el modelo\n",
        "import matplotlib.pyplot as plt\n",
        "plt.plot(history.history['loss'], label='train')\n",
        "plt.plot(history.history['val_loss'], label='val')\n",
        "plt.show()"
      ],
      "metadata": {
        "colab": {
          "base_uri": "https://localhost:8080/",
          "height": 265
        },
        "id": "kfPMEvGJb0X4",
        "outputId": "83a3dbeb-9ba0-4912-8763-b6ee200eb891"
      },
      "execution_count": null,
      "outputs": [
        {
          "output_type": "display_data",
          "data": {
            "text/plain": [
              "<Figure size 432x288 with 1 Axes>"
            ],
            "image/png": "[encoded data removed]"
          },
          "metadata": {
            "needs_background": "light"
          }
        }
      ]
    },
    {
      "cell_type": "markdown",
      "source": [
        "# Modelo CNN convolucional de las imágenes"
      ],
      "metadata": {
        "id": "FbKDeqbc2yuA"
      }
    },
    {
      "cell_type": "markdown",
      "source": [
        "Ahora vamos con el modelo de las imagenes que se va a llamar modelo CNN"
      ],
      "metadata": {
        "id": "wQ-_EpaajE-J"
      }
    },
    {
      "cell_type": "markdown",
      "source": [
        "Se separa en train, validation y test"
      ],
      "metadata": {
        "id": "u2vYgxzp3BIy"
      }
    },
    {
      "cell_type": "code",
      "source": [
        "images2, images2_test = train_test_split(images,test_size = 0.20, shuffle =True, random_state = seed)\n",
        "images2_train, images2_val = train_test_split(images2,test_size = 0.15, shuffle =True, random_state = seed)"
      ],
      "metadata": {
        "id": "VfkqVR1iyMBx"
      },
      "execution_count": 47,
      "outputs": []
    },
    {
      "cell_type": "markdown",
      "source": [
        "Se normalizan las imágenes"
      ],
      "metadata": {
        "id": "r5eQCJVc27dq"
      }
    },
    {
      "cell_type": "code",
      "source": [
        "images2_train = images2_train/255\n",
        "images2_val = images2_val/255\n",
        "images2_test = images2_test/255"
      ],
      "metadata": {
        "id": "XjdHWFUXxjyx"
      },
      "execution_count": 48,
      "outputs": []
    },
    {
      "cell_type": "markdown",
      "source": [
        "Hago un modelo from scratch ya que tengo sufientes datos ya que no he seleccionado solo 1000 imágenes. Sino que tengo 7.551 imágenes en el dataset completo antes de realizar la separación en train, validation y test"
      ],
      "metadata": {
        "id": "v2JrzpN_4iUY"
      }
    },
    {
      "cell_type": "code",
      "source": [
        "from keras.models import Sequential\n",
        "from keras.layers import Dense, Conv2D, Flatten, Dropout, MaxPool2D, AveragePooling2D\n",
        "cnn2 = Sequential()\n",
        "cnn2.add(Conv2D(128, kernel_size=3, strides=2, activation='relu',padding='SAME', input_shape=(224, 224, 3)))\n",
        "cnn2.add(MaxPool2D(pool_size=(3, 3), strides=2,padding='VALID'))\n",
        "cnn2.add(Conv2D(64, kernel_size=3, strides=1, activation='relu', padding='SAME'))\n",
        "cnn2.add(AveragePooling2D(pool_size=(3, 3), strides=1, padding='VALID'))\n",
        "cnn2.add(Conv2D(32, kernel_size=3,strides=2, activation='relu', padding='SAME'))\n",
        "cnn2.add(Dropout(.1))\n",
        "cnn2.add(Flatten())\n",
        "cnn2.add(Dense(128,activation='relu'))\n",
        "cnn2.add(Dropout(.1))\n",
        "cnn2.add(Dense(16,activation='relu'))\n",
        "cnn2.add(Dropout(.1))\n",
        "cnn2.add(Dense(1))"
      ],
      "metadata": {
        "id": "rsEANT4Fj8T_"
      },
      "execution_count": 56,
      "outputs": []
    },
    {
      "cell_type": "code",
      "source": [
        "#Se compila el modelo CNN\n",
        "cnn2.compile(optimizer = 'adam', loss = 'mse', metrics = 'mae')"
      ],
      "metadata": {
        "id": "jtiYk2qEkGnR"
      },
      "execution_count": 57,
      "outputs": []
    },
    {
      "cell_type": "code",
      "source": [
        "#Entrenamos el modelo\n",
        "es = EarlyStopping(monitor = 'val_loss', patience = 5)\n",
        "history2 = cnn2.fit(images2_train, y1_train, validation_data=(images2_val, y1_val), epochs=100, \n",
        "                    batch_size=32, verbose=0, callbacks = [es])"
      ],
      "metadata": {
        "id": "V5Xm6n3FkeGw"
      },
      "execution_count": 58,
      "outputs": []
    },
    {
      "cell_type": "code",
      "source": [
        "#Se evalua el modelo\n",
        "loss, mae = cnn2.evaluate(images2_test, y1_test)"
      ],
      "metadata": {
        "colab": {
          "base_uri": "https://localhost:8080/"
        },
        "id": "maCruNkXlDOz",
        "outputId": "2dcc9be2-0796-43a6-de1c-120e7824cd4b"
      },
      "execution_count": 59,
      "outputs": [
        {
          "output_type": "stream",
          "name": "stdout",
          "text": [
            "48/48 [==============================] - 1s 14ms/step - loss: 697.9922 - mae: 20.5441\n"
          ]
        }
      ]
    },
    {
      "cell_type": "code",
      "source": [
        "preds_images = cnn2.predict(images2_test)"
      ],
      "metadata": {
        "id": "2Y0WC5XDlNDb"
      },
      "execution_count": 60,
      "outputs": []
    },
    {
      "cell_type": "code",
      "source": [
        "preds_images"
      ],
      "metadata": {
        "colab": {
          "base_uri": "https://localhost:8080/"
        },
        "id": "UhERjzDfswps",
        "outputId": "09428144-73c9-4060-fbaf-afbd0d195a5c"
      },
      "execution_count": 61,
      "outputs": [
        {
          "output_type": "execute_result",
          "data": {
            "text/plain": [
              "array([[58.13508 ],\n",
              "       [57.757812],\n",
              "       [58.701298],\n",
              "       ...,\n",
              "       [57.728344],\n",
              "       [59.22136 ],\n",
              "       [63.442726]], dtype=float32)"
            ]
          },
          "metadata": {},
          "execution_count": 61
        }
      ]
    },
    {
      "cell_type": "code",
      "source": [
        "#Se grafica el modelo\n",
        "import matplotlib.pyplot as plt\n",
        "plt.plot(history2.history['loss'], label='train')\n",
        "plt.plot(history2.history['val_loss'], label='val')\n",
        "plt.show()"
      ],
      "metadata": {
        "colab": {
          "base_uri": "https://localhost:8080/",
          "height": 265
        },
        "id": "pSxOxrF1sIHI",
        "outputId": "7faf5f72-c62a-4e13-f769-73ea6c9f0a2d"
      },
      "execution_count": 62,
      "outputs": [
        {
          "output_type": "display_data",
          "data": {
            "text/plain": [
              "<Figure size 432x288 with 1 Axes>"
            ],
            "image/png": "[encoded data removed]"
          },
          "metadata": {
            "needs_background": "light"
          }
        }
      ]
    },
    {
      "cell_type": "markdown",
      "source": [
        "# Modelo hibrido"
      ],
      "metadata": {
        "id": "-d6qvc-u1iJ6"
      }
    },
    {
      "cell_type": "markdown",
      "source": [
        "Ahora hago el modelo hybrido dejando la ultima densa en 4 el modelo MLP y CNN"
      ],
      "metadata": {
        "id": "EcxIjfqIj6SQ"
      }
    },
    {
      "cell_type": "markdown",
      "source": [
        "Hago un modelo from scratch"
      ],
      "metadata": {
        "id": "_ejyGuGBxPiG"
      }
    },
    {
      "cell_type": "code",
      "source": [
        "images1, images1_test = train_test_split(images,test_size = 0.20, shuffle =True, random_state = seed)\n",
        "images1_train, images1_val = train_test_split(images1,test_size = 0.15, shuffle =True, random_state = seed)"
      ],
      "metadata": {
        "id": "VALmm0RVuKpm"
      },
      "execution_count": 74,
      "outputs": []
    },
    {
      "cell_type": "markdown",
      "source": [
        "Se hace el modelo cnn dejando en el último nodo un tamaño de 4"
      ],
      "metadata": {
        "id": "y9CvVCZQ3K5I"
      }
    },
    {
      "cell_type": "code",
      "source": [
        "from keras.models import Sequential\n",
        "from keras.layers import Dense, Conv2D, Flatten, Dropout, MaxPool2D, AveragePooling2D\n",
        "cnn = Sequential()\n",
        "cnn.add(Conv2D(128, kernel_size=3, strides=2, activation='relu',padding='SAME', input_shape=(224, 224, 3)))\n",
        "cnn.add(MaxPool2D(pool_size=(3, 3), strides=2,padding='VALID'))\n",
        "cnn.add(Conv2D(64, kernel_size=3, strides=1, activation='relu', padding='SAME'))\n",
        "cnn.add(AveragePooling2D(pool_size=(3, 3), strides=1, padding='VALID'))\n",
        "cnn.add(Conv2D(32, kernel_size=3,strides=2, activation='relu', padding='SAME'))\n",
        "cnn.add(Dropout(.5))\n",
        "cnn.add(Flatten())\n",
        "cnn.add(Dense(128,activation='relu'))\n",
        "cnn.add(Dropout(.5))\n",
        "cnn.add(Dense(16,activation='relu'))\n",
        "cnn.add(Dropout(.25))\n",
        "cnn.add(Dense(4))"
      ],
      "metadata": {
        "id": "cXCoQWxbrBTI"
      },
      "execution_count": 75,
      "outputs": []
    },
    {
      "cell_type": "code",
      "source": [
        "cnn.summary()"
      ],
      "metadata": {
        "colab": {
          "base_uri": "https://localhost:8080/"
        },
        "id": "q4oHSUmf4rei",
        "outputId": "b64c920e-0d98-4fe3-bcb5-01ba79dce834"
      },
      "execution_count": 76,
      "outputs": [
        {
          "output_type": "stream",
          "name": "stdout",
          "text": [
            "Model: \"sequential_5\"\n",
            "_________________________________________________________________\n",
            " Layer (type)                Output Shape              Param #   \n",
            "=================================================================\n",
            " conv2d_9 (Conv2D)           (None, 112, 112, 128)     3584      \n",
            "                                                                 \n",
            " max_pooling2d_3 (MaxPooling  (None, 55, 55, 128)      0         \n",
            " 2D)                                                             \n",
            "                                                                 \n",
            " conv2d_10 (Conv2D)          (None, 55, 55, 64)        73792     \n",
            "                                                                 \n",
            " average_pooling2d_3 (Averag  (None, 53, 53, 64)       0         \n",
            " ePooling2D)                                                     \n",
            "                                                                 \n",
            " conv2d_11 (Conv2D)          (None, 27, 27, 32)        18464     \n",
            "                                                                 \n",
            " dropout_15 (Dropout)        (None, 27, 27, 32)        0         \n",
            "                                                                 \n",
            " flatten_3 (Flatten)         (None, 23328)             0         \n",
            "                                                                 \n",
            " dense_19 (Dense)            (None, 128)               2986112   \n",
            "                                                                 \n",
            " dropout_16 (Dropout)        (None, 128)               0         \n",
            "                                                                 \n",
            " dense_20 (Dense)            (None, 16)                2064      \n",
            "                                                                 \n",
            " dropout_17 (Dropout)        (None, 16)                0         \n",
            "                                                                 \n",
            " dense_21 (Dense)            (None, 4)                 68        \n",
            "                                                                 \n",
            "=================================================================\n",
            "Total params: 3,084,084\n",
            "Trainable params: 3,084,084\n",
            "Non-trainable params: 0\n",
            "_________________________________________________________________\n"
          ]
        }
      ]
    },
    {
      "cell_type": "markdown",
      "source": [
        "Se hace lo mismo para el modelo MLP de numéricos y categóricos"
      ],
      "metadata": {
        "id": "iulpFrLW3XG5"
      }
    },
    {
      "cell_type": "code",
      "source": [
        "MLP2 = Sequential()\n",
        "\n",
        "MLP2.add(Dense(32, activation = 'relu', kernel_initializer = 'he_normal', input_shape = (x_train_scaled.shape[1],)))\n",
        "MLP2.add(Dropout(0.001))\n",
        "MLP2.add(Dense(16, activation = 'relu', kernel_initializer = 'he_normal', kernel_regularizer = 'l1'))\n",
        "MLP2.add(Dropout(0.001))\n",
        "MLP2.add(Dense(8, activation = 'relu', kernel_initializer = 'he_normal', kernel_regularizer = 'l1'))\n",
        "MLP2.add(Dropout(0.001))\n",
        "MLP2.add(Dense(4))"
      ],
      "metadata": {
        "id": "kXikcpQO1268"
      },
      "execution_count": 77,
      "outputs": []
    },
    {
      "cell_type": "code",
      "source": [
        "MLP2.summary()"
      ],
      "metadata": {
        "colab": {
          "base_uri": "https://localhost:8080/"
        },
        "id": "hvDjX-K736vT",
        "outputId": "2c734978-8d49-48b9-8bb2-49569a00221e"
      },
      "execution_count": 78,
      "outputs": [
        {
          "output_type": "stream",
          "name": "stdout",
          "text": [
            "Model: \"sequential_6\"\n",
            "_________________________________________________________________\n",
            " Layer (type)                Output Shape              Param #   \n",
            "=================================================================\n",
            " dense_22 (Dense)            (None, 32)                864       \n",
            "                                                                 \n",
            " dropout_18 (Dropout)        (None, 32)                0         \n",
            "                                                                 \n",
            " dense_23 (Dense)            (None, 16)                528       \n",
            "                                                                 \n",
            " dropout_19 (Dropout)        (None, 16)                0         \n",
            "                                                                 \n",
            " dense_24 (Dense)            (None, 8)                 136       \n",
            "                                                                 \n",
            " dropout_20 (Dropout)        (None, 8)                 0         \n",
            "                                                                 \n",
            " dense_25 (Dense)            (None, 4)                 36        \n",
            "                                                                 \n",
            "=================================================================\n",
            "Total params: 1,564\n",
            "Trainable params: 1,564\n",
            "Non-trainable params: 0\n",
            "_________________________________________________________________\n"
          ]
        }
      ]
    },
    {
      "cell_type": "code",
      "source": [
        "Se unen los dos modelos y el modelo resultante tiene un tamaño de 8"
      ],
      "metadata": {
        "id": "8ubtxvzN3f53"
      },
      "execution_count": null,
      "outputs": []
    },
    {
      "cell_type": "code",
      "source": [
        "from tensorflow.keras.layers import concatenate\n",
        "from keras.models import Sequential\n",
        "combineInput = concatenate([MLP2.layers[-1].output,cnn.layers[-1].output])\n"
      ],
      "metadata": {
        "id": "o_Z-uBas2LA3"
      },
      "execution_count": 79,
      "outputs": []
    },
    {
      "cell_type": "markdown",
      "source": [
        "Se vuelve a lanzar el modelo para dejar en la última capa un modelo de tamaño 1 y se pone como función de activación lineal"
      ],
      "metadata": {
        "id": "B07wZgBH31Ri"
      }
    },
    {
      "cell_type": "code",
      "source": [
        "\n",
        "x = Dense(8, activation = 'relu')(combineInput)\n",
        "x = Dense(1, activation = 'linear')(x)"
      ],
      "metadata": {
        "id": "Zw07nyMr7vB8"
      },
      "execution_count": 80,
      "outputs": []
    },
    {
      "cell_type": "code",
      "source": [
        "from tensorflow.keras.models import Model\n",
        "model = Model(inputs=[MLP2.input, cnn.input], outputs=x)"
      ],
      "metadata": {
        "id": "C4FKRgtn8mAu"
      },
      "execution_count": 81,
      "outputs": []
    },
    {
      "cell_type": "code",
      "source": [
        "opt = Adam(lr=1e-3, decay=1e-3)\n",
        "model.compile(optimizer = opt, loss = 'mse', metrics = 'mae')"
      ],
      "metadata": {
        "colab": {
          "base_uri": "https://localhost:8080/"
        },
        "id": "juApFUOH-PlX",
        "outputId": "381e61d1-7a5a-482e-9594-dd5d65e542e7"
      },
      "execution_count": 82,
      "outputs": [
        {
          "output_type": "stream",
          "name": "stderr",
          "text": [
            "/usr/local/lib/python3.7/dist-packages/keras/optimizer_v2/adam.py:105: UserWarning: The `lr` argument is deprecated, use `learning_rate` instead.\n",
            "  super(Adam, self).__init__(name, **kwargs)\n"
          ]
        }
      ]
    },
    {
      "cell_type": "markdown",
      "source": [
        "Entrenamos el modelo"
      ],
      "metadata": {
        "id": "1NVOl_dg39Bn"
      }
    },
    {
      "cell_type": "code",
      "source": [
        "es1 = EarlyStopping(monitor = 'val_loss', patience = 5, mode =\"auto\")\n",
        "history1 = model.fit([x_train_scaled,images1_train], y1_train, validation_data=([x_val_scaled,images1_val], y1_val), epochs=100, \n",
        "                    batch_size=32, verbose=0, callbacks = [es1])"
      ],
      "metadata": {
        "id": "xQxGXQHM-SVc"
      },
      "execution_count": 83,
      "outputs": []
    },
    {
      "cell_type": "markdown",
      "source": [
        "Se predice los valores con los datos de test"
      ],
      "metadata": {
        "id": "kpb9TIVD4Fxv"
      }
    },
    {
      "cell_type": "code",
      "source": [
        "preds = model.predict([x_test_scaled, images1_test])"
      ],
      "metadata": {
        "id": "XwdWxTdyAD5B"
      },
      "execution_count": 84,
      "outputs": []
    },
    {
      "cell_type": "code",
      "source": [
        "preds.shape"
      ],
      "metadata": {
        "colab": {
          "base_uri": "https://localhost:8080/"
        },
        "id": "ZGT--j5eDICL",
        "outputId": "bada59ef-bc37-497a-e620-226cb363ecef"
      },
      "execution_count": 85,
      "outputs": [
        {
          "output_type": "execute_result",
          "data": {
            "text/plain": [
              "(1511, 1)"
            ]
          },
          "metadata": {},
          "execution_count": 85
        }
      ]
    },
    {
      "cell_type": "code",
      "source": [
        "preds.dtype"
      ],
      "metadata": {
        "colab": {
          "base_uri": "https://localhost:8080/"
        },
        "id": "36AJpdelHTAJ",
        "outputId": "e81d4993-dc0d-4a0f-ef36-0f25a51bde79"
      },
      "execution_count": 86,
      "outputs": [
        {
          "output_type": "execute_result",
          "data": {
            "text/plain": [
              "dtype('float32')"
            ]
          },
          "metadata": {},
          "execution_count": 86
        }
      ]
    },
    {
      "cell_type": "code",
      "source": [
        "y1_test.shape"
      ],
      "metadata": {
        "colab": {
          "base_uri": "https://localhost:8080/"
        },
        "id": "ig2Eel9fDOhd",
        "outputId": "02f80c79-04cd-4eea-8750-49d468fbf17a"
      },
      "execution_count": 87,
      "outputs": [
        {
          "output_type": "execute_result",
          "data": {
            "text/plain": [
              "(1511,)"
            ]
          },
          "metadata": {},
          "execution_count": 87
        }
      ]
    },
    {
      "cell_type": "code",
      "source": [
        "y1_test.dtype"
      ],
      "metadata": {
        "colab": {
          "base_uri": "https://localhost:8080/"
        },
        "id": "nFacbBb8HJnE",
        "outputId": "05aea04f-33a4-4a13-c0e3-d13ec2d46dd0"
      },
      "execution_count": 88,
      "outputs": [
        {
          "output_type": "execute_result",
          "data": {
            "text/plain": [
              "dtype('float64')"
            ]
          },
          "metadata": {},
          "execution_count": 88
        }
      ]
    },
    {
      "cell_type": "markdown",
      "source": [
        "Convierto y_test a float32 para que tengan el mismo formato"
      ],
      "metadata": {
        "id": "bbmFlpdMutJg"
      }
    },
    {
      "cell_type": "code",
      "source": [
        "y2_test = np.array(y1_test).astype(\"float32\")"
      ],
      "metadata": {
        "id": "Bv6qADaeItN-"
      },
      "execution_count": 89,
      "outputs": []
    },
    {
      "cell_type": "markdown",
      "source": [
        "Se calcula manualmente el MAE"
      ],
      "metadata": {
        "id": "QZDle-gou5aX"
      }
    },
    {
      "cell_type": "code",
      "source": [
        "print(np.sqrt(np.mean((preds - y2_test)**2)))"
      ],
      "metadata": {
        "colab": {
          "base_uri": "https://localhost:8080/"
        },
        "id": "0SA_Jn9AA91Z",
        "outputId": "47601af5-b90d-4e8c-af4c-a207094e0df1"
      },
      "execution_count": 90,
      "outputs": [
        {
          "output_type": "stream",
          "name": "stdout",
          "text": [
            "32.82366\n"
          ]
        }
      ]
    },
    {
      "cell_type": "markdown",
      "source": [
        "Veo cual es la media de los valores predichos con los verdaderos que es y2_test"
      ],
      "metadata": {
        "id": "5Ma5vWvmu9Yg"
      }
    },
    {
      "cell_type": "code",
      "source": [
        "print(np.mean(preds))"
      ],
      "metadata": {
        "colab": {
          "base_uri": "https://localhost:8080/"
        },
        "id": "_GKwyO4CMe-U",
        "outputId": "33a1cd24-43b1-45dc-d5d1-98f4a4c6d102"
      },
      "execution_count": 91,
      "outputs": [
        {
          "output_type": "stream",
          "name": "stdout",
          "text": [
            "75.54319\n"
          ]
        }
      ]
    },
    {
      "cell_type": "code",
      "source": [
        "print(np.mean(y2_test))"
      ],
      "metadata": {
        "colab": {
          "base_uri": "https://localhost:8080/"
        },
        "id": "XnKbhBd4NB7Y",
        "outputId": "8ef6cdff-89a9-402a-8782-1ccca4af5238"
      },
      "execution_count": 92,
      "outputs": [
        {
          "output_type": "stream",
          "name": "stdout",
          "text": [
            "66.39577\n"
          ]
        }
      ]
    }
  ]
}