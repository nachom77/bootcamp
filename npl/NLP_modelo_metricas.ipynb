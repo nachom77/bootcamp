{
  "nbformat": 4,
  "nbformat_minor": 0,
  "metadata": {
    "colab": {
      "name": "NLP modelo_metricas.ipynb",
      "provenance": []
    },
    "kernelspec": {
      "name": "python3",
      "display_name": "Python 3"
    },
    "language_info": {
      "name": "python"
    },
    "accelerator": "GPU",
    "gpuClass": "standard"
  },
  "cells": [
    {
      "cell_type": "code",
      "execution_count": 1,
      "metadata": {
        "id": "mIynEwJtiFmg"
      },
      "outputs": [],
      "source": [
        "import json\n",
        "import nltk\n",
        "import matplotlib.pyplot as plt\n",
        "%matplotlib inline\n",
        "import pandas as pd\n",
        "from sklearn.feature_extraction.text import CountVectorizer\n",
        "from sklearn.feature_extraction.text import TfidfVectorizer\n",
        "from sklearn.feature_extraction.text import TfidfTransformer\n",
        "from nltk.probability import FreqDist\n",
        "from nltk.corpus import stopwords\n",
        "from nltk.stem import PorterStemmer\n",
        "from sklearn.metrics import confusion_matrix\n",
        "import seaborn as sns\n",
        "from sklearn.naive_bayes import MultinomialNB\n",
        "from sklearn import metrics\n",
        "from sklearn.model_selection import train_test_split\n",
        "from matplotlib import cm\n",
        "import numpy as np\n",
        "from sklearn.ensemble import RandomForestClassifier\n",
        "from sklearn.metrics import accuracy_score\n",
        "from sklearn.metrics import f1_score\n",
        "from sklearn.naive_bayes import MultinomialNB\n",
        "from wordcloud import WordCloud\n",
        "import pickle\n",
        "import re, string\n",
        "import sys\n",
        "import seaborn as sns\n",
        "sns.set()\n",
        "from sklearn.svm import SVC\n",
        "from sklearn.pipeline import Pipeline\n",
        "from sklearn.model_selection import cross_val_score\n",
        "from sklearn.metrics import mean_squared_error, accuracy_score, f1_score, roc_auc_score\n",
        "import pickle\n",
        "from collections import Counter"
      ]
    },
    {
      "cell_type": "code",
      "source": [
        "import gensim\n",
        "from gensim.models import Word2Vec\n",
        "\n",
        "from sklearn.model_selection import cross_val_score, GridSearchCV\n",
        "from sklearn.svm import SVC\n",
        "from xgboost import XGBClassifier\n",
        "from sklearn.model_selection import train_test_split\n",
        "from sklearn.ensemble import RandomForestClassifier\n",
        "from sklearn.metrics import accuracy_score\n",
        "\n",
        "from textblob import TextBlob    # import textblob packages, nlp\n",
        "from textblob.sentiments import NaiveBayesAnalyzer\n",
        "\n",
        "\n",
        "\n",
        "# import natural language toolkit\n",
        "import nltk\n",
        "nltk.download('punkt')"
      ],
      "metadata": {
        "colab": {
          "base_uri": "https://localhost:8080/"
        },
        "id": "amqKnvNqmATA",
        "outputId": "f2c8759c-8eeb-4425-b2e3-5a974516873e"
      },
      "execution_count": 5,
      "outputs": [
        {
          "output_type": "stream",
          "name": "stderr",
          "text": [
            "[nltk_data] Downloading package punkt to /root/nltk_data...\n",
            "[nltk_data]   Unzipping tokenizers/punkt.zip.\n"
          ]
        },
        {
          "output_type": "execute_result",
          "data": {
            "text/plain": [
              "True"
            ]
          },
          "metadata": {},
          "execution_count": 5
        }
      ]
    },
    {
      "cell_type": "code",
      "source": [
        "#import pandas as pd\n",
        "df2= pd.read_csv(\"/content/data5.csv\")"
      ],
      "metadata": {
        "id": "Zk6hzRuuiUMj"
      },
      "execution_count": 13,
      "outputs": []
    },
    {
      "cell_type": "code",
      "source": [
        "df2.head()"
      ],
      "metadata": {
        "colab": {
          "base_uri": "https://localhost:8080/",
          "height": 206
        },
        "id": "gAYM-JfNle_q",
        "outputId": "a9595e4e-863b-4ca2-84a3-e32bd40f75c2"
      },
      "execution_count": 14,
      "outputs": [
        {
          "output_type": "execute_result",
          "data": {
            "text/plain": [
              "   Unnamed: 0                          review_cleaned_lemmatized  overall  \\\n",
              "0       25928  great package good color really need let face ...        5   \n",
              "1        9371  pencil great would describe one word would pro...        5   \n",
              "2        6268  hold lot paper secures well make sturdy materi...        5   \n",
              "3       48623  order daughter start college fall love good si...        5   \n",
              "4        5437  ton postit note use every day make second cube...        5   \n",
              "\n",
              "   sentiment  \n",
              "0          1  \n",
              "1          1  \n",
              "2          1  \n",
              "3          1  \n",
              "4          1  "
            ],
            "text/html": [
              "\n",
              "  <div id=\"df-5d1c2db7-f118-4670-8f65-17bd99dfcc4e\">\n",
              "    <div class=\"colab-df-container\">\n",
              "      <div>\n",
              "<style scoped>\n",
              "    .dataframe tbody tr th:only-of-type {\n",
              "        vertical-align: middle;\n",
              "    }\n",
              "\n",
              "    .dataframe tbody tr th {\n",
              "        vertical-align: top;\n",
              "    }\n",
              "\n",
              "    .dataframe thead th {\n",
              "        text-align: right;\n",
              "    }\n",
              "</style>\n",
              "<table border=\"1\" class=\"dataframe\">\n",
              "  <thead>\n",
              "    <tr style=\"text-align: right;\">\n",
              "      <th></th>\n",
              "      <th>Unnamed: 0</th>\n",
              "      <th>review_cleaned_lemmatized</th>\n",
              "      <th>overall</th>\n",
              "      <th>sentiment</th>\n",
              "    </tr>\n",
              "  </thead>\n",
              "  <tbody>\n",
              "    <tr>\n",
              "      <th>0</th>\n",
              "      <td>25928</td>\n",
              "      <td>great package good color really need let face ...</td>\n",
              "      <td>5</td>\n",
              "      <td>1</td>\n",
              "    </tr>\n",
              "    <tr>\n",
              "      <th>1</th>\n",
              "      <td>9371</td>\n",
              "      <td>pencil great would describe one word would pro...</td>\n",
              "      <td>5</td>\n",
              "      <td>1</td>\n",
              "    </tr>\n",
              "    <tr>\n",
              "      <th>2</th>\n",
              "      <td>6268</td>\n",
              "      <td>hold lot paper secures well make sturdy materi...</td>\n",
              "      <td>5</td>\n",
              "      <td>1</td>\n",
              "    </tr>\n",
              "    <tr>\n",
              "      <th>3</th>\n",
              "      <td>48623</td>\n",
              "      <td>order daughter start college fall love good si...</td>\n",
              "      <td>5</td>\n",
              "      <td>1</td>\n",
              "    </tr>\n",
              "    <tr>\n",
              "      <th>4</th>\n",
              "      <td>5437</td>\n",
              "      <td>ton postit note use every day make second cube...</td>\n",
              "      <td>5</td>\n",
              "      <td>1</td>\n",
              "    </tr>\n",
              "  </tbody>\n",
              "</table>\n",
              "</div>\n",
              "      <button class=\"colab-df-convert\" onclick=\"convertToInteractive('df-5d1c2db7-f118-4670-8f65-17bd99dfcc4e')\"\n",
              "              title=\"Convert this dataframe to an interactive table.\"\n",
              "              style=\"display:none;\">\n",
              "        \n",
              "  <svg xmlns=\"http://www.w3.org/2000/svg\" height=\"24px\"viewBox=\"0 0 24 24\"\n",
              "       width=\"24px\">\n",
              "    <path d=\"M0 0h24v24H0V0z\" fill=\"none\"/>\n",
              "    <path d=\"M18.56 5.44l.94 2.06.94-2.06 2.06-.94-2.06-.94-.94-2.06-.94 2.06-2.06.94zm-11 1L8.5 8.5l.94-2.06 2.06-.94-2.06-.94L8.5 2.5l-.94 2.06-2.06.94zm10 10l.94 2.06.94-2.06 2.06-.94-2.06-.94-.94-2.06-.94 2.06-2.06.94z\"/><path d=\"M17.41 7.96l-1.37-1.37c-.4-.4-.92-.59-1.43-.59-.52 0-1.04.2-1.43.59L10.3 9.45l-7.72 7.72c-.78.78-.78 2.05 0 2.83L4 21.41c.39.39.9.59 1.41.59.51 0 1.02-.2 1.41-.59l7.78-7.78 2.81-2.81c.8-.78.8-2.07 0-2.86zM5.41 20L4 18.59l7.72-7.72 1.47 1.35L5.41 20z\"/>\n",
              "  </svg>\n",
              "      </button>\n",
              "      \n",
              "  <style>\n",
              "    .colab-df-container {\n",
              "      display:flex;\n",
              "      flex-wrap:wrap;\n",
              "      gap: 12px;\n",
              "    }\n",
              "\n",
              "    .colab-df-convert {\n",
              "      background-color: #E8F0FE;\n",
              "      border: none;\n",
              "      border-radius: 50%;\n",
              "      cursor: pointer;\n",
              "      display: none;\n",
              "      fill: #1967D2;\n",
              "      height: 32px;\n",
              "      padding: 0 0 0 0;\n",
              "      width: 32px;\n",
              "    }\n",
              "\n",
              "    .colab-df-convert:hover {\n",
              "      background-color: #E2EBFA;\n",
              "      box-shadow: 0px 1px 2px rgba(60, 64, 67, 0.3), 0px 1px 3px 1px rgba(60, 64, 67, 0.15);\n",
              "      fill: #174EA6;\n",
              "    }\n",
              "\n",
              "    [theme=dark] .colab-df-convert {\n",
              "      background-color: #3B4455;\n",
              "      fill: #D2E3FC;\n",
              "    }\n",
              "\n",
              "    [theme=dark] .colab-df-convert:hover {\n",
              "      background-color: #434B5C;\n",
              "      box-shadow: 0px 1px 3px 1px rgba(0, 0, 0, 0.15);\n",
              "      filter: drop-shadow(0px 1px 2px rgba(0, 0, 0, 0.3));\n",
              "      fill: #FFFFFF;\n",
              "    }\n",
              "  </style>\n",
              "\n",
              "      <script>\n",
              "        const buttonEl =\n",
              "          document.querySelector('#df-5d1c2db7-f118-4670-8f65-17bd99dfcc4e button.colab-df-convert');\n",
              "        buttonEl.style.display =\n",
              "          google.colab.kernel.accessAllowed ? 'block' : 'none';\n",
              "\n",
              "        async function convertToInteractive(key) {\n",
              "          const element = document.querySelector('#df-5d1c2db7-f118-4670-8f65-17bd99dfcc4e');\n",
              "          const dataTable =\n",
              "            await google.colab.kernel.invokeFunction('convertToInteractive',\n",
              "                                                     [key], {});\n",
              "          if (!dataTable) return;\n",
              "\n",
              "          const docLinkHtml = 'Like what you see? Visit the ' +\n",
              "            '<a target=\"_blank\" href=https://colab.research.google.com/notebooks/data_table.ipynb>data table notebook</a>'\n",
              "            + ' to learn more about interactive tables.';\n",
              "          element.innerHTML = '';\n",
              "          dataTable['output_type'] = 'display_data';\n",
              "          await google.colab.output.renderOutput(dataTable, element);\n",
              "          const docLink = document.createElement('div');\n",
              "          docLink.innerHTML = docLinkHtml;\n",
              "          element.appendChild(docLink);\n",
              "        }\n",
              "      </script>\n",
              "    </div>\n",
              "  </div>\n",
              "  "
            ]
          },
          "metadata": {},
          "execution_count": 14
        }
      ]
    },
    {
      "cell_type": "code",
      "source": [
        "newdf = df2\n"
      ],
      "metadata": {
        "id": "pz_7lwo6nlpJ"
      },
      "execution_count": 49,
      "outputs": []
    },
    {
      "cell_type": "markdown",
      "source": [
        "#Modelo Deep Learning"
      ],
      "metadata": {
        "id": "Hezk2PD0K21Y"
      }
    },
    {
      "cell_type": "markdown",
      "source": [
        "**Corpus y Word2Vec**"
      ],
      "metadata": {
        "id": "nZMZNzeGK9py"
      }
    },
    {
      "cell_type": "markdown",
      "source": [
        "Generamos el Corpus y Word2Vec para poder pasar la representación de las palabras en vectores númericos a un modelo de Deep Learning"
      ],
      "metadata": {
        "id": "ZbuoGgRkKhfw"
      }
    },
    {
      "cell_type": "markdown",
      "source": [
        "Se divide en sentencias para generar el corpus"
      ],
      "metadata": {
        "id": "Is1XuhUOnA0T"
      }
    },
    {
      "cell_type": "code",
      "source": [
        "# Convertimos review in un string único\n",
        "newdf['review_cleaned_lemmatized']=newdf['review_cleaned_lemmatized'].astype(str)\n",
        "raw_corpus = \"\".join(newdf['review_cleaned_lemmatized']+\" \")\n",
        "print(\"Raw Corpus contiene {0:,} characters\".format(len(raw_corpus)))\n",
        "\n",
        "tokenizer = nltk.data.load(\"tokenizers/punkt/english.pickle\")\n",
        "# we tokenize the raw string into raw sentences\n",
        "raw_sentences = tokenizer.tokenize(raw_corpus)"
      ],
      "metadata": {
        "colab": {
          "base_uri": "https://localhost:8080/"
        },
        "id": "cfK1zULtm9YC",
        "outputId": "79b00572-5491-47fa-b03c-7004adb47b9b"
      },
      "execution_count": 50,
      "outputs": [
        {
          "output_type": "stream",
          "name": "stdout",
          "text": [
            "Raw Corpus contiene 2,718,868 characters\n"
          ]
        }
      ]
    },
    {
      "cell_type": "code",
      "source": [
        "def clean_and_split_str(string):\n",
        "    strip_special_chars = re.compile(\"[^A-Za-z]+\")\n",
        "    string = re.sub(strip_special_chars, \" \", string)\n",
        "    \n",
        "    return string.strip().lower().split()\n",
        "     \n",
        "# Se crea la lista de sentencias\n",
        "sentences = []\n",
        "for raw_sent in raw_sentences:\n",
        "    if len(raw_sent) > 0:\n",
        "        sentences.append(clean_and_split_str(raw_sent))\n",
        "\n"
      ],
      "metadata": {
        "id": "I_VGJgsjrdQV"
      },
      "execution_count": 51,
      "outputs": []
    },
    {
      "cell_type": "code",
      "source": [
        "token_count = sum([len(sentence) for sentence in sentences])\n",
        "print(\"Corpus dataset contiene {0:,} tokens\".format(token_count))"
      ],
      "metadata": {
        "colab": {
          "base_uri": "https://localhost:8080/"
        },
        "id": "PG_sGU4frwr7",
        "outputId": "ddbb2da2-ff3c-40a2-a2cd-37a79a928a9f"
      },
      "execution_count": 52,
      "outputs": [
        {
          "output_type": "stream",
          "name": "stdout",
          "text": [
            "Corpus dataset contiene 412,167 tokens\n"
          ]
        }
      ]
    },
    {
      "cell_type": "code",
      "source": [
        "#Train de un Word2Vec modelo\n",
        "import multiprocessing\n",
        "\n",
        "#Dimensionalidad\n",
        "num_features = 1000\n",
        " \n",
        "#Minimo word count ramas arbol\n",
        "min_word_count = 3\n",
        " \n",
        "#Number de rammas \n",
        "num_workers = multiprocessing.cpu_count()\n",
        " \n",
        "#Ventanas de contexto\n",
        "context_size = 7\n",
        " \n",
        "#Semilla\n",
        "seed = 1"
      ],
      "metadata": {
        "id": "5lcSU9lasAq9"
      },
      "execution_count": 57,
      "outputs": []
    },
    {
      "cell_type": "code",
      "source": [
        "word2vec_model = Word2Vec(sentences = sentences,\n",
        "    sg=1,\n",
        "    seed=seed,\n",
        "    workers=num_workers, \n",
        "    size=num_features, \n",
        "    min_count=min_word_count, \n",
        "    window=context_size)\n",
        "     \n",
        "print(\"El vocabulario esta realizado\")\n",
        "print(\"Word2Vec vocabulario longitud: \", len(word2vec_model.wv.index2word))"
      ],
      "metadata": {
        "colab": {
          "base_uri": "https://localhost:8080/"
        },
        "id": "-0MW5J2Hs8w4",
        "outputId": "be893576-0ff9-446a-c7ef-24c87764702c"
      },
      "execution_count": 58,
      "outputs": [
        {
          "output_type": "stream",
          "name": "stdout",
          "text": [
            "El vocabulario esta realizado\n",
            "Word2Vec vocabulario longitud:  6670\n"
          ]
        }
      ]
    },
    {
      "cell_type": "markdown",
      "source": [
        "\n",
        "Ahora hago el vector promedio de todas las palabras en una review en base al vocabulario"
      ],
      "metadata": {
        "id": "tQ08lozXtudT"
      }
    },
    {
      "cell_type": "code",
      "source": [
        "def averageVector(reviews, w2v):\n",
        "    total = []\n",
        "    lst = w2v.wv.index2word\n",
        "    for review in reviews:\n",
        "        avgVector = w2v.wv['i']*0\n",
        "        count = 0\n",
        "        empty = True\n",
        "        for word in review:\n",
        "            if word in lst:\n",
        "                count += 1\n",
        "                avgVector = np.add(avgVector, w2v.wv[word])\n",
        "                empty = False\n",
        "        if not empty:\n",
        "            avgVector = np.divide(avgVector, count)\n",
        "        total.append(avgVector)\n",
        "    return total"
      ],
      "metadata": {
        "id": "Yc_l29RiuBx4"
      },
      "execution_count": 59,
      "outputs": []
    },
    {
      "cell_type": "code",
      "source": [
        "\n",
        "data2 = df2['review_cleaned_lemmatized']\n",
        "tokens2 = []\n",
        "for review in data2:\n",
        "    tokens2.append(review.split())"
      ],
      "metadata": {
        "id": "Jx1XLi_iuywL"
      },
      "execution_count": 60,
      "outputs": []
    },
    {
      "cell_type": "code",
      "source": [
        "\n",
        "allVectors2 = averageVector(tokens2, word2vec_model)"
      ],
      "metadata": {
        "id": "Y9keIfKfuFgt"
      },
      "execution_count": 61,
      "outputs": []
    },
    {
      "cell_type": "code",
      "source": [
        "len(allVectors2)"
      ],
      "metadata": {
        "colab": {
          "base_uri": "https://localhost:8080/"
        },
        "id": "EMTQ3DZivUmL",
        "outputId": "995f87ae-987f-4acd-a61b-9f584863a00e"
      },
      "execution_count": 62,
      "outputs": [
        {
          "output_type": "execute_result",
          "data": {
            "text/plain": [
              "5000"
            ]
          },
          "metadata": {},
          "execution_count": 62
        }
      ]
    },
    {
      "cell_type": "markdown",
      "source": [
        "**Train Test División**"
      ],
      "metadata": {
        "id": "pHRRXciePYHm"
      }
    },
    {
      "cell_type": "markdown",
      "source": [
        "Divido los datos en train y test. No los divido en validación porque tengo un data set de un tamaño no muy grande para poder procesarlo"
      ],
      "metadata": {
        "id": "ewnEdwxcwST1"
      }
    },
    {
      "cell_type": "code",
      "source": [
        "y2 = df2[\"sentiment\"]\n",
        "X_train2, X_test2, y_train2, y_test2 = train_test_split(pd.DataFrame(allVectors2), y2, test_size=0.2, random_state=42) #, stratify = y2"
      ],
      "metadata": {
        "id": "FODyfrzsvkgy"
      },
      "execution_count": 130,
      "outputs": []
    },
    {
      "cell_type": "markdown",
      "source": [
        "**LSTM**"
      ],
      "metadata": {
        "id": "pj6mqysDw7Iz"
      }
    },
    {
      "cell_type": "code",
      "source": [
        "import re\n",
        "import pandas as pd\n",
        "import numpy as np\n",
        "from sklearn.preprocessing import LabelEncoder\n",
        "from sklearn.model_selection import train_test_split\n",
        "from keras.preprocessing.text import Tokenizer\n",
        "from keras.preprocessing.sequence import pad_sequences\n",
        "import keras\n",
        "from sklearn.metrics import classification_report\n",
        "from sklearn.metrics import accuracy_score\n",
        "import math\n",
        "import nltk"
      ],
      "metadata": {
        "id": "lIikaOoe10Wv"
      },
      "execution_count": 131,
      "outputs": []
    },
    {
      "cell_type": "code",
      "source": [
        "# Hyperparametros del modelo\n",
        "vocab_size = 5000 \n",
        "oov_tok = ''\n",
        "embedding_dim = 100\n",
        "max_length = 200 \n",
        "padding_type='post'\n",
        "trunc_type='post'\n",
        "# tokenizador de las sentencias\n",
        "tokenizer = Tokenizer(num_words = vocab_size, oov_token=oov_tok)\n",
        "X_train2 = [str (item) for item in X_train2]\n",
        "tokenizer.fit_on_texts(X_train2)\n",
        "word_index = tokenizer.word_index\n",
        "# convertir en secuencias y padding\n",
        "train_sequences = tokenizer.texts_to_sequences(X_train2)\n",
        "train_padded = pad_sequences(train_sequences, padding='post', maxlen=max_length)\n",
        "X_test2 = [str (item) for item in X_test2]\n",
        "test_sequences = tokenizer.texts_to_sequences(X_test2)\n",
        "test_padded = pad_sequences(test_sequences, padding='post', maxlen=max_length)"
      ],
      "metadata": {
        "id": "YzsQ7S7pw7pV"
      },
      "execution_count": 132,
      "outputs": []
    },
    {
      "cell_type": "markdown",
      "source": [
        "Iniciamos el modelo"
      ],
      "metadata": {
        "id": "c-5zFdDJ4IWo"
      }
    },
    {
      "cell_type": "code",
      "source": [
        "#model initialization\n",
        "seed = 12345\n",
        "model = keras.Sequential([\n",
        "    keras.layers.Embedding(vocab_size, embedding_dim, input_length=max_length),\n",
        "    keras.layers.Bidirectional(keras.layers.LSTM(64)), #dropout= 0.2,recurrent_dropout = 0.2)),\n",
        "    keras.layers.Dense(24, activation='relu'),\n",
        "    keras.layers.Dense(1, activation='sigmoid')\n",
        "])\n",
        "# compile model\n",
        "model.compile(loss='binary_crossentropy',\n",
        "              optimizer='adam',\n",
        "              metrics=['accuracy'])\n",
        "# model summary\n",
        "model.summary()"
      ],
      "metadata": {
        "colab": {
          "base_uri": "https://localhost:8080/"
        },
        "id": "ZzKB4yfE4HDC",
        "outputId": "ec064969-74b6-4612-ddfc-5668715a28ee"
      },
      "execution_count": 159,
      "outputs": [
        {
          "output_type": "stream",
          "name": "stdout",
          "text": [
            "Model: \"sequential_14\"\n",
            "_________________________________________________________________\n",
            " Layer (type)                Output Shape              Param #   \n",
            "=================================================================\n",
            " embedding_16 (Embedding)    (None, 200, 100)          500000    \n",
            "                                                                 \n",
            " bidirectional_14 (Bidirecti  (None, 128)              84480     \n",
            " onal)                                                           \n",
            "                                                                 \n",
            " dense_28 (Dense)            (None, 24)                3096      \n",
            "                                                                 \n",
            " dense_29 (Dense)            (None, 1)                 25        \n",
            "                                                                 \n",
            "=================================================================\n",
            "Total params: 587,601\n",
            "Trainable params: 587,601\n",
            "Non-trainable params: 0\n",
            "_________________________________________________________________\n"
          ]
        }
      ]
    },
    {
      "cell_type": "markdown",
      "source": [
        "Entrenamos el modelo"
      ],
      "metadata": {
        "id": "WeJEDV134mCa"
      }
    },
    {
      "cell_type": "code",
      "source": [
        "num_epochs = 4\n",
        "history = model.fit(train_padded, y_train2, \n",
        "                    epochs=num_epochs, verbose=1, \n",
        "                    validation_split=0.05, shuffle = True)"
      ],
      "metadata": {
        "colab": {
          "base_uri": "https://localhost:8080/"
        },
        "id": "CVZKROeY4mnb",
        "outputId": "7ded8c94-ffbb-45d9-bb4b-5461a60be41b"
      },
      "execution_count": 160,
      "outputs": [
        {
          "output_type": "stream",
          "name": "stdout",
          "text": [
            "Epoch 1/4\n",
            "30/30 [==============================] - 5s 62ms/step - loss: 0.6820 - accuracy: 0.5874 - val_loss: 0.6684 - val_accuracy: 0.6200\n",
            "Epoch 2/4\n",
            "30/30 [==============================] - 1s 21ms/step - loss: 0.6736 - accuracy: 0.5958 - val_loss: 0.6672 - val_accuracy: 0.6200\n",
            "Epoch 3/4\n",
            "30/30 [==============================] - 1s 21ms/step - loss: 0.6555 - accuracy: 0.5958 - val_loss: 0.6644 - val_accuracy: 0.6200\n",
            "Epoch 4/4\n",
            "30/30 [==============================] - 1s 21ms/step - loss: 0.4633 - accuracy: 0.8105 - val_loss: 0.6724 - val_accuracy: 0.6000\n"
          ]
        }
      ]
    },
    {
      "cell_type": "code",
      "source": [
        "prediction = model.predict(test_padded)\n",
        "# Si la etiqueta del sentimiento según la probabilidad is 1 si p>= 0.5 sino 0\n",
        "pred_labels = []\n",
        "for i in prediction:\n",
        "    if i >= 0.5:\n",
        "        pred_labels.append(1)\n",
        "    else:\n",
        "        pred_labels.append(0)\n",
        "print(\"Accuracy of prediction on test set : \", accuracy_score(y_test2,pred_labels))"
      ],
      "metadata": {
        "colab": {
          "base_uri": "https://localhost:8080/"
        },
        "id": "eJuU3TPm6Qqu",
        "outputId": "16b48661-227c-4a14-9bd0-606b212f3f25"
      },
      "execution_count": 161,
      "outputs": [
        {
          "output_type": "stream",
          "name": "stdout",
          "text": [
            "Accuracy of prediction on test set :  0.503\n"
          ]
        }
      ]
    },
    {
      "cell_type": "markdown",
      "source": [
        "Tiene una accuracy baja ya que no existe una palabras diferenciadoras del sentimiento"
      ],
      "metadata": {
        "id": "7S5QQ-z1KATC"
      }
    },
    {
      "cell_type": "markdown",
      "source": [
        "# **Modelo clásico**"
      ],
      "metadata": {
        "id": "z3hQk-CcKRBn"
      }
    },
    {
      "cell_type": "markdown",
      "source": [
        "**BOW-Bag of Words**"
      ],
      "metadata": {
        "id": "QnjvSfnfMxH0"
      }
    },
    {
      "cell_type": "code",
      "source": [
        "df3 = df2"
      ],
      "metadata": {
        "id": "1NWjema9NLp3"
      },
      "execution_count": 72,
      "outputs": []
    },
    {
      "cell_type": "code",
      "source": [
        "# Se dividen los datos\n",
        "from sklearn.model_selection import train_test_split \n",
        "xtrain, xtest, ytrain, ytest = train_test_split(df3['review_cleaned_lemmatized'], df3['sentiment'], test_size = 0.2, random_state=1234)"
      ],
      "metadata": {
        "id": "o3sEhVF3J1FB"
      },
      "execution_count": 73,
      "outputs": []
    },
    {
      "cell_type": "code",
      "source": [
        "# Convertimos texto en número con BOW \n",
        "from sklearn.feature_extraction.text import CountVectorizer\n",
        "\n",
        "vectorizer = CountVectorizer()\n",
        "\n",
        "\n",
        "xtrain_bow = vectorizer.fit_transform(xtrain).toarray()\n",
        "xtest_bow = vectorizer.transform(xtest).toarray()"
      ],
      "metadata": {
        "id": "WB8hP00ONtNa"
      },
      "execution_count": 74,
      "outputs": []
    },
    {
      "cell_type": "markdown",
      "source": [
        "Modelo GaussianNB"
      ],
      "metadata": {
        "id": "m-t_rRltOAxt"
      }
    },
    {
      "cell_type": "code",
      "source": [
        "from sklearn.naive_bayes import GaussianNB\n",
        "\n",
        " \n",
        "clf_bow = GaussianNB().fit(xtrain_bow, ytrain)  # entrenamiento \n",
        "prediction_bow = clf_bow.predict(xtest_bow)  # predictiones"
      ],
      "metadata": {
        "id": "nqKGuNpxOAF9"
      },
      "execution_count": 75,
      "outputs": []
    },
    {
      "cell_type": "code",
      "source": [
        "#metricas\n",
        "from sklearn.metrics import classification_report, confusion_matrix, accuracy_score \n",
        "\n",
        "def metrics(prediction, actual): \n",
        "    print('Confusion_matrix \\n', confusion_matrix(actual, prediction))\n",
        "    print('\\nAccuracy:', accuracy_score(actual, prediction))\n",
        "    print('\\nclassification_report\\n')\n",
        "    print(classification_report(actual, prediction))\n",
        "    \n",
        "    \n",
        "metrics(prediction_bow, ytest)"
      ],
      "metadata": {
        "colab": {
          "base_uri": "https://localhost:8080/"
        },
        "id": "qOBkZIjVORTQ",
        "outputId": "c8a3d720-2956-40bc-d8f7-68483445abeb"
      },
      "execution_count": 76,
      "outputs": [
        {
          "output_type": "stream",
          "name": "stdout",
          "text": [
            "Confusion_matrix \n",
            " [[304 278]\n",
            " [165 253]]\n",
            "\n",
            "Accuracy: 0.557\n",
            "\n",
            "classification_report\n",
            "\n",
            "              precision    recall  f1-score   support\n",
            "\n",
            "           0       0.65      0.52      0.58       582\n",
            "           1       0.48      0.61      0.53       418\n",
            "\n",
            "    accuracy                           0.56      1000\n",
            "   macro avg       0.56      0.56      0.56      1000\n",
            "weighted avg       0.58      0.56      0.56      1000\n",
            "\n"
          ]
        }
      ]
    },
    {
      "cell_type": "markdown",
      "source": [
        "**TF-IDF**"
      ],
      "metadata": {
        "id": "O5E5x8v8OcUO"
      }
    },
    {
      "cell_type": "code",
      "source": [
        "# Convertimos texto a numberos usando TF-IDF\n",
        "from sklearn.feature_extraction.text import TfidfVectorizer  \n",
        "\n",
        "tf_vectorizer = TfidfVectorizer()\n",
        "\n",
        " \n",
        "xtrain_tf = tf_vectorizer.fit_transform(xtrain).toarray()\n",
        "xtest_tf = tf_vectorizer.transform(xtest).toarray()"
      ],
      "metadata": {
        "id": "DJVNmDYTOgr6"
      },
      "execution_count": 77,
      "outputs": []
    },
    {
      "cell_type": "code",
      "source": [
        "from sklearn.naive_bayes import GaussianNB\n",
        "\n",
        "# Modelo GaussianNB\n",
        "clf_tf = GaussianNB().fit(xtrain_tf, ytrain)\n",
        "prediction_tf = clf_tf.predict(xtest_tf)"
      ],
      "metadata": {
        "id": "AlZEb2ajOule"
      },
      "execution_count": 78,
      "outputs": []
    },
    {
      "cell_type": "code",
      "source": [
        "#Métricas del modelo\n",
        "metrics(prediction_tf, ytest)"
      ],
      "metadata": {
        "colab": {
          "base_uri": "https://localhost:8080/"
        },
        "id": "Jk6mWmjXO02g",
        "outputId": "6f192cf6-0a4f-4d37-8713-112d34da6f41"
      },
      "execution_count": 79,
      "outputs": [
        {
          "output_type": "stream",
          "name": "stdout",
          "text": [
            "Confusion_matrix \n",
            " [[313 269]\n",
            " [171 247]]\n",
            "\n",
            "Accuracy: 0.56\n",
            "\n",
            "classification_report\n",
            "\n",
            "              precision    recall  f1-score   support\n",
            "\n",
            "           0       0.65      0.54      0.59       582\n",
            "           1       0.48      0.59      0.53       418\n",
            "\n",
            "    accuracy                           0.56      1000\n",
            "   macro avg       0.56      0.56      0.56      1000\n",
            "weighted avg       0.58      0.56      0.56      1000\n",
            "\n"
          ]
        }
      ]
    },
    {
      "cell_type": "markdown",
      "source": [
        "Estamos en un modelo muy desbalanceado que habría que balancearlo en la carga de los datos, ponderando más el peso de las opiniones negativas o con data augmentacion crean datos para que los pesos se igualasen."
      ],
      "metadata": {
        "id": "ho9FI4C3qDXG"
      }
    },
    {
      "cell_type": "markdown",
      "source": [
        "En este caso el modelo clásico tiene menos overfittinng y nos da una precisión mayor ya que le afecta menos el que los datos esten desembalanceados que a Deep Learning"
      ],
      "metadata": {
        "id": "h-zpsI1-P_gX"
      }
    },
    {
      "cell_type": "markdown",
      "source": [
        "# METRICAS"
      ],
      "metadata": {
        "id": "lnYlXCrsO_k4"
      }
    },
    {
      "cell_type": "markdown",
      "source": [
        "**Métricas Modelo LSTM**"
      ],
      "metadata": {
        "id": "NmkjCkoTP115"
      }
    },
    {
      "cell_type": "code",
      "source": [
        "from sklearn.datasets import make_circles\n",
        "from sklearn.metrics import accuracy_score\n",
        "from sklearn.metrics import precision_score\n",
        "from sklearn.metrics import recall_score\n",
        "from sklearn.metrics import f1_score\n",
        "from sklearn.metrics import cohen_kappa_score\n",
        "from sklearn.metrics import roc_auc_score\n",
        "from sklearn.metrics import confusion_matrix"
      ],
      "metadata": {
        "id": "2UQpvZ7KVALb"
      },
      "execution_count": 82,
      "outputs": []
    },
    {
      "cell_type": "code",
      "source": [
        "# accuracy: (tp + tn) / (p + n)\n",
        "accuracy = accuracy_score(y_test2,pred_labels)\n",
        "print('Accuracy: %f' % accuracy)\n",
        "# precision tp / (tp + fp)\n",
        "precision = precision_score(y_test2,pred_labels)\n",
        "print('Precision: %f' % precision)\n",
        "# recall: tp / (tp + fn)\n",
        "recall = recall_score(y_test2,pred_labels)\n",
        "print('Recall: %f' % recall)\n",
        "# f1: 2 tp / (2 tp + fp + fn)\n",
        "f1 = f1_score(y_test2,pred_labels)\n",
        "print('F1 score: %f' % f1)\n",
        "# confusion matrix\n",
        "matrix = confusion_matrix(y_test2,pred_labels)\n",
        "print(matrix)"
      ],
      "metadata": {
        "colab": {
          "base_uri": "https://localhost:8080/"
        },
        "id": "TUvQnZzSPFmj",
        "outputId": "b6fd9572-4795-4baf-951d-3362b1e4454b"
      },
      "execution_count": 162,
      "outputs": [
        {
          "output_type": "stream",
          "name": "stdout",
          "text": [
            "Accuracy: 0.503000\n",
            "Precision: 0.384416\n",
            "Recall: 0.362745\n",
            "F1 score: 0.373266\n",
            "[[355 237]\n",
            " [260 148]]\n"
          ]
        }
      ]
    },
    {
      "cell_type": "code",
      "source": [
        "import matplotlib.pyplot as pyplot"
      ],
      "metadata": {
        "id": "WcxwTvvrgzMS"
      },
      "execution_count": 128,
      "outputs": []
    },
    {
      "cell_type": "code",
      "source": [
        "\n",
        "# plot loss during training\n",
        "pyplot.subplot(211)\n",
        "pyplot.title('Loss')\n",
        "pyplot.plot(history.history['loss'], label='train')\n",
        "pyplot.plot(history.history['val_loss'], label='test')\n",
        "pyplot.legend()\n",
        "# plot accuracy during training\n",
        "pyplot.subplot(212)\n",
        "pyplot.title('Accuracy')\n",
        "pyplot.plot(history.history['accuracy'], label='train')\n",
        "pyplot.plot(history.history['val_accuracy'], label='test')\n",
        "pyplot.legend()\n",
        "pyplot.show()"
      ],
      "metadata": {
        "colab": {
          "base_uri": "https://localhost:8080/",
          "height": 284
        },
        "id": "_na-MH_1Wqsq",
        "outputId": "c80e9f52-6c51-4844-cce8-ae0ae259dab4"
      },
      "execution_count": 163,
      "outputs": [
        {
          "output_type": "display_data",
          "data": {
            "text/plain": [
              "<Figure size 432x288 with 2 Axes>"
            ],
            "image/png": "[encoded data removed]"
          },
          "metadata": {
            "needs_background": "light"
          }
        }
      ]
    },
    {
      "cell_type": "markdown",
      "source": [
        "Si se incluyen muchas épocas se produce un overfitting ya que el dataset esta muy desbalanceado y cuanto más datos se incluyan menos discriminante es. Con lo cual habría que balancear las muestras para que pudiese discrimar más este modelo."
      ],
      "metadata": {
        "id": "-dvUIWX_halt"
      }
    },
    {
      "cell_type": "markdown",
      "source": [
        "**BOW-Bag of Words+GaussianNB**"
      ],
      "metadata": {
        "id": "LB3OePYHVNt8"
      }
    },
    {
      "cell_type": "code",
      "source": [
        "metrics(prediction_bow, ytest)"
      ],
      "metadata": {
        "colab": {
          "base_uri": "https://localhost:8080/"
        },
        "id": "0QDJ9rHnVVjD",
        "outputId": "21da6967-a1e3-4714-9fb3-579318fcf78f"
      },
      "execution_count": 84,
      "outputs": [
        {
          "output_type": "stream",
          "name": "stdout",
          "text": [
            "Confusion_matrix \n",
            " [[304 278]\n",
            " [165 253]]\n",
            "\n",
            "Accuracy: 0.557\n",
            "\n",
            "classification_report\n",
            "\n",
            "              precision    recall  f1-score   support\n",
            "\n",
            "           0       0.65      0.52      0.58       582\n",
            "           1       0.48      0.61      0.53       418\n",
            "\n",
            "    accuracy                           0.56      1000\n",
            "   macro avg       0.56      0.56      0.56      1000\n",
            "weighted avg       0.58      0.56      0.56      1000\n",
            "\n"
          ]
        }
      ]
    },
    {
      "cell_type": "markdown",
      "source": [
        "**TF-IDF**"
      ],
      "metadata": {
        "id": "JeY65EyolTXZ"
      }
    },
    {
      "cell_type": "code",
      "source": [
        "metrics(prediction_tf, ytest)"
      ],
      "metadata": {
        "colab": {
          "base_uri": "https://localhost:8080/"
        },
        "id": "zhbgDv2KlSSf",
        "outputId": "4730b90a-fd93-477a-941b-a2cb8300672e"
      },
      "execution_count": 157,
      "outputs": [
        {
          "output_type": "stream",
          "name": "stdout",
          "text": [
            "Confusion_matrix \n",
            " [[313 269]\n",
            " [171 247]]\n",
            "\n",
            "Accuracy: 0.56\n",
            "\n",
            "classification_report\n",
            "\n",
            "              precision    recall  f1-score   support\n",
            "\n",
            "           0       0.65      0.54      0.59       582\n",
            "           1       0.48      0.59      0.53       418\n",
            "\n",
            "    accuracy                           0.56      1000\n",
            "   macro avg       0.56      0.56      0.56      1000\n",
            "weighted avg       0.58      0.56      0.56      1000\n",
            "\n"
          ]
        }
      ]
    },
    {
      "cell_type": "markdown",
      "source": [
        "Respecto a los modelos clásicos se ven menos afectados que los modelos de deep learning y da una accuracy mayor.\n"
      ],
      "metadata": {
        "id": "DEeg6QjcqwXC"
      }
    },
    {
      "cell_type": "markdown",
      "source": [
        "**Conclusión final:**"
      ],
      "metadata": {
        "id": "BFChLPQ4rEru"
      }
    },
    {
      "cell_type": "markdown",
      "source": [
        "Para mejorar el modelo habría que balancear el modelo después de la carga de datos dando más peso a las opiniones negativas que a las positivas o mediante data augmentation, como ténncia de resampling, para crear datos nuevos en base a las opiniones negativas que igualen los pesos.\n",
        "En caso de data sets desbalanceados Deep Learning es más sensible que los modelos de ML clásicos como se ha visto en las métricas."
      ],
      "metadata": {
        "id": "J_lLYxO5rbWr"
      }
    },
    {
      "cell_type": "markdown",
      "source": [
        "Por lo tanto seleccionaria el modelo de TF-IDF porque tiene una precisión parecida a la de BOG, pero tiene unas decimas superiores en accuracy. También se debería de probar con otros modelos, suponiendo que no es una distribucción Gaussiana ya que definirían mejor el modelo de datos y nos daría una mejor accuracy."
      ],
      "metadata": {
        "id": "QlsJRoYFsVaz"
      }
    }
  ]
}