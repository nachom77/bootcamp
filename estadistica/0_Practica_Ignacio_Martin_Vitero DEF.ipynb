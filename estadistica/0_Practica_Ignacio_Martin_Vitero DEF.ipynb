{
  "cells": [
    {
      "cell_type": "code",
      "execution_count": 1,
      "metadata": {
        "id": "Q5M7EMfgiu8o"
      },
      "outputs": [],
      "source": [
        "#library(ggplot2)\n",
        "#options(repr.plot.height=4,repr.plot.width=6)"
      ]
    },
    {
      "cell_type": "markdown",
      "metadata": {
        "id": "eryK5vpBiu8r"
      },
      "source": [
        "**Cargar los datos en un dataframe llamado: airbnb**"
      ]
    },
    {
      "cell_type": "code",
      "execution_count": 2,
      "metadata": {
        "id": "zuFKlIAAiu8s"
      },
      "outputs": [],
      "source": [
        "airbnb<-read.csv('/content/airbnb.csv',sep = ',', stringsAsFactors = T)"
      ]
    },
    {
      "cell_type": "markdown",
      "metadata": {
        "id": "uCJ_f--biu8t"
      },
      "source": [
        "**Mostrar las primeras 6 filas del dataframe**"
      ]
    },
    {
      "cell_type": "code",
      "execution_count": 3,
      "metadata": {
        "scrolled": true,
        "colab": {
          "base_uri": "https://localhost:8080/",
          "height": 705
        },
        "id": "zOnhXZK4iu8t",
        "outputId": "ee006cc5-8387-498a-c5d1-a8d842bb78dc"
      },
      "outputs": [
        {
          "output_type": "display_data",
          "data": {
            "text/html": [
              "<table class=\"dataframe\">\n",
              "<caption>A data.frame: 6 × 13</caption>\n",
              "<thead>\n",
              "\t<tr><th></th><th scope=col>Zipcode</th><th scope=col>Neighbourhood.Cleansed</th><th scope=col>Property.Type</th><th scope=col>Room.Type</th><th scope=col>Accommodates</th><th scope=col>Bathrooms</th><th scope=col>Bedrooms</th><th scope=col>Beds</th><th scope=col>Bed.Type</th><th scope=col>Amenities</th><th scope=col>Square.Feet</th><th scope=col>Price</th><th scope=col>Review.Scores.Rating</th></tr>\n",
              "\t<tr><th></th><th scope=col>&lt;fct&gt;</th><th scope=col>&lt;fct&gt;</th><th scope=col>&lt;fct&gt;</th><th scope=col>&lt;fct&gt;</th><th scope=col>&lt;int&gt;</th><th scope=col>&lt;dbl&gt;</th><th scope=col>&lt;int&gt;</th><th scope=col>&lt;int&gt;</th><th scope=col>&lt;fct&gt;</th><th scope=col>&lt;fct&gt;</th><th scope=col>&lt;int&gt;</th><th scope=col>&lt;int&gt;</th><th scope=col>&lt;int&gt;</th></tr>\n",
              "</thead>\n",
              "<tbody>\n",
              "\t<tr><th scope=row>1</th><td>28004</td><td>Universidad</td><td>Apartment</td><td>Private room   </td><td>2</td><td>2</td><td>1</td><td>1</td><td>Real Bed</td><td>TV,Wireless Internet,Kitchen,Pets allowed,Pets live on this property,Buzzer/wireless intercom,Heating,Suitable for events,Washer,First aid kit,Essentials,Lock on bedroom door,Iron                                                                                                                                                                             </td><td> NA</td><td>35</td><td> NA</td></tr>\n",
              "\t<tr><th scope=row>2</th><td>28004</td><td>Universidad</td><td>Apartment</td><td>Entire home/apt</td><td>6</td><td>1</td><td>3</td><td>5</td><td>Real Bed</td><td>TV,Internet,Wireless Internet,Air conditioning,Kitchen,Indoor fireplace,Heating,Family/kid friendly,Washer,Dryer,Smoke detector,Carbon monoxide detector,Essentials,Shampoo                                                                                                                                                                                     </td><td> NA</td><td>92</td><td> 96</td></tr>\n",
              "\t<tr><th scope=row>3</th><td>28004</td><td>Universidad</td><td>Apartment</td><td>Entire home/apt</td><td>3</td><td>1</td><td>2</td><td>2</td><td>Real Bed</td><td>TV,Internet,Wireless Internet,Air conditioning,Kitchen,Doorman,Heating,Family/kid friendly,Washer,Essentials,Shampoo,Hangers,Hair dryer,Iron,Laptop friendly workspace                                                                                                                                                                                          </td><td> NA</td><td>55</td><td> 91</td></tr>\n",
              "\t<tr><th scope=row>4</th><td>28004</td><td>Universidad</td><td>Loft     </td><td>Entire home/apt</td><td>3</td><td>2</td><td>1</td><td>1</td><td>Real Bed</td><td>TV,Internet,Wireless Internet,Air conditioning,Kitchen,Pets allowed,Breakfast,Elevator in building,Indoor fireplace,Buzzer/wireless intercom,Heating,Washer,Essentials,Shampoo,Hangers,Hair dryer,Iron,Laptop friendly workspace,translation missing: en.hosting_amenity_49,translation missing: en.hosting_amenity_50                                          </td><td> NA</td><td>60</td><td>100</td></tr>\n",
              "\t<tr><th scope=row>5</th><td>28015</td><td>Universidad</td><td>Apartment</td><td>Entire home/apt</td><td>5</td><td>1</td><td>1</td><td>1</td><td>Real Bed</td><td>TV,Wireless Internet,Air conditioning,Kitchen,Smoking allowed,Pets allowed,Elevator in building,Heating,Family/kid friendly,Washer,Essentials,Iron                                                                                                                                                                                                              </td><td>538</td><td>75</td><td> 90</td></tr>\n",
              "\t<tr><th scope=row>6</th><td>28004</td><td>Universidad</td><td>Apartment</td><td>Entire home/apt</td><td>2</td><td>1</td><td>0</td><td>1</td><td>Real Bed</td><td>TV,Cable TV,Internet,Wireless Internet,Air conditioning,Wheelchair accessible,Kitchen,Doorman,Elevator in building,Buzzer/wireless intercom,Heating,Washer,Smoke detector,Carbon monoxide detector,First aid kit,Safety card,Fire extinguisher,Essentials,Shampoo,24-hour check-in,Hangers,Hair dryer,Iron,Laptop friendly workspace,Self Check-In,Doorman Entry</td><td> NA</td><td>55</td><td> 95</td></tr>\n",
              "</tbody>\n",
              "</table>\n"
            ],
            "text/markdown": "\nA data.frame: 6 × 13\n\n| <!--/--> | Zipcode &lt;fct&gt; | Neighbourhood.Cleansed &lt;fct&gt; | Property.Type &lt;fct&gt; | Room.Type &lt;fct&gt; | Accommodates &lt;int&gt; | Bathrooms &lt;dbl&gt; | Bedrooms &lt;int&gt; | Beds &lt;int&gt; | Bed.Type &lt;fct&gt; | Amenities &lt;fct&gt; | Square.Feet &lt;int&gt; | Price &lt;int&gt; | Review.Scores.Rating &lt;int&gt; |\n|---|---|---|---|---|---|---|---|---|---|---|---|---|---|\n| 1 | 28004 | Universidad | Apartment | Private room    | 2 | 2 | 1 | 1 | Real Bed | TV,Wireless Internet,Kitchen,Pets allowed,Pets live on this property,Buzzer/wireless intercom,Heating,Suitable for events,Washer,First aid kit,Essentials,Lock on bedroom door,Iron                                                                                                                                                                              |  NA | 35 |  NA |\n| 2 | 28004 | Universidad | Apartment | Entire home/apt | 6 | 1 | 3 | 5 | Real Bed | TV,Internet,Wireless Internet,Air conditioning,Kitchen,Indoor fireplace,Heating,Family/kid friendly,Washer,Dryer,Smoke detector,Carbon monoxide detector,Essentials,Shampoo                                                                                                                                                                                      |  NA | 92 |  96 |\n| 3 | 28004 | Universidad | Apartment | Entire home/apt | 3 | 1 | 2 | 2 | Real Bed | TV,Internet,Wireless Internet,Air conditioning,Kitchen,Doorman,Heating,Family/kid friendly,Washer,Essentials,Shampoo,Hangers,Hair dryer,Iron,Laptop friendly workspace                                                                                                                                                                                           |  NA | 55 |  91 |\n| 4 | 28004 | Universidad | Loft      | Entire home/apt | 3 | 2 | 1 | 1 | Real Bed | TV,Internet,Wireless Internet,Air conditioning,Kitchen,Pets allowed,Breakfast,Elevator in building,Indoor fireplace,Buzzer/wireless intercom,Heating,Washer,Essentials,Shampoo,Hangers,Hair dryer,Iron,Laptop friendly workspace,translation missing: en.hosting_amenity_49,translation missing: en.hosting_amenity_50                                           |  NA | 60 | 100 |\n| 5 | 28015 | Universidad | Apartment | Entire home/apt | 5 | 1 | 1 | 1 | Real Bed | TV,Wireless Internet,Air conditioning,Kitchen,Smoking allowed,Pets allowed,Elevator in building,Heating,Family/kid friendly,Washer,Essentials,Iron                                                                                                                                                                                                               | 538 | 75 |  90 |\n| 6 | 28004 | Universidad | Apartment | Entire home/apt | 2 | 1 | 0 | 1 | Real Bed | TV,Cable TV,Internet,Wireless Internet,Air conditioning,Wheelchair accessible,Kitchen,Doorman,Elevator in building,Buzzer/wireless intercom,Heating,Washer,Smoke detector,Carbon monoxide detector,First aid kit,Safety card,Fire extinguisher,Essentials,Shampoo,24-hour check-in,Hangers,Hair dryer,Iron,Laptop friendly workspace,Self Check-In,Doorman Entry |  NA | 55 |  95 |\n\n",
            "text/latex": "A data.frame: 6 × 13\n\\begin{tabular}{r|lllllllllllll}\n  & Zipcode & Neighbourhood.Cleansed & Property.Type & Room.Type & Accommodates & Bathrooms & Bedrooms & Beds & Bed.Type & Amenities & Square.Feet & Price & Review.Scores.Rating\\\\\n  & <fct> & <fct> & <fct> & <fct> & <int> & <dbl> & <int> & <int> & <fct> & <fct> & <int> & <int> & <int>\\\\\n\\hline\n\t1 & 28004 & Universidad & Apartment & Private room    & 2 & 2 & 1 & 1 & Real Bed & TV,Wireless Internet,Kitchen,Pets allowed,Pets live on this property,Buzzer/wireless intercom,Heating,Suitable for events,Washer,First aid kit,Essentials,Lock on bedroom door,Iron                                                                                                                                                                              &  NA & 35 &  NA\\\\\n\t2 & 28004 & Universidad & Apartment & Entire home/apt & 6 & 1 & 3 & 5 & Real Bed & TV,Internet,Wireless Internet,Air conditioning,Kitchen,Indoor fireplace,Heating,Family/kid friendly,Washer,Dryer,Smoke detector,Carbon monoxide detector,Essentials,Shampoo                                                                                                                                                                                      &  NA & 92 &  96\\\\\n\t3 & 28004 & Universidad & Apartment & Entire home/apt & 3 & 1 & 2 & 2 & Real Bed & TV,Internet,Wireless Internet,Air conditioning,Kitchen,Doorman,Heating,Family/kid friendly,Washer,Essentials,Shampoo,Hangers,Hair dryer,Iron,Laptop friendly workspace                                                                                                                                                                                           &  NA & 55 &  91\\\\\n\t4 & 28004 & Universidad & Loft      & Entire home/apt & 3 & 2 & 1 & 1 & Real Bed & TV,Internet,Wireless Internet,Air conditioning,Kitchen,Pets allowed,Breakfast,Elevator in building,Indoor fireplace,Buzzer/wireless intercom,Heating,Washer,Essentials,Shampoo,Hangers,Hair dryer,Iron,Laptop friendly workspace,translation missing: en.hosting\\_amenity\\_49,translation missing: en.hosting\\_amenity\\_50                                           &  NA & 60 & 100\\\\\n\t5 & 28015 & Universidad & Apartment & Entire home/apt & 5 & 1 & 1 & 1 & Real Bed & TV,Wireless Internet,Air conditioning,Kitchen,Smoking allowed,Pets allowed,Elevator in building,Heating,Family/kid friendly,Washer,Essentials,Iron                                                                                                                                                                                                               & 538 & 75 &  90\\\\\n\t6 & 28004 & Universidad & Apartment & Entire home/apt & 2 & 1 & 0 & 1 & Real Bed & TV,Cable TV,Internet,Wireless Internet,Air conditioning,Wheelchair accessible,Kitchen,Doorman,Elevator in building,Buzzer/wireless intercom,Heating,Washer,Smoke detector,Carbon monoxide detector,First aid kit,Safety card,Fire extinguisher,Essentials,Shampoo,24-hour check-in,Hangers,Hair dryer,Iron,Laptop friendly workspace,Self Check-In,Doorman Entry &  NA & 55 &  95\\\\\n\\end{tabular}\n",
            "text/plain": [
              "  Zipcode Neighbourhood.Cleansed Property.Type Room.Type       Accommodates\n",
              "1 28004   Universidad            Apartment     Private room    2           \n",
              "2 28004   Universidad            Apartment     Entire home/apt 6           \n",
              "3 28004   Universidad            Apartment     Entire home/apt 3           \n",
              "4 28004   Universidad            Loft          Entire home/apt 3           \n",
              "5 28015   Universidad            Apartment     Entire home/apt 5           \n",
              "6 28004   Universidad            Apartment     Entire home/apt 2           \n",
              "  Bathrooms Bedrooms Beds Bed.Type\n",
              "1 2         1        1    Real Bed\n",
              "2 1         3        5    Real Bed\n",
              "3 1         2        2    Real Bed\n",
              "4 2         1        1    Real Bed\n",
              "5 1         1        1    Real Bed\n",
              "6 1         0        1    Real Bed\n",
              "  Amenities                                                                                                                                                                                                                                                                                                                                                       \n",
              "1 TV,Wireless Internet,Kitchen,Pets allowed,Pets live on this property,Buzzer/wireless intercom,Heating,Suitable for events,Washer,First aid kit,Essentials,Lock on bedroom door,Iron                                                                                                                                                                             \n",
              "2 TV,Internet,Wireless Internet,Air conditioning,Kitchen,Indoor fireplace,Heating,Family/kid friendly,Washer,Dryer,Smoke detector,Carbon monoxide detector,Essentials,Shampoo                                                                                                                                                                                     \n",
              "3 TV,Internet,Wireless Internet,Air conditioning,Kitchen,Doorman,Heating,Family/kid friendly,Washer,Essentials,Shampoo,Hangers,Hair dryer,Iron,Laptop friendly workspace                                                                                                                                                                                          \n",
              "4 TV,Internet,Wireless Internet,Air conditioning,Kitchen,Pets allowed,Breakfast,Elevator in building,Indoor fireplace,Buzzer/wireless intercom,Heating,Washer,Essentials,Shampoo,Hangers,Hair dryer,Iron,Laptop friendly workspace,translation missing: en.hosting_amenity_49,translation missing: en.hosting_amenity_50                                          \n",
              "5 TV,Wireless Internet,Air conditioning,Kitchen,Smoking allowed,Pets allowed,Elevator in building,Heating,Family/kid friendly,Washer,Essentials,Iron                                                                                                                                                                                                              \n",
              "6 TV,Cable TV,Internet,Wireless Internet,Air conditioning,Wheelchair accessible,Kitchen,Doorman,Elevator in building,Buzzer/wireless intercom,Heating,Washer,Smoke detector,Carbon monoxide detector,First aid kit,Safety card,Fire extinguisher,Essentials,Shampoo,24-hour check-in,Hangers,Hair dryer,Iron,Laptop friendly workspace,Self Check-In,Doorman Entry\n",
              "  Square.Feet Price Review.Scores.Rating\n",
              "1  NA         35     NA                 \n",
              "2  NA         92     96                 \n",
              "3  NA         55     91                 \n",
              "4  NA         60    100                 \n",
              "5 538         75     90                 \n",
              "6  NA         55     95                 "
            ]
          },
          "metadata": {}
        }
      ],
      "source": [
        "head(airbnb)\n"
      ]
    },
    {
      "cell_type": "markdown",
      "metadata": {
        "id": "tvTg4gPkiu8t"
      },
      "source": [
        "**Renombrar las columnas de la siguiente forma:**\n",
        "\n",
        "| Nombre original | Nuevo nombre |\n",
        "| - | - |\n",
        "| Zipcode | CodigoPostal |\n",
        "| Neighbourhood.Cleansed | Barrio |\n",
        "| Property.Type\t| TipoPropiedad |\n",
        "| Room.Type | TipoAlquiler |\n",
        "| Accommodates | MaxOcupantes |\n",
        "| Bathrooms\t| NumBanyos |\n",
        "| Bedrooms\t| NumDormitorios |\n",
        "| Beds\t|  NumCamas |\n",
        "| Bed.Type\t| TipoCama |\n",
        "| Amenities | Comodidades |\n",
        "| Square.Feet | PiesCuadrados |\n",
        "| Price\t| Precio |\n",
        "| Review.Scores.Rating | Puntuacion |"
      ]
    },
    {
      "cell_type": "code",
      "execution_count": 4,
      "metadata": {
        "id": "GLiWErY2iu8u"
      },
      "outputs": [],
      "source": [
        "newnames<-c(\"CodigoPostal\",\"Barrio\",\"TipoPropiedad\",\"TipoAlquiler\",\"MaxOcupantes\",\"NumBanyos\",\n",
        "\"NumDormitorios\",\"NumCamas\",\"TipoCama\",\"Comodidades\",\"PiesCuadrados\",\"Precio\",\"Puntuacion\")\n"
      ]
    },
    {
      "cell_type": "markdown",
      "metadata": {
        "id": "YDDztHD8iu8u"
      },
      "source": [
        "**Crea una nueva columna llamada MetrosCuadrados a partir de la columna PiesCuadrados.**\n",
        "\n",
        "**Ayuda: 1 pie cuadrado son 0,092903 metros cuadrdados **"
      ]
    },
    {
      "cell_type": "code",
      "source": [
        "list.of.packages <- c(\"tidyverse\",\"corrplot\",\"ggplot2\", \"GGally\", \"MASS\")\n",
        "{\n",
        " new.packages <- list.of.packages[!(list.of.packages %in% installed.packages()[,\"Package\"])]\n",
        " if(length(new.packages)) install.packages(new.packages)\n",
        " lapply(list.of.packages, require, character.only = TRUE)\n",
        "}\n",
        "require (tidyverse)\n",
        "require (corrplot)\n",
        "require (ggplot2)\n",
        "require(GGally)\n",
        "require (MASS)"
      ],
      "metadata": {
        "colab": {
          "base_uri": "https://localhost:8080/",
          "height": 756
        },
        "id": "HBpOdjw6JDze",
        "outputId": "fb2b12ae-99b1-4f30-8a73-fbd46b332335"
      },
      "execution_count": 5,
      "outputs": [
        {
          "output_type": "stream",
          "name": "stderr",
          "text": [
            "Loading required package: tidyverse\n",
            "\n",
            "Warning message in system(\"timedatectl\", intern = TRUE):\n",
            "“running command 'timedatectl' had status 1”\n",
            "── \u001b[1mAttaching packages\u001b[22m ─────────────────────────────────────── tidyverse 1.3.1 ──\n",
            "\n",
            "\u001b[32m✔\u001b[39m \u001b[34mggplot2\u001b[39m 3.3.5     \u001b[32m✔\u001b[39m \u001b[34mpurrr  \u001b[39m 0.3.4\n",
            "\u001b[32m✔\u001b[39m \u001b[34mtibble \u001b[39m 3.1.6     \u001b[32m✔\u001b[39m \u001b[34mdplyr  \u001b[39m 1.0.8\n",
            "\u001b[32m✔\u001b[39m \u001b[34mtidyr  \u001b[39m 1.2.0     \u001b[32m✔\u001b[39m \u001b[34mstringr\u001b[39m 1.4.0\n",
            "\u001b[32m✔\u001b[39m \u001b[34mreadr  \u001b[39m 2.1.2     \u001b[32m✔\u001b[39m \u001b[34mforcats\u001b[39m 0.5.1\n",
            "\n",
            "── \u001b[1mConflicts\u001b[22m ────────────────────────────────────────── tidyverse_conflicts() ──\n",
            "\u001b[31m✖\u001b[39m \u001b[34mdplyr\u001b[39m::\u001b[32mfilter()\u001b[39m masks \u001b[34mstats\u001b[39m::filter()\n",
            "\u001b[31m✖\u001b[39m \u001b[34mdplyr\u001b[39m::\u001b[32mlag()\u001b[39m    masks \u001b[34mstats\u001b[39m::lag()\n",
            "\n",
            "Loading required package: corrplot\n",
            "\n",
            "corrplot 0.92 loaded\n",
            "\n",
            "Loading required package: GGally\n",
            "\n",
            "Registered S3 method overwritten by 'GGally':\n",
            "  method from   \n",
            "  +.gg   ggplot2\n",
            "\n",
            "Loading required package: MASS\n",
            "\n",
            "\n",
            "Attaching package: ‘MASS’\n",
            "\n",
            "\n",
            "The following object is masked from ‘package:dplyr’:\n",
            "\n",
            "    select\n",
            "\n",
            "\n"
          ]
        },
        {
          "output_type": "display_data",
          "data": {
            "text/html": [
              "<ol>\n",
              "\t<li>TRUE</li>\n",
              "\t<li>TRUE</li>\n",
              "\t<li>TRUE</li>\n",
              "\t<li>TRUE</li>\n",
              "\t<li>TRUE</li>\n",
              "</ol>\n"
            ],
            "text/markdown": "1. TRUE\n2. TRUE\n3. TRUE\n4. TRUE\n5. TRUE\n\n\n",
            "text/latex": "\\begin{enumerate}\n\\item TRUE\n\\item TRUE\n\\item TRUE\n\\item TRUE\n\\item TRUE\n\\end{enumerate}\n",
            "text/plain": [
              "[[1]]\n",
              "[1] TRUE\n",
              "\n",
              "[[2]]\n",
              "[1] TRUE\n",
              "\n",
              "[[3]]\n",
              "[1] TRUE\n",
              "\n",
              "[[4]]\n",
              "[1] TRUE\n",
              "\n",
              "[[5]]\n",
              "[1] TRUE\n"
            ]
          },
          "metadata": {}
        }
      ]
    },
    {
      "cell_type": "code",
      "execution_count": 6,
      "metadata": {
        "colab": {
          "base_uri": "https://localhost:8080/",
          "height": 51
        },
        "id": "8ynPELXAiu8u",
        "outputId": "d95b8248-fdf4-4b7c-e9d1-69ac977d1fbc"
      },
      "outputs": [
        {
          "output_type": "display_data",
          "data": {
            "text/html": [
              "<style>\n",
              ".list-inline {list-style: none; margin:0; padding: 0}\n",
              ".list-inline>li {display: inline-block}\n",
              ".list-inline>li:not(:last-child)::after {content: \"\\00b7\"; padding: 0 .5ex}\n",
              "</style>\n",
              "<ol class=list-inline><li>'CodigoPostal'</li><li>'Barrio'</li><li>'TipoPropiedad'</li><li>'TipoAlquiler'</li><li>'MaxOcupantes'</li><li>'NumBanyos'</li><li>'NumDormitorios'</li><li>'NumCamas'</li><li>'TipoCama'</li><li>'Comodidades'</li><li>'PiesCuadrados'</li><li>'Precio'</li><li>'Puntuacion'</li><li>'MetrosCuadrados'</li></ol>\n"
            ],
            "text/markdown": "1. 'CodigoPostal'\n2. 'Barrio'\n3. 'TipoPropiedad'\n4. 'TipoAlquiler'\n5. 'MaxOcupantes'\n6. 'NumBanyos'\n7. 'NumDormitorios'\n8. 'NumCamas'\n9. 'TipoCama'\n10. 'Comodidades'\n11. 'PiesCuadrados'\n12. 'Precio'\n13. 'Puntuacion'\n14. 'MetrosCuadrados'\n\n\n",
            "text/latex": "\\begin{enumerate*}\n\\item 'CodigoPostal'\n\\item 'Barrio'\n\\item 'TipoPropiedad'\n\\item 'TipoAlquiler'\n\\item 'MaxOcupantes'\n\\item 'NumBanyos'\n\\item 'NumDormitorios'\n\\item 'NumCamas'\n\\item 'TipoCama'\n\\item 'Comodidades'\n\\item 'PiesCuadrados'\n\\item 'Precio'\n\\item 'Puntuacion'\n\\item 'MetrosCuadrados'\n\\end{enumerate*}\n",
            "text/plain": [
              " [1] \"CodigoPostal\"    \"Barrio\"          \"TipoPropiedad\"   \"TipoAlquiler\"   \n",
              " [5] \"MaxOcupantes\"    \"NumBanyos\"       \"NumDormitorios\"  \"NumCamas\"       \n",
              " [9] \"TipoCama\"        \"Comodidades\"     \"PiesCuadrados\"   \"Precio\"         \n",
              "[13] \"Puntuacion\"      \"MetrosCuadrados\""
            ]
          },
          "metadata": {}
        }
      ],
      "source": [
        "names(airbnb)<-newnames\n",
        "airbnb$MetrosCuadrados<-airbnb$PiesCuadrados*0.092903\n",
        "names(airbnb)"
      ]
    },
    {
      "cell_type": "markdown",
      "metadata": {
        "id": "cKqfKtPMiu8v"
      },
      "source": [
        "**Miremos el código postal. Es una variable con entradas erroneas.\n",
        "Hay valores como '', '-'  y '28' que deberían ser considerados como NA.\n",
        "Así mismo también debería ser NA todos los que no compiencen por 28, ya que estamos con códigos postales de Madrid**\n",
        "\n",
        "**El código postal 28002, 28004 y 28051 tienen entradas repetidas. **\n",
        "**Por ejemplo las entradas 28002\\n20882 deberían ir dnetro de 28002**\n",
        "\n",
        "**El codigo 2804 debería ser 28004, 2805 deberia ser 28005 y 2815 juncto con 2815 debería ser 28015**\n",
        "\n",
        "**Limpia los datos de la columna Codigo Postal**"
      ]
    },
    {
      "cell_type": "code",
      "source": [
        "str(airbnb$CodigoPostal)"
      ],
      "metadata": {
        "colab": {
          "base_uri": "https://localhost:8080/"
        },
        "id": "9MgYcoURo73c",
        "outputId": "7a761370-874d-401a-fd1d-e715be2ec21b"
      },
      "execution_count": 7,
      "outputs": [
        {
          "output_type": "stream",
          "name": "stdout",
          "text": [
            " Factor w/ 77 levels \"\",\"-\",\"20013\",..: 15 15 15 15 26 15 15 15 26 15 ...\n"
          ]
        }
      ]
    },
    {
      "cell_type": "code",
      "execution_count": 8,
      "metadata": {
        "colab": {
          "base_uri": "https://localhost:8080/",
          "height": 367
        },
        "id": "NIvjQ1f3iu8v",
        "outputId": "f4082b21-a446-4e01-b90d-553366c6d43f"
      },
      "outputs": [
        {
          "output_type": "stream",
          "name": "stdout",
          "text": [
            "'data.frame':\t13207 obs. of  14 variables:\n",
            " $ CodigoPostal   : Factor w/ 62 levels \"28001\",\"28002\",..: 4 4 4 4 15 4 4 4 15 4 ...\n",
            " $ Barrio         : Factor w/ 125 levels \"Abrantes\",\"Acacias\",..: 115 115 115 115 115 115 115 115 115 115 ...\n",
            " $ TipoPropiedad  : Factor w/ 22 levels \"Apartment\",\"Bed & Breakfast\",..: 1 1 1 16 1 1 15 1 1 1 ...\n",
            " $ TipoAlquiler   : Factor w/ 3 levels \"Entire home/apt\",..: 2 1 1 1 1 1 2 1 1 1 ...\n",
            " $ MaxOcupantes   : int  2 6 3 3 5 2 7 3 2 4 ...\n",
            " $ NumBanyos      : num  2 1 1 2 1 1 5 1 1 2 ...\n",
            " $ NumDormitorios : int  1 3 2 1 1 0 1 1 1 2 ...\n",
            " $ NumCamas       : int  1 5 2 1 1 1 7 NA 1 2 ...\n",
            " $ TipoCama       : Factor w/ 5 levels \"Airbed\",\"Couch\",..: 5 5 5 5 5 5 5 5 5 5 ...\n",
            " $ Comodidades    : Factor w/ 11073 levels \"\",\"Air conditioning,Breakfast,Washer,Essentials,Hair dryer\",..: 9444 4020 3249 4039 8369 2047 961 7436 5618 7736 ...\n",
            " $ PiesCuadrados  : int  NA NA NA NA 538 NA NA NA 700 NA ...\n",
            " $ Precio         : int  35 92 55 60 75 55 60 70 90 155 ...\n",
            " $ Puntuacion     : int  NA 96 91 100 90 95 77 84 98 NA ...\n",
            " $ MetrosCuadrados: num  NA NA NA NA 50 ...\n"
          ]
        },
        {
          "output_type": "display_data",
          "data": {
            "text/html": [
              "<style>\n",
              ".list-inline {list-style: none; margin:0; padding: 0}\n",
              ".list-inline>li {display: inline-block}\n",
              ".list-inline>li:not(:last-child)::after {content: \"\\00b7\"; padding: 0 .5ex}\n",
              "</style>\n",
              "<ol class=list-inline><li>'28001'</li><li>'28002'</li><li>'28003'</li><li>'28004'</li><li>'28005'</li><li>'28006'</li><li>'28007'</li><li>'28008'</li><li>'28009'</li><li>'28010'</li><li>'28011'</li><li>'28012'</li><li>'28013'</li><li>'28014'</li><li>'28015'</li><li>'28016'</li><li>'28017'</li><li>'28018'</li><li>'28019'</li><li>'28020'</li><li>'28021'</li><li>'28022'</li><li>'28023'</li><li>'28024'</li><li>'28025'</li><li>'28026'</li><li>'28027'</li><li>'28028'</li><li>'28029'</li><li>'28030'</li><li>'28031'</li><li>'28032'</li><li>'28033'</li><li>'28034'</li><li>'28035'</li><li>'28036'</li><li>'28037'</li><li>'28038'</li><li>'28039'</li><li>'28040'</li><li>'28041'</li><li>'28042'</li><li>'28043'</li><li>'28044'</li><li>'28045'</li><li>'28046'</li><li>'28047'</li><li>'28048'</li><li>'28049'</li><li>'28050'</li><li>'28051'</li><li>'28052'</li><li>'28053'</li><li>'28054'</li><li>'28055'</li><li>'28056'</li><li>'28058'</li><li>'28060'</li><li>'28094'</li><li>'28105'</li><li>'28850'</li><li>'NA'</li></ol>\n"
            ],
            "text/markdown": "1. '28001'\n2. '28002'\n3. '28003'\n4. '28004'\n5. '28005'\n6. '28006'\n7. '28007'\n8. '28008'\n9. '28009'\n10. '28010'\n11. '28011'\n12. '28012'\n13. '28013'\n14. '28014'\n15. '28015'\n16. '28016'\n17. '28017'\n18. '28018'\n19. '28019'\n20. '28020'\n21. '28021'\n22. '28022'\n23. '28023'\n24. '28024'\n25. '28025'\n26. '28026'\n27. '28027'\n28. '28028'\n29. '28029'\n30. '28030'\n31. '28031'\n32. '28032'\n33. '28033'\n34. '28034'\n35. '28035'\n36. '28036'\n37. '28037'\n38. '28038'\n39. '28039'\n40. '28040'\n41. '28041'\n42. '28042'\n43. '28043'\n44. '28044'\n45. '28045'\n46. '28046'\n47. '28047'\n48. '28048'\n49. '28049'\n50. '28050'\n51. '28051'\n52. '28052'\n53. '28053'\n54. '28054'\n55. '28055'\n56. '28056'\n57. '28058'\n58. '28060'\n59. '28094'\n60. '28105'\n61. '28850'\n62. 'NA'\n\n\n",
            "text/latex": "\\begin{enumerate*}\n\\item '28001'\n\\item '28002'\n\\item '28003'\n\\item '28004'\n\\item '28005'\n\\item '28006'\n\\item '28007'\n\\item '28008'\n\\item '28009'\n\\item '28010'\n\\item '28011'\n\\item '28012'\n\\item '28013'\n\\item '28014'\n\\item '28015'\n\\item '28016'\n\\item '28017'\n\\item '28018'\n\\item '28019'\n\\item '28020'\n\\item '28021'\n\\item '28022'\n\\item '28023'\n\\item '28024'\n\\item '28025'\n\\item '28026'\n\\item '28027'\n\\item '28028'\n\\item '28029'\n\\item '28030'\n\\item '28031'\n\\item '28032'\n\\item '28033'\n\\item '28034'\n\\item '28035'\n\\item '28036'\n\\item '28037'\n\\item '28038'\n\\item '28039'\n\\item '28040'\n\\item '28041'\n\\item '28042'\n\\item '28043'\n\\item '28044'\n\\item '28045'\n\\item '28046'\n\\item '28047'\n\\item '28048'\n\\item '28049'\n\\item '28050'\n\\item '28051'\n\\item '28052'\n\\item '28053'\n\\item '28054'\n\\item '28055'\n\\item '28056'\n\\item '28058'\n\\item '28060'\n\\item '28094'\n\\item '28105'\n\\item '28850'\n\\item 'NA'\n\\end{enumerate*}\n",
            "text/plain": [
              " [1] \"28001\" \"28002\" \"28003\" \"28004\" \"28005\" \"28006\" \"28007\" \"28008\" \"28009\"\n",
              "[10] \"28010\" \"28011\" \"28012\" \"28013\" \"28014\" \"28015\" \"28016\" \"28017\" \"28018\"\n",
              "[19] \"28019\" \"28020\" \"28021\" \"28022\" \"28023\" \"28024\" \"28025\" \"28026\" \"28027\"\n",
              "[28] \"28028\" \"28029\" \"28030\" \"28031\" \"28032\" \"28033\" \"28034\" \"28035\" \"28036\"\n",
              "[37] \"28037\" \"28038\" \"28039\" \"28040\" \"28041\" \"28042\" \"28043\" \"28044\" \"28045\"\n",
              "[46] \"28046\" \"28047\" \"28048\" \"28049\" \"28050\" \"28051\" \"28052\" \"28053\" \"28054\"\n",
              "[55] \"28055\" \"28056\" \"28058\" \"28060\" \"28094\" \"28105\" \"28850\" \"NA\"   "
            ]
          },
          "metadata": {}
        }
      ],
      "source": [
        "airbnb$CodigoPostal <- as.character(airbnb$CodigoPostal)\n",
        "airbnb$CodigoPostal[airbnb$CodigoPostal == \"\"] <- 'NA'\n",
        "airbnb$CodigoPostal[airbnb$CodigoPostal == \"-\"] <- 'NA'\n",
        "airbnb$CodigoPostal[airbnb$CodigoPostal == \"28002\\n20882\"] <- '28002'\n",
        "airbnb$CodigoPostal[airbnb$CodigoPostal == \"28002\\n28002\"] <- '28002'\n",
        "airbnb$CodigoPostal[airbnb$CodigoPostal == \"28051\\n28051\"] <- '28051'\n",
        "airbnb$CodigoPostal[airbnb$CodigoPostal == \"2804\"] <- '28004'\n",
        "airbnb$CodigoPostal[airbnb$CodigoPostal == \"2805\"] <- '28005'\n",
        "airbnb$CodigoPostal[airbnb$CodigoPostal == \"2815\"] <- '28015'\n",
        "airbnb$CodigoPostal[airbnb$CodigoPostal == \"280013\"] <- '28013'\n",
        "airbnb$CodigoPostal[substr(airbnb$CodigoPostal,1,2) != '28'] <- 'NA'\n",
        "airbnb$CodigoPostal[nchar(airbnb$CodigoPostal) == 2] <- 'NA'\n",
        "airbnb$CodigoPostal <- as.factor(airbnb$CodigoPostal)\n",
        "str(airbnb)\n",
        "levels(airbnb$CodigoPostal)\n",
        "\n",
        "\n",
        "\n",
        "\n",
        "\n"
      ]
    },
    {
      "cell_type": "code",
      "source": [
        "airbnb2 <- airbnb[!is.na(airbnb$CodigoPostal),]\n",
        "airbnb2<-droplevels(airbnb2)\n",
        "str(airbnb2)\n",
        "\n",
        "\n"
      ],
      "metadata": {
        "colab": {
          "base_uri": "https://localhost:8080/"
        },
        "id": "EgEkOYg5szMc",
        "outputId": "aa132dd7-fab5-4f84-f127-da7b4d70e648"
      },
      "execution_count": 9,
      "outputs": [
        {
          "output_type": "stream",
          "name": "stdout",
          "text": [
            "'data.frame':\t13207 obs. of  14 variables:\n",
            " $ CodigoPostal   : Factor w/ 62 levels \"28001\",\"28002\",..: 4 4 4 4 15 4 4 4 15 4 ...\n",
            " $ Barrio         : Factor w/ 125 levels \"Abrantes\",\"Acacias\",..: 115 115 115 115 115 115 115 115 115 115 ...\n",
            " $ TipoPropiedad  : Factor w/ 22 levels \"Apartment\",\"Bed & Breakfast\",..: 1 1 1 16 1 1 15 1 1 1 ...\n",
            " $ TipoAlquiler   : Factor w/ 3 levels \"Entire home/apt\",..: 2 1 1 1 1 1 2 1 1 1 ...\n",
            " $ MaxOcupantes   : int  2 6 3 3 5 2 7 3 2 4 ...\n",
            " $ NumBanyos      : num  2 1 1 2 1 1 5 1 1 2 ...\n",
            " $ NumDormitorios : int  1 3 2 1 1 0 1 1 1 2 ...\n",
            " $ NumCamas       : int  1 5 2 1 1 1 7 NA 1 2 ...\n",
            " $ TipoCama       : Factor w/ 5 levels \"Airbed\",\"Couch\",..: 5 5 5 5 5 5 5 5 5 5 ...\n",
            " $ Comodidades    : Factor w/ 11073 levels \"\",\"Air conditioning,Breakfast,Washer,Essentials,Hair dryer\",..: 9444 4020 3249 4039 8369 2047 961 7436 5618 7736 ...\n",
            " $ PiesCuadrados  : int  NA NA NA NA 538 NA NA NA 700 NA ...\n",
            " $ Precio         : int  35 92 55 60 75 55 60 70 90 155 ...\n",
            " $ Puntuacion     : int  NA 96 91 100 90 95 77 84 98 NA ...\n",
            " $ MetrosCuadrados: num  NA NA NA NA 50 ...\n"
          ]
        }
      ]
    },
    {
      "cell_type": "markdown",
      "metadata": {
        "id": "drlkAA6Biu8v"
      },
      "source": [
        "**Una vez limpios los datos ¿Cuales son los códigos postales que tenemos? **"
      ]
    },
    {
      "cell_type": "code",
      "execution_count": 10,
      "metadata": {
        "id": "5q16Pjlaiu8w",
        "colab": {
          "base_uri": "https://localhost:8080/",
          "height": 208
        },
        "outputId": "af901dd2-bd35-4dda-fddd-7499b2e8d3d8"
      },
      "outputs": [
        {
          "output_type": "display_data",
          "data": {
            "text/plain": [
              "\n",
              "28001 28002 28003 28004 28005 28006 28007 28008 28009 28010 28011 28012 28013 \n",
              "  231   171   185  1795  1195   218   206   338   216   384   250  2060  1020 \n",
              "28014 28015 28016 28017 28018 28019 28020 28021 28022 28023 28024 28025 28026 \n",
              "  630   601    76   107    43   200   192    58    30    23    44   123    93 \n",
              "28027 28028 28029 28030 28031 28032 28033 28034 28035 28036 28037 28038 28039 \n",
              "  122   263   110    73    27    33    89    45    59    67    65    77   160 \n",
              "28040 28041 28042 28043 28044 28045 28046 28047 28048 28049 28050 28051 28052 \n",
              "   16    63    90   103    19   495    32    67     1     3    58    17     1 \n",
              "28053 28054 28055 28056 28058 28060 28094 28105 28850 \n",
              "   85    12    12     1     1     1     1     1     1 "
            ]
          },
          "metadata": {}
        }
      ],
      "source": [
        "table(airbnb2$CodigoPostal, exclude = 'NA')"
      ]
    },
    {
      "cell_type": "markdown",
      "metadata": {
        "id": "_enfETfMiu8w"
      },
      "source": [
        "**¿Cuales son los 5 códigos postales con más entradas? ¿Y con menos? ¿Cuantas entradas tienen?**"
      ]
    },
    {
      "cell_type": "markdown",
      "source": [
        "***Respuesta:*** Los códigos postales con más entradas son:"
      ],
      "metadata": {
        "id": "ATWujWaRwqbH"
      }
    },
    {
      "cell_type": "code",
      "execution_count": 11,
      "metadata": {
        "id": "Y04JaC9Oiu8w",
        "colab": {
          "base_uri": "https://localhost:8080/",
          "height": 69
        },
        "outputId": "e52ef552-df31-4465-f55f-163e12c1d10f"
      },
      "outputs": [
        {
          "output_type": "display_data",
          "data": {
            "text/plain": [
              "\n",
              "28012 28004 28005 28013 28014 \n",
              " 2060  1795  1195  1020   630 "
            ]
          },
          "metadata": {}
        }
      ],
      "source": [
        "head(sort(table(airbnb2$CodigoPostal, exclude = 'NA'),decreasing= TRUE),5)\n"
      ]
    },
    {
      "cell_type": "markdown",
      "source": [
        "**Respuesta:** Los códigos postales con menos entradas son:"
      ],
      "metadata": {
        "id": "zm4GknP-wxv8"
      }
    },
    {
      "cell_type": "code",
      "source": [
        "tail(sort(table(airbnb2$CodigoPostal, exclude = 'NA'),decreasing= TRUE),5)"
      ],
      "metadata": {
        "colab": {
          "base_uri": "https://localhost:8080/",
          "height": 69
        },
        "id": "wu8Cdvb3wlFN",
        "outputId": "41041ba6-6417-46aa-a93f-2fc692148ef1"
      },
      "execution_count": 12,
      "outputs": [
        {
          "output_type": "display_data",
          "data": {
            "text/plain": [
              "\n",
              "28058 28060 28094 28105 28850 \n",
              "    1     1     1     1     1 "
            ]
          },
          "metadata": {}
        }
      ]
    },
    {
      "cell_type": "markdown",
      "metadata": {
        "id": "ixuBxjcOiu8w"
      },
      "source": [
        "**¿Cuales son los barrios que hay en el código postal 28012?**"
      ]
    },
    {
      "cell_type": "code",
      "execution_count": 13,
      "metadata": {
        "id": "obdzjttIiu8w",
        "colab": {
          "base_uri": "https://localhost:8080/",
          "height": 376
        },
        "outputId": "f0cc5b31-1bc3-4eb0-8781-69826c89ee42"
      },
      "outputs": [
        {
          "output_type": "display_data",
          "data": {
            "text/html": [
              "<style>\n",
              ".list-inline {list-style: none; margin:0; padding: 0}\n",
              ".list-inline>li {display: inline-block}\n",
              ".list-inline>li:not(:last-child)::after {content: \"\\00b7\"; padding: 0 .5ex}\n",
              "</style>\n",
              "<ol class=list-inline><li>Sol</li><li>Acacias</li><li>Palos de Moguer</li><li>Embajadores</li><li>Cortes</li><li>Palacio</li><li>Universidad</li><li>Delicias</li><li>Arapiles</li><li>Atocha</li><li>Goya</li></ol>\n",
              "\n",
              "<details>\n",
              "\t<summary style=display:list-item;cursor:pointer>\n",
              "\t\t<strong>Levels</strong>:\n",
              "\t</summary>\n",
              "\t<style>\n",
              "\t.list-inline {list-style: none; margin:0; padding: 0}\n",
              "\t.list-inline>li {display: inline-block}\n",
              "\t.list-inline>li:not(:last-child)::after {content: \"\\00b7\"; padding: 0 .5ex}\n",
              "\t</style>\n",
              "\t<ol class=list-inline><li>'Abrantes'</li><li>'Acacias'</li><li>'Adelfas'</li><li>'Aeropuerto'</li><li>'Aguilas'</li><li>'Alameda de Osuna'</li><li>'Almagro'</li><li>'Almenara'</li><li>'Almendrales'</li><li>'Aluche'</li><li>'Ambroz'</li><li>'Amposta'</li><li>'Apostol Santiago'</li><li>'Arapiles'</li><li>'Aravaca'</li><li>'Arcos'</li><li>'Argüelles'</li><li>'Atocha'</li><li>'Bellas Vistas'</li><li>'Berruguete'</li><li>'Buenavista'</li><li>'Butarque'</li><li>'Campamento'</li><li>'Canillas'</li><li>'Canillejas'</li><li>'Cármenes'</li><li>'Casa de Campo'</li><li>'Casco Histórico de Barajas'</li><li>'Casco Histórico de Vallecas'</li><li>'Casco Histórico de Vicálvaro'</li><li>'Castellana'</li><li>'Castilla'</li><li>'Castillejos'</li><li>'Chopera'</li><li>'Ciudad Jardín'</li><li>'Ciudad Universitaria'</li><li>'Colina'</li><li>'Comillas'</li><li>'Concepción'</li><li>'Corralejos'</li><li>'Cortes'</li><li>'Costillares'</li><li>'Cuatro Caminos'</li><li>'Cuatro Vientos'</li><li>'Delicias'</li><li>'El Goloso'</li><li>'El Plantío'</li><li>'El Viso'</li><li>'Embajadores'</li><li>'Entrevías'</li><li>'Estrella'</li><li>'Fontarrón'</li><li>'Fuente del Berro'</li><li>'Fuentelareina'</li><li>'Gaztambide'</li><li>'Goya'</li><li>'Guindalera'</li><li>'Hellín'</li><li>'Hispanoamérica'</li><li>'Ibiza'</li><li>'Imperial'</li><li>'Jerónimos'</li><li>'Justicia'</li><li>'La Paz'</li><li>'Legazpi'</li><li>'Lista'</li><li>'Los Angeles'</li><li>'Los Rosales'</li><li>'Lucero'</li><li>'Marroquina'</li><li>'Media Legua'</li><li>'Mirasierra'</li><li>'Moscardó'</li><li>'Niño Jesús'</li><li>'Nueva España'</li><li>'Numancia'</li><li>'Opañel'</li><li>'Orcasitas'</li><li>'Orcasur'</li><li>'Pacífico'</li><li>'Palacio'</li><li>'Palomas'</li><li>'Palomeras Bajas'</li><li>'Palomeras Sureste'</li><li>'Palos de Moguer'</li><li>'Pavones'</li><li>'Peñagrande'</li><li>'Pilar'</li><li>'Pinar del Rey'</li><li>'Piovera'</li><li>'Portazgo'</li><li>'Pradolongo'</li><li>'Prosperidad'</li><li>'Pueblo Nuevo'</li><li>'Puerta Bonita'</li><li>'Puerta del Angel'</li><li>'Quintana'</li><li>'Recoletos'</li><li>'Rejas'</li><li>'Rios Rosas'</li><li>'Rosas'</li><li>'Salvador'</li><li>'San Andrés'</li><li>'San Cristobal'</li><li>'San Diego'</li><li>'San Fermín'</li><li>'San Isidro'</li><li>'San Juan Bautista'</li><li>'San Pascual'</li><li>'Santa Eugenia'</li><li>'Simancas'</li><li>'Sol'</li><li>'Timón'</li><li>'Trafalgar'</li><li>'Universidad'</li><li>'Valdeacederas'</li><li>'Valdefuentes'</li><li>'Valdemarín'</li><li>'Valdezarza'</li><li>'Vallehermoso'</li><li>'Valverde'</li><li>'Ventas'</li><li>'Vinateros'</li><li>'Vista Alegre'</li><li>'Zofío'</li></ol>\n",
              "</details>"
            ],
            "text/markdown": "1. Sol\n2. Acacias\n3. Palos de Moguer\n4. Embajadores\n5. Cortes\n6. Palacio\n7. Universidad\n8. Delicias\n9. Arapiles\n10. Atocha\n11. Goya\n\n\n\n**Levels**: 1. 'Abrantes'\n2. 'Acacias'\n3. 'Adelfas'\n4. 'Aeropuerto'\n5. 'Aguilas'\n6. 'Alameda de Osuna'\n7. 'Almagro'\n8. 'Almenara'\n9. 'Almendrales'\n10. 'Aluche'\n11. 'Ambroz'\n12. 'Amposta'\n13. 'Apostol Santiago'\n14. 'Arapiles'\n15. 'Aravaca'\n16. 'Arcos'\n17. 'Argüelles'\n18. 'Atocha'\n19. 'Bellas Vistas'\n20. 'Berruguete'\n21. 'Buenavista'\n22. 'Butarque'\n23. 'Campamento'\n24. 'Canillas'\n25. 'Canillejas'\n26. 'Cármenes'\n27. 'Casa de Campo'\n28. 'Casco Histórico de Barajas'\n29. 'Casco Histórico de Vallecas'\n30. 'Casco Histórico de Vicálvaro'\n31. 'Castellana'\n32. 'Castilla'\n33. 'Castillejos'\n34. 'Chopera'\n35. 'Ciudad Jardín'\n36. 'Ciudad Universitaria'\n37. 'Colina'\n38. 'Comillas'\n39. 'Concepción'\n40. 'Corralejos'\n41. 'Cortes'\n42. 'Costillares'\n43. 'Cuatro Caminos'\n44. 'Cuatro Vientos'\n45. 'Delicias'\n46. 'El Goloso'\n47. 'El Plantío'\n48. 'El Viso'\n49. 'Embajadores'\n50. 'Entrevías'\n51. 'Estrella'\n52. 'Fontarrón'\n53. 'Fuente del Berro'\n54. 'Fuentelareina'\n55. 'Gaztambide'\n56. 'Goya'\n57. 'Guindalera'\n58. 'Hellín'\n59. 'Hispanoamérica'\n60. 'Ibiza'\n61. 'Imperial'\n62. 'Jerónimos'\n63. 'Justicia'\n64. 'La Paz'\n65. 'Legazpi'\n66. 'Lista'\n67. 'Los Angeles'\n68. 'Los Rosales'\n69. 'Lucero'\n70. 'Marroquina'\n71. 'Media Legua'\n72. 'Mirasierra'\n73. 'Moscardó'\n74. 'Niño Jesús'\n75. 'Nueva España'\n76. 'Numancia'\n77. 'Opañel'\n78. 'Orcasitas'\n79. 'Orcasur'\n80. 'Pacífico'\n81. 'Palacio'\n82. 'Palomas'\n83. 'Palomeras Bajas'\n84. 'Palomeras Sureste'\n85. 'Palos de Moguer'\n86. 'Pavones'\n87. 'Peñagrande'\n88. 'Pilar'\n89. 'Pinar del Rey'\n90. 'Piovera'\n91. 'Portazgo'\n92. 'Pradolongo'\n93. 'Prosperidad'\n94. 'Pueblo Nuevo'\n95. 'Puerta Bonita'\n96. 'Puerta del Angel'\n97. 'Quintana'\n98. 'Recoletos'\n99. 'Rejas'\n100. 'Rios Rosas'\n101. 'Rosas'\n102. 'Salvador'\n103. 'San Andrés'\n104. 'San Cristobal'\n105. 'San Diego'\n106. 'San Fermín'\n107. 'San Isidro'\n108. 'San Juan Bautista'\n109. 'San Pascual'\n110. 'Santa Eugenia'\n111. 'Simancas'\n112. 'Sol'\n113. 'Timón'\n114. 'Trafalgar'\n115. 'Universidad'\n116. 'Valdeacederas'\n117. 'Valdefuentes'\n118. 'Valdemarín'\n119. 'Valdezarza'\n120. 'Vallehermoso'\n121. 'Valverde'\n122. 'Ventas'\n123. 'Vinateros'\n124. 'Vista Alegre'\n125. 'Zofío'\n\n\n",
            "text/latex": "\\begin{enumerate*}\n\\item Sol\n\\item Acacias\n\\item Palos de Moguer\n\\item Embajadores\n\\item Cortes\n\\item Palacio\n\\item Universidad\n\\item Delicias\n\\item Arapiles\n\\item Atocha\n\\item Goya\n\\end{enumerate*}\n\n\\emph{Levels}: \\begin{enumerate*}\n\\item 'Abrantes'\n\\item 'Acacias'\n\\item 'Adelfas'\n\\item 'Aeropuerto'\n\\item 'Aguilas'\n\\item 'Alameda de Osuna'\n\\item 'Almagro'\n\\item 'Almenara'\n\\item 'Almendrales'\n\\item 'Aluche'\n\\item 'Ambroz'\n\\item 'Amposta'\n\\item 'Apostol Santiago'\n\\item 'Arapiles'\n\\item 'Aravaca'\n\\item 'Arcos'\n\\item 'Argüelles'\n\\item 'Atocha'\n\\item 'Bellas Vistas'\n\\item 'Berruguete'\n\\item 'Buenavista'\n\\item 'Butarque'\n\\item 'Campamento'\n\\item 'Canillas'\n\\item 'Canillejas'\n\\item 'Cármenes'\n\\item 'Casa de Campo'\n\\item 'Casco Histórico de Barajas'\n\\item 'Casco Histórico de Vallecas'\n\\item 'Casco Histórico de Vicálvaro'\n\\item 'Castellana'\n\\item 'Castilla'\n\\item 'Castillejos'\n\\item 'Chopera'\n\\item 'Ciudad Jardín'\n\\item 'Ciudad Universitaria'\n\\item 'Colina'\n\\item 'Comillas'\n\\item 'Concepción'\n\\item 'Corralejos'\n\\item 'Cortes'\n\\item 'Costillares'\n\\item 'Cuatro Caminos'\n\\item 'Cuatro Vientos'\n\\item 'Delicias'\n\\item 'El Goloso'\n\\item 'El Plantío'\n\\item 'El Viso'\n\\item 'Embajadores'\n\\item 'Entrevías'\n\\item 'Estrella'\n\\item 'Fontarrón'\n\\item 'Fuente del Berro'\n\\item 'Fuentelareina'\n\\item 'Gaztambide'\n\\item 'Goya'\n\\item 'Guindalera'\n\\item 'Hellín'\n\\item 'Hispanoamérica'\n\\item 'Ibiza'\n\\item 'Imperial'\n\\item 'Jerónimos'\n\\item 'Justicia'\n\\item 'La Paz'\n\\item 'Legazpi'\n\\item 'Lista'\n\\item 'Los Angeles'\n\\item 'Los Rosales'\n\\item 'Lucero'\n\\item 'Marroquina'\n\\item 'Media Legua'\n\\item 'Mirasierra'\n\\item 'Moscardó'\n\\item 'Niño Jesús'\n\\item 'Nueva España'\n\\item 'Numancia'\n\\item 'Opañel'\n\\item 'Orcasitas'\n\\item 'Orcasur'\n\\item 'Pacífico'\n\\item 'Palacio'\n\\item 'Palomas'\n\\item 'Palomeras Bajas'\n\\item 'Palomeras Sureste'\n\\item 'Palos de Moguer'\n\\item 'Pavones'\n\\item 'Peñagrande'\n\\item 'Pilar'\n\\item 'Pinar del Rey'\n\\item 'Piovera'\n\\item 'Portazgo'\n\\item 'Pradolongo'\n\\item 'Prosperidad'\n\\item 'Pueblo Nuevo'\n\\item 'Puerta Bonita'\n\\item 'Puerta del Angel'\n\\item 'Quintana'\n\\item 'Recoletos'\n\\item 'Rejas'\n\\item 'Rios Rosas'\n\\item 'Rosas'\n\\item 'Salvador'\n\\item 'San Andrés'\n\\item 'San Cristobal'\n\\item 'San Diego'\n\\item 'San Fermín'\n\\item 'San Isidro'\n\\item 'San Juan Bautista'\n\\item 'San Pascual'\n\\item 'Santa Eugenia'\n\\item 'Simancas'\n\\item 'Sol'\n\\item 'Timón'\n\\item 'Trafalgar'\n\\item 'Universidad'\n\\item 'Valdeacederas'\n\\item 'Valdefuentes'\n\\item 'Valdemarín'\n\\item 'Valdezarza'\n\\item 'Vallehermoso'\n\\item 'Valverde'\n\\item 'Ventas'\n\\item 'Vinateros'\n\\item 'Vista Alegre'\n\\item 'Zofío'\n\\end{enumerate*}\n",
            "text/plain": [
              " [1] Sol             Acacias         Palos de Moguer Embajadores    \n",
              " [5] Cortes          Palacio         Universidad     Delicias       \n",
              " [9] Arapiles        Atocha          Goya           \n",
              "125 Levels: Abrantes Acacias Adelfas Aeropuerto Aguilas ... Zofío"
            ]
          },
          "metadata": {}
        },
        {
          "output_type": "display_data",
          "data": {
            "text/html": [
              "<table class=\"dataframe\">\n",
              "<caption>A data.frame: 5 × 2</caption>\n",
              "<thead>\n",
              "\t<tr><th></th><th scope=col>CodigoPostal</th><th scope=col>Barrio</th></tr>\n",
              "\t<tr><th></th><th scope=col>&lt;fct&gt;</th><th scope=col>&lt;fct&gt;</th></tr>\n",
              "</thead>\n",
              "<tbody>\n",
              "\t<tr><th scope=row>1</th><td>28012</td><td>Sol    </td></tr>\n",
              "\t<tr><th scope=row>2</th><td>28012</td><td>Sol    </td></tr>\n",
              "\t<tr><th scope=row>3</th><td>28012</td><td>Sol    </td></tr>\n",
              "\t<tr><th scope=row>4</th><td>28012</td><td>Sol    </td></tr>\n",
              "\t<tr><th scope=row>5</th><td>28012</td><td>Acacias</td></tr>\n",
              "</tbody>\n",
              "</table>\n"
            ],
            "text/markdown": "\nA data.frame: 5 × 2\n\n| <!--/--> | CodigoPostal &lt;fct&gt; | Barrio &lt;fct&gt; |\n|---|---|---|\n| 1 | 28012 | Sol     |\n| 2 | 28012 | Sol     |\n| 3 | 28012 | Sol     |\n| 4 | 28012 | Sol     |\n| 5 | 28012 | Acacias |\n\n",
            "text/latex": "A data.frame: 5 × 2\n\\begin{tabular}{r|ll}\n  & CodigoPostal & Barrio\\\\\n  & <fct> & <fct>\\\\\n\\hline\n\t1 & 28012 & Sol    \\\\\n\t2 & 28012 & Sol    \\\\\n\t3 & 28012 & Sol    \\\\\n\t4 & 28012 & Sol    \\\\\n\t5 & 28012 & Acacias\\\\\n\\end{tabular}\n",
            "text/plain": [
              "  CodigoPostal Barrio \n",
              "1 28012        Sol    \n",
              "2 28012        Sol    \n",
              "3 28012        Sol    \n",
              "4 28012        Sol    \n",
              "5 28012        Acacias"
            ]
          },
          "metadata": {}
        },
        {
          "output_type": "stream",
          "name": "stdout",
          "text": [
            "'data.frame':\t2060 obs. of  2 variables:\n",
            " $ CodigoPostal: Factor w/ 1 level \"28012\": 1 1 1 1 1 1 1 1 1 1 ...\n",
            " $ Barrio      : Factor w/ 11 levels \"Acacias\",\"Arapiles\",..: 10 10 10 10 1 10 10 10 10 9 ...\n"
          ]
        },
        {
          "output_type": "display_data",
          "data": {
            "text/html": [
              "<style>\n",
              ".list-inline {list-style: none; margin:0; padding: 0}\n",
              ".list-inline>li {display: inline-block}\n",
              ".list-inline>li:not(:last-child)::after {content: \"\\00b7\"; padding: 0 .5ex}\n",
              "</style>\n",
              "<ol class=list-inline><li>Sol</li><li>Acacias</li><li>Palos de Moguer</li><li>Embajadores</li><li>Cortes</li><li>Palacio</li><li>Universidad</li><li>Delicias</li><li>Arapiles</li><li>Atocha</li><li>Goya</li></ol>\n",
              "\n",
              "<details>\n",
              "\t<summary style=display:list-item;cursor:pointer>\n",
              "\t\t<strong>Levels</strong>:\n",
              "\t</summary>\n",
              "\t<style>\n",
              "\t.list-inline {list-style: none; margin:0; padding: 0}\n",
              "\t.list-inline>li {display: inline-block}\n",
              "\t.list-inline>li:not(:last-child)::after {content: \"\\00b7\"; padding: 0 .5ex}\n",
              "\t</style>\n",
              "\t<ol class=list-inline><li>'Acacias'</li><li>'Arapiles'</li><li>'Atocha'</li><li>'Cortes'</li><li>'Delicias'</li><li>'Embajadores'</li><li>'Goya'</li><li>'Palacio'</li><li>'Palos de Moguer'</li><li>'Sol'</li><li>'Universidad'</li></ol>\n",
              "</details>"
            ],
            "text/markdown": "1. Sol\n2. Acacias\n3. Palos de Moguer\n4. Embajadores\n5. Cortes\n6. Palacio\n7. Universidad\n8. Delicias\n9. Arapiles\n10. Atocha\n11. Goya\n\n\n\n**Levels**: 1. 'Acacias'\n2. 'Arapiles'\n3. 'Atocha'\n4. 'Cortes'\n5. 'Delicias'\n6. 'Embajadores'\n7. 'Goya'\n8. 'Palacio'\n9. 'Palos de Moguer'\n10. 'Sol'\n11. 'Universidad'\n\n\n",
            "text/latex": "\\begin{enumerate*}\n\\item Sol\n\\item Acacias\n\\item Palos de Moguer\n\\item Embajadores\n\\item Cortes\n\\item Palacio\n\\item Universidad\n\\item Delicias\n\\item Arapiles\n\\item Atocha\n\\item Goya\n\\end{enumerate*}\n\n\\emph{Levels}: \\begin{enumerate*}\n\\item 'Acacias'\n\\item 'Arapiles'\n\\item 'Atocha'\n\\item 'Cortes'\n\\item 'Delicias'\n\\item 'Embajadores'\n\\item 'Goya'\n\\item 'Palacio'\n\\item 'Palos de Moguer'\n\\item 'Sol'\n\\item 'Universidad'\n\\end{enumerate*}\n",
            "text/plain": [
              " [1] Sol             Acacias         Palos de Moguer Embajadores    \n",
              " [5] Cortes          Palacio         Universidad     Delicias       \n",
              " [9] Arapiles        Atocha          Goya           \n",
              "11 Levels: Acacias Arapiles Atocha Cortes Delicias Embajadores Goya ... Universidad"
            ]
          },
          "metadata": {}
        }
      ],
      "source": [
        "airbnb3<-subset(airbnb2$Barrio, airbnb2$CodigoPostal == '28012')\n",
        "unique(airbnb3)\n",
        "dplyr::select(airbnb2, CodigoPostal, Barrio) %>% filter(CodigoPostal =='28012') -> airbnb3\n",
        "head(airbnb3,5)\n",
        "airbnb3<-droplevels(airbnb3)\n",
        "str(airbnb3)\n",
        "unique(airbnb3$Barrio)\n",
        "#unique(subset(airbnb2$Barrio, airbnb2$CodigoPostal == '28012'))"
      ]
    },
    {
      "cell_type": "markdown",
      "metadata": {
        "id": "PmXdx429iu8w"
      },
      "source": [
        "**¿Cuantas entradas hay en cada uno de esos barrios para el codigo postal 28012?**"
      ]
    },
    {
      "cell_type": "code",
      "execution_count": 14,
      "metadata": {
        "id": "j2Ly_SJMiu8x",
        "colab": {
          "base_uri": "https://localhost:8080/",
          "height": 138
        },
        "outputId": "c104650c-1514-4664-daea-1c51fcf33a90"
      },
      "outputs": [
        {
          "output_type": "display_data",
          "data": {
            "text/plain": [
              "\n",
              "        Acacias        Arapiles          Atocha          Cortes        Delicias \n",
              "             13               1               1             216               1 \n",
              "    Embajadores            Goya         Palacio Palos de Moguer             Sol \n",
              "           1449               1              27              46             301 \n",
              "    Universidad \n",
              "              4 "
            ]
          },
          "metadata": {}
        }
      ],
      "source": [
        "airbnb3<-droplevels(airbnb3)\n",
        "airbnb3<-data.frame(airbnb3)\n",
        "table(airbnb3$Barrio, exclude = c(0,'NA'))\n",
        "#airbnb3<-airbnb[airbnb$CodigoPostal == '28012',]\n",
        "#str(airbnb3)\n",
        "#airbnb3<-droplevels(airbnb3)\n",
        "#table(airbnb3$Barrio, exclude = c(0,'NA'))"
      ]
    },
    {
      "cell_type": "markdown",
      "metadata": {
        "id": "ALkj-7bTiu8x"
      },
      "source": [
        "**¿Cuantos barrios hay en todo el dataset airbnb? ¿Cuales son?**"
      ]
    },
    {
      "cell_type": "code",
      "execution_count": 15,
      "metadata": {
        "id": "1SJ3xQIeiu8x",
        "colab": {
          "base_uri": "https://localhost:8080/",
          "height": 242
        },
        "outputId": "8e5cfa7b-cf04-4189-ec91-91b0eac7d69b"
      },
      "outputs": [
        {
          "output_type": "display_data",
          "data": {
            "text/html": [
              "<style>\n",
              ".list-inline {list-style: none; margin:0; padding: 0}\n",
              ".list-inline>li {display: inline-block}\n",
              ".list-inline>li:not(:last-child)::after {content: \"\\00b7\"; padding: 0 .5ex}\n",
              "</style>\n",
              "<ol class=list-inline><li>Universidad</li><li>Sol</li><li>Imperial</li><li>Acacias</li><li>Chopera</li><li>Delicias</li><li>Palos de Moguer</li><li>Embajadores</li><li>Cortes</li><li>Atocha</li><li>Pacífico</li><li>Adelfas</li><li>Estrella</li><li>Ibiza</li><li>Jerónimos</li><li>Niño Jesús</li><li>Palacio</li><li>Justicia</li><li>Recoletos</li><li>Goya</li><li>Fuente del Berro</li><li>Arapiles</li><li>Trafalgar</li><li>Almagro</li><li>Guindalera</li><li>Lista</li><li>Castellana</li><li>El Viso</li><li>Prosperidad</li><li>Valverde</li><li>Casa de Campo</li><li>El Goloso</li><li>Numancia</li><li>Cármenes</li><li>Puerta del Angel</li><li>Lucero</li><li>Aluche</li><li>San Isidro</li><li>Campamento</li><li>Comillas</li><li>Opañel</li><li>Vista Alegre</li><li>Ciudad Jardín</li><li>Hispanoamérica</li><li>Nueva España</li><li>Castilla</li><li>Bellas Vistas</li><li>Cuatro Caminos</li><li>Castillejos</li><li>Vallehermoso</li><li>Almenara</li><li>Valdeacederas</li><li>Berruguete</li><li>Gaztambide</li><li>Rios Rosas</li><li>Peñagrande</li><li>Argüelles</li><li>Puerta Bonita</li><li>Buenavista</li><li>Abrantes</li><li>Orcasur</li><li>San Fermín</li><li>Almendrales</li><li>Pradolongo</li><li>Portazgo</li><li>Entrevías</li><li>San Diego</li><li>Palomeras Bajas</li><li>Fontarrón</li><li>Vinateros</li><li>Ventas</li><li>Pueblo Nuevo</li><li>Quintana</li><li>Concepción</li><li>San Juan Bautista</li><li>Costillares</li><li>Piovera</li><li>Canillas</li><li>Pinar del Rey</li><li>Apostol Santiago</li><li>San Andrés</li><li>Valdefuentes</li><li>Butarque</li><li>Los Angeles</li><li>Casco Histórico de Vicálvaro</li><li>Simancas</li><li>Rejas</li><li>Salvador</li><li>Casco Histórico de Barajas</li><li>Pilar</li><li>La Paz</li><li>Mirasierra</li><li>Ciudad Universitaria</li><li>Moscardó</li><li>Palomeras Sureste</li><li>Marroquina</li><li>Media Legua</li><li>Los Rosales</li><li>Casco Histórico de Vallecas</li><li>Timón</li><li>Corralejos</li><li>Cuatro Vientos</li><li>Colina</li><li>San Cristobal</li><li>Alameda de Osuna</li><li>Aeropuerto</li><li>Palomas</li><li>Zofío</li><li>Aguilas</li><li>Legazpi</li><li>Fuentelareina</li><li>Aravaca</li><li>Ambroz</li><li>Canillejas</li><li>Valdezarza</li><li>Amposta</li><li>San Pascual</li><li>Santa Eugenia</li><li>Arcos</li><li>Rosas</li><li>Valdemarín</li><li>El Plantío</li><li>Hellín</li><li>Pavones</li><li>Orcasitas</li></ol>\n",
              "\n",
              "<details>\n",
              "\t<summary style=display:list-item;cursor:pointer>\n",
              "\t\t<strong>Levels</strong>:\n",
              "\t</summary>\n",
              "\t<style>\n",
              "\t.list-inline {list-style: none; margin:0; padding: 0}\n",
              "\t.list-inline>li {display: inline-block}\n",
              "\t.list-inline>li:not(:last-child)::after {content: \"\\00b7\"; padding: 0 .5ex}\n",
              "\t</style>\n",
              "\t<ol class=list-inline><li>'Abrantes'</li><li>'Acacias'</li><li>'Adelfas'</li><li>'Aeropuerto'</li><li>'Aguilas'</li><li>'Alameda de Osuna'</li><li>'Almagro'</li><li>'Almenara'</li><li>'Almendrales'</li><li>'Aluche'</li><li>'Ambroz'</li><li>'Amposta'</li><li>'Apostol Santiago'</li><li>'Arapiles'</li><li>'Aravaca'</li><li>'Arcos'</li><li>'Argüelles'</li><li>'Atocha'</li><li>'Bellas Vistas'</li><li>'Berruguete'</li><li>'Buenavista'</li><li>'Butarque'</li><li>'Campamento'</li><li>'Canillas'</li><li>'Canillejas'</li><li>'Cármenes'</li><li>'Casa de Campo'</li><li>'Casco Histórico de Barajas'</li><li>'Casco Histórico de Vallecas'</li><li>'Casco Histórico de Vicálvaro'</li><li>'Castellana'</li><li>'Castilla'</li><li>'Castillejos'</li><li>'Chopera'</li><li>'Ciudad Jardín'</li><li>'Ciudad Universitaria'</li><li>'Colina'</li><li>'Comillas'</li><li>'Concepción'</li><li>'Corralejos'</li><li>'Cortes'</li><li>'Costillares'</li><li>'Cuatro Caminos'</li><li>'Cuatro Vientos'</li><li>'Delicias'</li><li>'El Goloso'</li><li>'El Plantío'</li><li>'El Viso'</li><li>'Embajadores'</li><li>'Entrevías'</li><li>'Estrella'</li><li>'Fontarrón'</li><li>'Fuente del Berro'</li><li>'Fuentelareina'</li><li>'Gaztambide'</li><li>'Goya'</li><li>'Guindalera'</li><li>'Hellín'</li><li>'Hispanoamérica'</li><li>'Ibiza'</li><li>'Imperial'</li><li>'Jerónimos'</li><li>'Justicia'</li><li>'La Paz'</li><li>'Legazpi'</li><li>'Lista'</li><li>'Los Angeles'</li><li>'Los Rosales'</li><li>'Lucero'</li><li>'Marroquina'</li><li>'Media Legua'</li><li>'Mirasierra'</li><li>'Moscardó'</li><li>'Niño Jesús'</li><li>'Nueva España'</li><li>'Numancia'</li><li>'Opañel'</li><li>'Orcasitas'</li><li>'Orcasur'</li><li>'Pacífico'</li><li>'Palacio'</li><li>'Palomas'</li><li>'Palomeras Bajas'</li><li>'Palomeras Sureste'</li><li>'Palos de Moguer'</li><li>'Pavones'</li><li>'Peñagrande'</li><li>'Pilar'</li><li>'Pinar del Rey'</li><li>'Piovera'</li><li>'Portazgo'</li><li>'Pradolongo'</li><li>'Prosperidad'</li><li>'Pueblo Nuevo'</li><li>'Puerta Bonita'</li><li>'Puerta del Angel'</li><li>'Quintana'</li><li>'Recoletos'</li><li>'Rejas'</li><li>'Rios Rosas'</li><li>'Rosas'</li><li>'Salvador'</li><li>'San Andrés'</li><li>'San Cristobal'</li><li>'San Diego'</li><li>'San Fermín'</li><li>'San Isidro'</li><li>'San Juan Bautista'</li><li>'San Pascual'</li><li>'Santa Eugenia'</li><li>'Simancas'</li><li>'Sol'</li><li>'Timón'</li><li>'Trafalgar'</li><li>'Universidad'</li><li>'Valdeacederas'</li><li>'Valdefuentes'</li><li>'Valdemarín'</li><li>'Valdezarza'</li><li>'Vallehermoso'</li><li>'Valverde'</li><li>'Ventas'</li><li>'Vinateros'</li><li>'Vista Alegre'</li><li>'Zofío'</li></ol>\n",
              "</details>"
            ],
            "text/markdown": "1. Universidad\n2. Sol\n3. Imperial\n4. Acacias\n5. Chopera\n6. Delicias\n7. Palos de Moguer\n8. Embajadores\n9. Cortes\n10. Atocha\n11. Pacífico\n12. Adelfas\n13. Estrella\n14. Ibiza\n15. Jerónimos\n16. Niño Jesús\n17. Palacio\n18. Justicia\n19. Recoletos\n20. Goya\n21. Fuente del Berro\n22. Arapiles\n23. Trafalgar\n24. Almagro\n25. Guindalera\n26. Lista\n27. Castellana\n28. El Viso\n29. Prosperidad\n30. Valverde\n31. Casa de Campo\n32. El Goloso\n33. Numancia\n34. Cármenes\n35. Puerta del Angel\n36. Lucero\n37. Aluche\n38. San Isidro\n39. Campamento\n40. Comillas\n41. Opañel\n42. Vista Alegre\n43. Ciudad Jardín\n44. Hispanoamérica\n45. Nueva España\n46. Castilla\n47. Bellas Vistas\n48. Cuatro Caminos\n49. Castillejos\n50. Vallehermoso\n51. Almenara\n52. Valdeacederas\n53. Berruguete\n54. Gaztambide\n55. Rios Rosas\n56. Peñagrande\n57. Argüelles\n58. Puerta Bonita\n59. Buenavista\n60. Abrantes\n61. Orcasur\n62. San Fermín\n63. Almendrales\n64. Pradolongo\n65. Portazgo\n66. Entrevías\n67. San Diego\n68. Palomeras Bajas\n69. Fontarrón\n70. Vinateros\n71. Ventas\n72. Pueblo Nuevo\n73. Quintana\n74. Concepción\n75. San Juan Bautista\n76. Costillares\n77. Piovera\n78. Canillas\n79. Pinar del Rey\n80. Apostol Santiago\n81. San Andrés\n82. Valdefuentes\n83. Butarque\n84. Los Angeles\n85. Casco Histórico de Vicálvaro\n86. Simancas\n87. Rejas\n88. Salvador\n89. Casco Histórico de Barajas\n90. Pilar\n91. La Paz\n92. Mirasierra\n93. Ciudad Universitaria\n94. Moscardó\n95. Palomeras Sureste\n96. Marroquina\n97. Media Legua\n98. Los Rosales\n99. Casco Histórico de Vallecas\n100. Timón\n101. Corralejos\n102. Cuatro Vientos\n103. Colina\n104. San Cristobal\n105. Alameda de Osuna\n106. Aeropuerto\n107. Palomas\n108. Zofío\n109. Aguilas\n110. Legazpi\n111. Fuentelareina\n112. Aravaca\n113. Ambroz\n114. Canillejas\n115. Valdezarza\n116. Amposta\n117. San Pascual\n118. Santa Eugenia\n119. Arcos\n120. Rosas\n121. Valdemarín\n122. El Plantío\n123. Hellín\n124. Pavones\n125. Orcasitas\n\n\n\n**Levels**: 1. 'Abrantes'\n2. 'Acacias'\n3. 'Adelfas'\n4. 'Aeropuerto'\n5. 'Aguilas'\n6. 'Alameda de Osuna'\n7. 'Almagro'\n8. 'Almenara'\n9. 'Almendrales'\n10. 'Aluche'\n11. 'Ambroz'\n12. 'Amposta'\n13. 'Apostol Santiago'\n14. 'Arapiles'\n15. 'Aravaca'\n16. 'Arcos'\n17. 'Argüelles'\n18. 'Atocha'\n19. 'Bellas Vistas'\n20. 'Berruguete'\n21. 'Buenavista'\n22. 'Butarque'\n23. 'Campamento'\n24. 'Canillas'\n25. 'Canillejas'\n26. 'Cármenes'\n27. 'Casa de Campo'\n28. 'Casco Histórico de Barajas'\n29. 'Casco Histórico de Vallecas'\n30. 'Casco Histórico de Vicálvaro'\n31. 'Castellana'\n32. 'Castilla'\n33. 'Castillejos'\n34. 'Chopera'\n35. 'Ciudad Jardín'\n36. 'Ciudad Universitaria'\n37. 'Colina'\n38. 'Comillas'\n39. 'Concepción'\n40. 'Corralejos'\n41. 'Cortes'\n42. 'Costillares'\n43. 'Cuatro Caminos'\n44. 'Cuatro Vientos'\n45. 'Delicias'\n46. 'El Goloso'\n47. 'El Plantío'\n48. 'El Viso'\n49. 'Embajadores'\n50. 'Entrevías'\n51. 'Estrella'\n52. 'Fontarrón'\n53. 'Fuente del Berro'\n54. 'Fuentelareina'\n55. 'Gaztambide'\n56. 'Goya'\n57. 'Guindalera'\n58. 'Hellín'\n59. 'Hispanoamérica'\n60. 'Ibiza'\n61. 'Imperial'\n62. 'Jerónimos'\n63. 'Justicia'\n64. 'La Paz'\n65. 'Legazpi'\n66. 'Lista'\n67. 'Los Angeles'\n68. 'Los Rosales'\n69. 'Lucero'\n70. 'Marroquina'\n71. 'Media Legua'\n72. 'Mirasierra'\n73. 'Moscardó'\n74. 'Niño Jesús'\n75. 'Nueva España'\n76. 'Numancia'\n77. 'Opañel'\n78. 'Orcasitas'\n79. 'Orcasur'\n80. 'Pacífico'\n81. 'Palacio'\n82. 'Palomas'\n83. 'Palomeras Bajas'\n84. 'Palomeras Sureste'\n85. 'Palos de Moguer'\n86. 'Pavones'\n87. 'Peñagrande'\n88. 'Pilar'\n89. 'Pinar del Rey'\n90. 'Piovera'\n91. 'Portazgo'\n92. 'Pradolongo'\n93. 'Prosperidad'\n94. 'Pueblo Nuevo'\n95. 'Puerta Bonita'\n96. 'Puerta del Angel'\n97. 'Quintana'\n98. 'Recoletos'\n99. 'Rejas'\n100. 'Rios Rosas'\n101. 'Rosas'\n102. 'Salvador'\n103. 'San Andrés'\n104. 'San Cristobal'\n105. 'San Diego'\n106. 'San Fermín'\n107. 'San Isidro'\n108. 'San Juan Bautista'\n109. 'San Pascual'\n110. 'Santa Eugenia'\n111. 'Simancas'\n112. 'Sol'\n113. 'Timón'\n114. 'Trafalgar'\n115. 'Universidad'\n116. 'Valdeacederas'\n117. 'Valdefuentes'\n118. 'Valdemarín'\n119. 'Valdezarza'\n120. 'Vallehermoso'\n121. 'Valverde'\n122. 'Ventas'\n123. 'Vinateros'\n124. 'Vista Alegre'\n125. 'Zofío'\n\n\n",
            "text/latex": "\\begin{enumerate*}\n\\item Universidad\n\\item Sol\n\\item Imperial\n\\item Acacias\n\\item Chopera\n\\item Delicias\n\\item Palos de Moguer\n\\item Embajadores\n\\item Cortes\n\\item Atocha\n\\item Pacífico\n\\item Adelfas\n\\item Estrella\n\\item Ibiza\n\\item Jerónimos\n\\item Niño Jesús\n\\item Palacio\n\\item Justicia\n\\item Recoletos\n\\item Goya\n\\item Fuente del Berro\n\\item Arapiles\n\\item Trafalgar\n\\item Almagro\n\\item Guindalera\n\\item Lista\n\\item Castellana\n\\item El Viso\n\\item Prosperidad\n\\item Valverde\n\\item Casa de Campo\n\\item El Goloso\n\\item Numancia\n\\item Cármenes\n\\item Puerta del Angel\n\\item Lucero\n\\item Aluche\n\\item San Isidro\n\\item Campamento\n\\item Comillas\n\\item Opañel\n\\item Vista Alegre\n\\item Ciudad Jardín\n\\item Hispanoamérica\n\\item Nueva España\n\\item Castilla\n\\item Bellas Vistas\n\\item Cuatro Caminos\n\\item Castillejos\n\\item Vallehermoso\n\\item Almenara\n\\item Valdeacederas\n\\item Berruguete\n\\item Gaztambide\n\\item Rios Rosas\n\\item Peñagrande\n\\item Argüelles\n\\item Puerta Bonita\n\\item Buenavista\n\\item Abrantes\n\\item Orcasur\n\\item San Fermín\n\\item Almendrales\n\\item Pradolongo\n\\item Portazgo\n\\item Entrevías\n\\item San Diego\n\\item Palomeras Bajas\n\\item Fontarrón\n\\item Vinateros\n\\item Ventas\n\\item Pueblo Nuevo\n\\item Quintana\n\\item Concepción\n\\item San Juan Bautista\n\\item Costillares\n\\item Piovera\n\\item Canillas\n\\item Pinar del Rey\n\\item Apostol Santiago\n\\item San Andrés\n\\item Valdefuentes\n\\item Butarque\n\\item Los Angeles\n\\item Casco Histórico de Vicálvaro\n\\item Simancas\n\\item Rejas\n\\item Salvador\n\\item Casco Histórico de Barajas\n\\item Pilar\n\\item La Paz\n\\item Mirasierra\n\\item Ciudad Universitaria\n\\item Moscardó\n\\item Palomeras Sureste\n\\item Marroquina\n\\item Media Legua\n\\item Los Rosales\n\\item Casco Histórico de Vallecas\n\\item Timón\n\\item Corralejos\n\\item Cuatro Vientos\n\\item Colina\n\\item San Cristobal\n\\item Alameda de Osuna\n\\item Aeropuerto\n\\item Palomas\n\\item Zofío\n\\item Aguilas\n\\item Legazpi\n\\item Fuentelareina\n\\item Aravaca\n\\item Ambroz\n\\item Canillejas\n\\item Valdezarza\n\\item Amposta\n\\item San Pascual\n\\item Santa Eugenia\n\\item Arcos\n\\item Rosas\n\\item Valdemarín\n\\item El Plantío\n\\item Hellín\n\\item Pavones\n\\item Orcasitas\n\\end{enumerate*}\n\n\\emph{Levels}: \\begin{enumerate*}\n\\item 'Abrantes'\n\\item 'Acacias'\n\\item 'Adelfas'\n\\item 'Aeropuerto'\n\\item 'Aguilas'\n\\item 'Alameda de Osuna'\n\\item 'Almagro'\n\\item 'Almenara'\n\\item 'Almendrales'\n\\item 'Aluche'\n\\item 'Ambroz'\n\\item 'Amposta'\n\\item 'Apostol Santiago'\n\\item 'Arapiles'\n\\item 'Aravaca'\n\\item 'Arcos'\n\\item 'Argüelles'\n\\item 'Atocha'\n\\item 'Bellas Vistas'\n\\item 'Berruguete'\n\\item 'Buenavista'\n\\item 'Butarque'\n\\item 'Campamento'\n\\item 'Canillas'\n\\item 'Canillejas'\n\\item 'Cármenes'\n\\item 'Casa de Campo'\n\\item 'Casco Histórico de Barajas'\n\\item 'Casco Histórico de Vallecas'\n\\item 'Casco Histórico de Vicálvaro'\n\\item 'Castellana'\n\\item 'Castilla'\n\\item 'Castillejos'\n\\item 'Chopera'\n\\item 'Ciudad Jardín'\n\\item 'Ciudad Universitaria'\n\\item 'Colina'\n\\item 'Comillas'\n\\item 'Concepción'\n\\item 'Corralejos'\n\\item 'Cortes'\n\\item 'Costillares'\n\\item 'Cuatro Caminos'\n\\item 'Cuatro Vientos'\n\\item 'Delicias'\n\\item 'El Goloso'\n\\item 'El Plantío'\n\\item 'El Viso'\n\\item 'Embajadores'\n\\item 'Entrevías'\n\\item 'Estrella'\n\\item 'Fontarrón'\n\\item 'Fuente del Berro'\n\\item 'Fuentelareina'\n\\item 'Gaztambide'\n\\item 'Goya'\n\\item 'Guindalera'\n\\item 'Hellín'\n\\item 'Hispanoamérica'\n\\item 'Ibiza'\n\\item 'Imperial'\n\\item 'Jerónimos'\n\\item 'Justicia'\n\\item 'La Paz'\n\\item 'Legazpi'\n\\item 'Lista'\n\\item 'Los Angeles'\n\\item 'Los Rosales'\n\\item 'Lucero'\n\\item 'Marroquina'\n\\item 'Media Legua'\n\\item 'Mirasierra'\n\\item 'Moscardó'\n\\item 'Niño Jesús'\n\\item 'Nueva España'\n\\item 'Numancia'\n\\item 'Opañel'\n\\item 'Orcasitas'\n\\item 'Orcasur'\n\\item 'Pacífico'\n\\item 'Palacio'\n\\item 'Palomas'\n\\item 'Palomeras Bajas'\n\\item 'Palomeras Sureste'\n\\item 'Palos de Moguer'\n\\item 'Pavones'\n\\item 'Peñagrande'\n\\item 'Pilar'\n\\item 'Pinar del Rey'\n\\item 'Piovera'\n\\item 'Portazgo'\n\\item 'Pradolongo'\n\\item 'Prosperidad'\n\\item 'Pueblo Nuevo'\n\\item 'Puerta Bonita'\n\\item 'Puerta del Angel'\n\\item 'Quintana'\n\\item 'Recoletos'\n\\item 'Rejas'\n\\item 'Rios Rosas'\n\\item 'Rosas'\n\\item 'Salvador'\n\\item 'San Andrés'\n\\item 'San Cristobal'\n\\item 'San Diego'\n\\item 'San Fermín'\n\\item 'San Isidro'\n\\item 'San Juan Bautista'\n\\item 'San Pascual'\n\\item 'Santa Eugenia'\n\\item 'Simancas'\n\\item 'Sol'\n\\item 'Timón'\n\\item 'Trafalgar'\n\\item 'Universidad'\n\\item 'Valdeacederas'\n\\item 'Valdefuentes'\n\\item 'Valdemarín'\n\\item 'Valdezarza'\n\\item 'Vallehermoso'\n\\item 'Valverde'\n\\item 'Ventas'\n\\item 'Vinateros'\n\\item 'Vista Alegre'\n\\item 'Zofío'\n\\end{enumerate*}\n",
            "text/plain": [
              "  [1] Universidad                  Sol                         \n",
              "  [3] Imperial                     Acacias                     \n",
              "  [5] Chopera                      Delicias                    \n",
              "  [7] Palos de Moguer              Embajadores                 \n",
              "  [9] Cortes                       Atocha                      \n",
              " [11] Pacífico                     Adelfas                     \n",
              " [13] Estrella                     Ibiza                       \n",
              " [15] Jerónimos                    Niño Jesús                  \n",
              " [17] Palacio                      Justicia                    \n",
              " [19] Recoletos                    Goya                        \n",
              " [21] Fuente del Berro             Arapiles                    \n",
              " [23] Trafalgar                    Almagro                     \n",
              " [25] Guindalera                   Lista                       \n",
              " [27] Castellana                   El Viso                     \n",
              " [29] Prosperidad                  Valverde                    \n",
              " [31] Casa de Campo                El Goloso                   \n",
              " [33] Numancia                     Cármenes                    \n",
              " [35] Puerta del Angel             Lucero                      \n",
              " [37] Aluche                       San Isidro                  \n",
              " [39] Campamento                   Comillas                    \n",
              " [41] Opañel                       Vista Alegre                \n",
              " [43] Ciudad Jardín                Hispanoamérica              \n",
              " [45] Nueva España                 Castilla                    \n",
              " [47] Bellas Vistas                Cuatro Caminos              \n",
              " [49] Castillejos                  Vallehermoso                \n",
              " [51] Almenara                     Valdeacederas               \n",
              " [53] Berruguete                   Gaztambide                  \n",
              " [55] Rios Rosas                   Peñagrande                  \n",
              " [57] Argüelles                    Puerta Bonita               \n",
              " [59] Buenavista                   Abrantes                    \n",
              " [61] Orcasur                      San Fermín                  \n",
              " [63] Almendrales                  Pradolongo                  \n",
              " [65] Portazgo                     Entrevías                   \n",
              " [67] San Diego                    Palomeras Bajas             \n",
              " [69] Fontarrón                    Vinateros                   \n",
              " [71] Ventas                       Pueblo Nuevo                \n",
              " [73] Quintana                     Concepción                  \n",
              " [75] San Juan Bautista            Costillares                 \n",
              " [77] Piovera                      Canillas                    \n",
              " [79] Pinar del Rey                Apostol Santiago            \n",
              " [81] San Andrés                   Valdefuentes                \n",
              " [83] Butarque                     Los Angeles                 \n",
              " [85] Casco Histórico de Vicálvaro Simancas                    \n",
              " [87] Rejas                        Salvador                    \n",
              " [89] Casco Histórico de Barajas   Pilar                       \n",
              " [91] La Paz                       Mirasierra                  \n",
              " [93] Ciudad Universitaria         Moscardó                    \n",
              " [95] Palomeras Sureste            Marroquina                  \n",
              " [97] Media Legua                  Los Rosales                 \n",
              " [99] Casco Histórico de Vallecas  Timón                       \n",
              "[101] Corralejos                   Cuatro Vientos              \n",
              "[103] Colina                       San Cristobal               \n",
              "[105] Alameda de Osuna             Aeropuerto                  \n",
              "[107] Palomas                      Zofío                       \n",
              "[109] Aguilas                      Legazpi                     \n",
              "[111] Fuentelareina                Aravaca                     \n",
              "[113] Ambroz                       Canillejas                  \n",
              "[115] Valdezarza                   Amposta                     \n",
              "[117] San Pascual                  Santa Eugenia               \n",
              "[119] Arcos                        Rosas                       \n",
              "[121] Valdemarín                   El Plantío                  \n",
              "[123] Hellín                       Pavones                     \n",
              "[125] Orcasitas                   \n",
              "125 Levels: Abrantes Acacias Adelfas Aeropuerto Aguilas ... Zofío"
            ]
          },
          "metadata": {}
        },
        {
          "output_type": "display_data",
          "data": {
            "text/html": [
              "125"
            ],
            "text/markdown": "125",
            "text/latex": "125",
            "text/plain": [
              "[1] 125"
            ]
          },
          "metadata": {}
        }
      ],
      "source": [
        "airbnb2<-droplevels(airbnb2)\n",
        "unique(airbnb2$Barrio)\n",
        "#str(airbnb2$Barrio)\n",
        "length(levels(airbnb2$Barrio))"
      ]
    },
    {
      "cell_type": "markdown",
      "metadata": {
        "id": "CfWkqDT1iu8x"
      },
      "source": [
        "**¿Cuales son los 5 barrios que tienen mayor número entradas?**"
      ]
    },
    {
      "cell_type": "code",
      "execution_count": 16,
      "metadata": {
        "id": "npuNuUNyiu8y",
        "colab": {
          "base_uri": "https://localhost:8080/",
          "height": 69
        },
        "outputId": "f958446c-9488-4fed-9211-5437e3538bec"
      },
      "outputs": [
        {
          "output_type": "display_data",
          "data": {
            "text/plain": [
              "\n",
              "Embajadores Universidad     Palacio         Sol    Justicia \n",
              "       1844        1358        1083         940         785 "
            ]
          },
          "metadata": {}
        }
      ],
      "source": [
        "head(sort(table(airbnb2$Barrio, exclude = c(0,'NA')),decreasing = T),5)"
      ]
    },
    {
      "cell_type": "markdown",
      "metadata": {
        "id": "tpHjw0lkiu8y"
      },
      "source": [
        "**¿Cuantos Tipos de Alquiler diferentes hay? ¿Cuales son? ¿Cuantas entradas en el dataframe hay por cada tipo?**"
      ]
    },
    {
      "cell_type": "code",
      "execution_count": 17,
      "metadata": {
        "id": "xoRIpOf9iu8y",
        "colab": {
          "base_uri": "https://localhost:8080/",
          "height": 121
        },
        "outputId": "357617bb-8156-45d3-bb42-35778555b33d"
      },
      "outputs": [
        {
          "output_type": "stream",
          "name": "stdout",
          "text": [
            " Factor w/ 3 levels \"Entire home/apt\",..: 2 1 1 1 1 1 2 1 1 1 ...\n"
          ]
        },
        {
          "output_type": "display_data",
          "data": {
            "text/html": [
              "<style>\n",
              ".list-inline {list-style: none; margin:0; padding: 0}\n",
              ".list-inline>li {display: inline-block}\n",
              ".list-inline>li:not(:last-child)::after {content: \"\\00b7\"; padding: 0 .5ex}\n",
              "</style>\n",
              "<ol class=list-inline><li>Private room</li><li>Entire home/apt</li><li>Shared room</li></ol>\n",
              "\n",
              "<details>\n",
              "\t<summary style=display:list-item;cursor:pointer>\n",
              "\t\t<strong>Levels</strong>:\n",
              "\t</summary>\n",
              "\t<style>\n",
              "\t.list-inline {list-style: none; margin:0; padding: 0}\n",
              "\t.list-inline>li {display: inline-block}\n",
              "\t.list-inline>li:not(:last-child)::after {content: \"\\00b7\"; padding: 0 .5ex}\n",
              "\t</style>\n",
              "\t<ol class=list-inline><li>'Entire home/apt'</li><li>'Private room'</li><li>'Shared room'</li></ol>\n",
              "</details>"
            ],
            "text/markdown": "1. Private room\n2. Entire home/apt\n3. Shared room\n\n\n\n**Levels**: 1. 'Entire home/apt'\n2. 'Private room'\n3. 'Shared room'\n\n\n",
            "text/latex": "\\begin{enumerate*}\n\\item Private room\n\\item Entire home/apt\n\\item Shared room\n\\end{enumerate*}\n\n\\emph{Levels}: \\begin{enumerate*}\n\\item 'Entire home/apt'\n\\item 'Private room'\n\\item 'Shared room'\n\\end{enumerate*}\n",
            "text/plain": [
              "[1] Private room    Entire home/apt Shared room    \n",
              "Levels: Entire home/apt Private room Shared room"
            ]
          },
          "metadata": {}
        },
        {
          "output_type": "display_data",
          "data": {
            "text/plain": [
              "\n",
              "Entire home/apt    Private room     Shared room \n",
              "           7903            5113             191 "
            ]
          },
          "metadata": {}
        }
      ],
      "source": [
        "str(airbnb2$TipoAlquiler)\n",
        "unique(airbnb2$TipoAlquiler)\n",
        "sort(table(airbnb2$TipoAlquiler, exclude = c(0,'NA')),decreasing = T)"
      ]
    },
    {
      "cell_type": "markdown",
      "metadata": {
        "id": "i8taP7XTiu8y"
      },
      "source": [
        "**Muestra el diagrama de cajas del precio para cada uno de los diferentes Tipos de Alquiler**"
      ]
    },
    {
      "cell_type": "code",
      "execution_count": 18,
      "metadata": {
        "id": "NDOVyIWbiu8y",
        "colab": {
          "base_uri": "https://localhost:8080/",
          "height": 471
        },
        "outputId": "7435807e-f2d3-4197-8b82-5b164988bdef"
      },
      "outputs": [
        {
          "output_type": "stream",
          "name": "stderr",
          "text": [
            "Warning message:\n",
            "“Removed 1769 rows containing non-finite values (stat_boxplot).”\n"
          ]
        },
        {
          "output_type": "display_data",
          "data": {
            "text/plain": [
              "plot without title"
            ],
            "image/png": "[encoded data removed]"
          },
          "metadata": {
            "image/png": {
              "width": 420,
              "height": 420
            }
          }
        }
      ],
      "source": [
        "\n",
        "ggplot(data=subset(airbnb2, !is.na(TipoAlquiler)),aes(x=TipoAlquiler, y=Precio))+geom_boxplot()+ \n",
        "scale_color_discrete(name=\"Análisis precios pro tipo alquiler\")+ylab('Precio')+xlab('Tipo de Alquiler') + scale_y_continuous(limits=c(0,100))"
      ]
    },
    {
      "cell_type": "markdown",
      "metadata": {
        "id": "P8KffqzGiu8y"
      },
      "source": [
        "**Cual es el precio medio de alquiler de cada uno, la diferencia que hay ¿es estadísticamente significativa?\n",
        "¿Con que test lo comprobarías?**"
      ]
    },
    {
      "cell_type": "markdown",
      "source": [
        "***Nota:*** He realizado un filtro. Se han seleccionado los valores cuyo precio es inferior a 100, ya que existen importes outliers que distorsionan la media "
      ],
      "metadata": {
        "id": "gGRW8c3-FtAn"
      }
    },
    {
      "cell_type": "code",
      "source": [
        "#install.packages(\"tidyverse\")\n",
        "#library(\"tidyverse\")"
      ],
      "metadata": {
        "id": "13BvP7xkk1CM"
      },
      "execution_count": 19,
      "outputs": []
    },
    {
      "cell_type": "code",
      "source": [
        "#install.packages(\"dplyr\")\n",
        "#library(\"dplyr\")"
      ],
      "metadata": {
        "id": "UA1DInLDlSIM"
      },
      "execution_count": 20,
      "outputs": []
    },
    {
      "cell_type": "code",
      "execution_count": 21,
      "metadata": {
        "id": "6yJjXxRdiu8z",
        "colab": {
          "base_uri": "https://localhost:8080/",
          "height": 331
        },
        "outputId": "06d82154-1532-4bee-b074-54af9f28b5f3"
      },
      "outputs": [
        {
          "output_type": "display_data",
          "data": {
            "text/html": [
              "<table class=\"dataframe\">\n",
              "<caption>A tibble: 3 × 2</caption>\n",
              "<thead>\n",
              "\t<tr><th scope=col>TipoAlquiler</th><th scope=col>mean</th></tr>\n",
              "\t<tr><th scope=col>&lt;fct&gt;</th><th scope=col>&lt;dbl&gt;</th></tr>\n",
              "</thead>\n",
              "<tbody>\n",
              "\t<tr><td>Entire home/apt</td><td>64.29668</td></tr>\n",
              "\t<tr><td>Private room   </td><td>31.44380</td></tr>\n",
              "\t<tr><td>Shared room    </td><td>22.63388</td></tr>\n",
              "</tbody>\n",
              "</table>\n"
            ],
            "text/markdown": "\nA tibble: 3 × 2\n\n| TipoAlquiler &lt;fct&gt; | mean &lt;dbl&gt; |\n|---|---|\n| Entire home/apt | 64.29668 |\n| Private room    | 31.44380 |\n| Shared room     | 22.63388 |\n\n",
            "text/latex": "A tibble: 3 × 2\n\\begin{tabular}{ll}\n TipoAlquiler & mean\\\\\n <fct> & <dbl>\\\\\n\\hline\n\t Entire home/apt & 64.29668\\\\\n\t Private room    & 31.44380\\\\\n\t Shared room     & 22.63388\\\\\n\\end{tabular}\n",
            "text/plain": [
              "  TipoAlquiler    mean    \n",
              "1 Entire home/apt 64.29668\n",
              "2 Private room    31.44380\n",
              "3 Shared room     22.63388"
            ]
          },
          "metadata": {}
        },
        {
          "output_type": "stream",
          "name": "stdout",
          "text": [
            "'data.frame':\t11158 obs. of  2 variables:\n",
            " $ TipoAlquiler: Factor w/ 3 levels \"Entire home/apt\",..: 2 1 1 1 1 1 2 1 1 1 ...\n",
            " $ Precio      : int  35 92 55 60 75 55 60 70 90 70 ...\n"
          ]
        },
        {
          "output_type": "display_data",
          "data": {
            "text/plain": [
              "                Df  Sum Sq Mean Sq F value Pr(>F)    \n",
              "TipoAlquiler     2 3068558 1534279    6228 <2e-16 ***\n",
              "Residuals    11155 2748101     246                   \n",
              "---\n",
              "Signif. codes:  0 ‘***’ 0.001 ‘**’ 0.01 ‘*’ 0.05 ‘.’ 0.1 ‘ ’ 1"
            ]
          },
          "metadata": {}
        }
      ],
      "source": [
        "precio_medio_por_tipo_alquiler <- data.frame(airbnb2) %>%  \n",
        "filter(Precio < 100) %>%\n",
        "group_by(TipoAlquiler) %>% summarise(mean=mean(Precio, na.rm=TRUE))\n",
        "precio_medio_por_tipo_alquiler -> tbl\n",
        "tbl\n",
        "tbl1<-data.frame(airbnb2) %>%  filter(Precio < 100 ) %>% dplyr::select (TipoAlquiler, Precio) %>% as.data.frame()\n",
        "str(tbl1)\n",
        "summary(aov( Precio ~ TipoAlquiler, data=tbl1))\n"
      ]
    },
    {
      "cell_type": "markdown",
      "source": [
        "***Respuesta:***Primeramente presuponemos que siguen una distribución normal. Y usamos ANOVA para comparar las medias de tres o más grupos de datos. El p-valor es realmente bajo, por lo que podemos rechazar la hipótesis nula que era que las medias eran iguales. Con lo cual la diferencia que hay entre las medias no es estadísticamente significativa. Pero en la primera parte hemos comentido un sesgo que es presuponer que sigue una distribución normal\n",
        "Por eso se aplica el test de shapiro-Wilk para ver la normalidad de la distribución y sale en los tres casos que no sigue una distribución normal. Con lo cual el test que hay que aplicar más correctamente es el Kruskal-Wallis y como se obtiene un p-value tan pequeño se rechaza la hipotesis nula.\n",
        "Como conclusión las medias no son iguales y las diferencias que existen entre las medias no son estadisticamente significativas.*texto en cursiva*"
      ],
      "metadata": {
        "id": "HakqC8yyS81h"
      }
    },
    {
      "cell_type": "markdown",
      "metadata": {
        "id": "1w0pACcxiu8z"
      },
      "source": [
        "**Filtra el dataframe cuyos tipo de alquiler sea  'Entire home/apt' y guardalo en un dataframe llamado \n",
        "*airbnb_entire*.\n",
        "Estas serán las entradas que tienen un alquiler del piso completo.**"
      ]
    },
    {
      "cell_type": "code",
      "execution_count": 22,
      "metadata": {
        "id": "VOgio-HIiu8z",
        "colab": {
          "base_uri": "https://localhost:8080/",
          "height": 731
        },
        "outputId": "a64c9123-6da2-4439-b8e1-37db47442cfe"
      },
      "outputs": [
        {
          "output_type": "display_data",
          "data": {
            "text/plain": [
              "  CodigoPostal          Barrio                TipoPropiedad \n",
              " 28012  :1435   Embajadores:1228   Apartment         :6995  \n",
              " 28004  :1271   Universidad: 984   House             : 327  \n",
              " 28005  : 803   Palacio    : 769   Loft              : 250  \n",
              " 28013  : 721   Sol        : 701   Condominium       : 188  \n",
              " 28014  : 473   Cortes     : 574   Other             : 111  \n",
              " 28015  : 354   Justicia   : 534   Serviced apartment:  11  \n",
              " (Other):2846   (Other)    :3113   (Other)           :  21  \n",
              "          TipoAlquiler   MaxOcupantes      NumBanyos     NumDormitorios  \n",
              " Entire home/apt:7903   Min.   : 1.000   Min.   :0.000   Min.   : 0.000  \n",
              "                        1st Qu.: 3.000   1st Qu.:1.000   1st Qu.: 1.000  \n",
              "                        Median : 4.000   Median :1.000   Median : 1.000  \n",
              "                        Mean   : 4.051   Mean   :1.241   Mean   : 1.463  \n",
              "                        3rd Qu.: 5.000   3rd Qu.:1.000   3rd Qu.: 2.000  \n",
              "                        Max.   :16.000   Max.   :6.500   Max.   :10.000  \n",
              "                                         NA's   :14      NA's   :9       \n",
              "    NumCamas               TipoCama   \n",
              " Min.   : 1.000   Airbed       :   4  \n",
              " 1st Qu.: 1.000   Couch        :  11  \n",
              " Median : 2.000   Futon        :  12  \n",
              " Mean   : 2.374   Pull-out Sofa: 179  \n",
              " 3rd Qu.: 3.000   Real Bed     :7697  \n",
              " Max.   :16.000                       \n",
              " NA's   :9                            \n",
              "                                                                                                                                                                                                                        Comodidades  \n",
              " TV,Internet,Wireless Internet,Air conditioning,Kitchen,Elevator in building,Buzzer/wireless intercom,Heating,Family/kid friendly,Washer,Essentials,Hangers,Hair dryer,Iron,Laptop friendly workspace                         :  41  \n",
              " TV,Wireless Internet,Air conditioning,Kitchen,Elevator in building,Heating,Family/kid friendly,Washer,Dryer,Essentials,Shampoo,Hangers,Hair dryer,Iron                                                                       :  34  \n",
              "                                                                                                                                                                                                                              :  29  \n",
              " TV,Internet,Wireless Internet,Air conditioning,Kitchen,Elevator in building,Buzzer/wireless intercom,Heating,Family/kid friendly,Washer,Essentials,Shampoo,24-hour check-in,Hangers,Hair dryer,Iron,Laptop friendly workspace:  28  \n",
              " TV,Wireless Internet,Air conditioning,Kitchen,Smoking allowed,Pets allowed,Elevator in building,Heating,Family/kid friendly,Washer,Essentials,Iron                                                                           :  18  \n",
              " TV,Internet,Wireless Internet,Air conditioning,Kitchen,Elevator in building,Buzzer/wireless intercom,Heating,Family/kid friendly,Washer,Essentials,Hangers,Hair dryer,Iron                                                   :  17  \n",
              " (Other)                                                                                                                                                                                                                      :7736  \n",
              " PiesCuadrados        Precio        Puntuacion     MetrosCuadrados \n",
              " Min.   :   0.0   Min.   : 10.0   Min.   : 20.00   Min.   :  0.00  \n",
              " 1st Qu.:   0.0   1st Qu.: 55.0   1st Qu.: 88.00   1st Qu.:  0.00  \n",
              " Median : 291.0   Median : 71.0   Median : 93.00   Median : 27.04  \n",
              " Mean   : 401.5   Mean   : 87.3   Mean   : 91.47   Mean   : 37.30  \n",
              " 3rd Qu.: 646.0   3rd Qu.: 99.0   3rd Qu.: 97.00   3rd Qu.: 60.02  \n",
              " Max.   :5167.0   Max.   :875.0   Max.   :100.00   Max.   :480.03  \n",
              " NA's   :7546     NA's   :7       NA's   :1273     NA's   :7546    "
            ]
          },
          "metadata": {}
        }
      ],
      "source": [
        "airbnb_entire<-data.frame(airbnb2) %>%  \n",
        "filter(TipoAlquiler == 'Entire home/apt' ) %>% \n",
        "as.data.frame()\n",
        "airbnb_entire <- droplevels(airbnb_entire)\n",
        "summary (airbnb_entire)"
      ]
    },
    {
      "cell_type": "markdown",
      "metadata": {
        "id": "iEHxVYkliu8z"
      },
      "source": [
        "**¿Cuales son los 5 barrios que tienen un mayor número de apartamentos enteros en alquiler?\n",
        "Nota: Mirar solo en airbnb_entire. A partir de este punto y hasta que se diga lo contrario partiremos de airbnb_entire.**"
      ]
    },
    {
      "cell_type": "code",
      "execution_count": 23,
      "metadata": {
        "id": "N4b-LUERiu8z",
        "colab": {
          "base_uri": "https://localhost:8080/",
          "height": 69
        },
        "outputId": "47766390-ab45-42c8-dbaf-5232237dbec1"
      },
      "outputs": [
        {
          "output_type": "display_data",
          "data": {
            "text/plain": [
              "\n",
              "Embajadores Universidad     Palacio         Sol      Cortes \n",
              "       1228         984         769         701         574 "
            ]
          },
          "metadata": {}
        }
      ],
      "source": [
        "head(sort(table(airbnb_entire$Barrio, exclude = c(0,'NA')),decreasing = T),5)"
      ]
    },
    {
      "cell_type": "markdown",
      "metadata": {
        "id": "QckFqPaFiu8z"
      },
      "source": [
        "**¿Cuales son los 5 barrios que tienen un mayor precio medio de alquiler para apartamentos enteros (es decir, del dataframe airbnb_entire)?**\n",
        "\n",
        "**¿Cual es su precio medio?**\n",
        "\n",
        "Ayuda: Usa la función aggregate `aggregate(.~colname,df,mean,na.rm=TRUE)`"
      ]
    },
    {
      "cell_type": "code",
      "execution_count": 24,
      "metadata": {
        "id": "VFSPgy1Eiu80",
        "colab": {
          "base_uri": "https://localhost:8080/",
          "height": 255
        },
        "outputId": "39b4d536-82c0-4111-f179-abf0e0df8a50"
      },
      "outputs": [
        {
          "output_type": "display_data",
          "data": {
            "text/html": [
              "<table class=\"dataframe\">\n",
              "<caption>A data.frame: 5 × 2</caption>\n",
              "<thead>\n",
              "\t<tr><th></th><th scope=col>Barrio</th><th scope=col>Precio</th></tr>\n",
              "\t<tr><th></th><th scope=col>&lt;fct&gt;</th><th scope=col>&lt;dbl&gt;</th></tr>\n",
              "</thead>\n",
              "<tbody>\n",
              "\t<tr><th scope=row>77</th><td>Palomas      </td><td>309.7500</td></tr>\n",
              "\t<tr><th scope=row>50</th><td>Fuentelareina</td><td>180.0000</td></tr>\n",
              "\t<tr><th scope=row>93</th><td>Recoletos    </td><td>161.9254</td></tr>\n",
              "\t<tr><th scope=row>43</th><td>El Plantío   </td><td>150.0000</td></tr>\n",
              "\t<tr><th scope=row>30</th><td>Castellana   </td><td>141.3889</td></tr>\n",
              "</tbody>\n",
              "</table>\n"
            ],
            "text/markdown": "\nA data.frame: 5 × 2\n\n| <!--/--> | Barrio &lt;fct&gt; | Precio &lt;dbl&gt; |\n|---|---|---|\n| 77 | Palomas       | 309.7500 |\n| 50 | Fuentelareina | 180.0000 |\n| 93 | Recoletos     | 161.9254 |\n| 43 | El Plantío    | 150.0000 |\n| 30 | Castellana    | 141.3889 |\n\n",
            "text/latex": "A data.frame: 5 × 2\n\\begin{tabular}{r|ll}\n  & Barrio & Precio\\\\\n  & <fct> & <dbl>\\\\\n\\hline\n\t77 & Palomas       & 309.7500\\\\\n\t50 & Fuentelareina & 180.0000\\\\\n\t93 & Recoletos     & 161.9254\\\\\n\t43 & El Plantío    & 150.0000\\\\\n\t30 & Castellana    & 141.3889\\\\\n\\end{tabular}\n",
            "text/plain": [
              "   Barrio        Precio  \n",
              "77 Palomas       309.7500\n",
              "50 Fuentelareina 180.0000\n",
              "93 Recoletos     161.9254\n",
              "43 El Plantío    150.0000\n",
              "30 Castellana    141.3889"
            ]
          },
          "metadata": {}
        }
      ],
      "source": [
        "mean_price<-aggregate(Precio ~ Barrio, airbnb_entire, mean,na.rm=TRUE)\n",
        "#mean_price\n",
        "top_5 <- data.frame(head(mean_price[order(-mean_price$Precio),],5))\n",
        "top_5"
      ]
    },
    {
      "cell_type": "markdown",
      "metadata": {
        "id": "PWFaZ_GEiu80"
      },
      "source": [
        "**¿Cuantos apartamentos hay en cada uno de esos barrios?**\n",
        "\n",
        "**Mostrar una dataframe con el nombre del barrio, el precio y el número de entradas.**\n",
        "\n",
        "Ayuda: Podeis crear un nuevo dataframe con las columnas \"Barrio\" y \"Freq\" que contenga el número de entradas en cada barrio y hacer un merge con el dataframe del punto anterior."
      ]
    },
    {
      "cell_type": "code",
      "execution_count": 25,
      "metadata": {
        "id": "vGi2eHtyiu80",
        "colab": {
          "base_uri": "https://localhost:8080/",
          "height": 255
        },
        "outputId": "02f4469b-9653-4c63-a4bd-e9ec586971e7"
      },
      "outputs": [
        {
          "output_type": "display_data",
          "data": {
            "text/html": [
              "<table class=\"dataframe\">\n",
              "<caption>A data.frame: 5 × 3</caption>\n",
              "<thead>\n",
              "\t<tr><th></th><th scope=col>Barrio</th><th scope=col>Precio</th><th scope=col>freq</th></tr>\n",
              "\t<tr><th></th><th scope=col>&lt;fct&gt;</th><th scope=col>&lt;dbl&gt;</th><th scope=col>&lt;int&gt;</th></tr>\n",
              "</thead>\n",
              "<tbody>\n",
              "\t<tr><th scope=row>1</th><td>Abrantes  </td><td>46.00000</td><td> 3</td></tr>\n",
              "\t<tr><th scope=row>2</th><td>Acacias   </td><td>68.16393</td><td>61</td></tr>\n",
              "\t<tr><th scope=row>3</th><td>Adelfas   </td><td>68.72727</td><td>33</td></tr>\n",
              "\t<tr><th scope=row>4</th><td>Aeropuerto</td><td>38.00000</td><td> 2</td></tr>\n",
              "\t<tr><th scope=row>5</th><td>Aguilas   </td><td>54.50000</td><td> 2</td></tr>\n",
              "</tbody>\n",
              "</table>\n"
            ],
            "text/markdown": "\nA data.frame: 5 × 3\n\n| <!--/--> | Barrio &lt;fct&gt; | Precio &lt;dbl&gt; | freq &lt;int&gt; |\n|---|---|---|---|\n| 1 | Abrantes   | 46.00000 |  3 |\n| 2 | Acacias    | 68.16393 | 61 |\n| 3 | Adelfas    | 68.72727 | 33 |\n| 4 | Aeropuerto | 38.00000 |  2 |\n| 5 | Aguilas    | 54.50000 |  2 |\n\n",
            "text/latex": "A data.frame: 5 × 3\n\\begin{tabular}{r|lll}\n  & Barrio & Precio & freq\\\\\n  & <fct> & <dbl> & <int>\\\\\n\\hline\n\t1 & Abrantes   & 46.00000 &  3\\\\\n\t2 & Acacias    & 68.16393 & 61\\\\\n\t3 & Adelfas    & 68.72727 & 33\\\\\n\t4 & Aeropuerto & 38.00000 &  2\\\\\n\t5 & Aguilas    & 54.50000 &  2\\\\\n\\end{tabular}\n",
            "text/plain": [
              "  Barrio     Precio   freq\n",
              "1 Abrantes   46.00000  3  \n",
              "2 Acacias    68.16393 61  \n",
              "3 Adelfas    68.72727 33  \n",
              "4 Aeropuerto 38.00000  2  \n",
              "5 Aguilas    54.50000  2  "
            ]
          },
          "metadata": {}
        }
      ],
      "source": [
        "freq <- airbnb_entire %>% dplyr::select (Barrio) %>% mutate (freq = 1) %>% \n",
        "group_by(Barrio) %>% summarise( freq = n()) %>% arrange(desc(freq)) %>% as.data.frame()\n",
        "entire <- merge(x = mean_price, y = freq, by = 'Barrio')\n",
        "#freq_location <- freq_location[order(freq_location$Frequency),]\n",
        "head(entire, 5)\n"
      ]
    },
    {
      "cell_type": "markdown",
      "metadata": {
        "id": "u6-HBn0_iu80"
      },
      "source": [
        "**Partiendo del dataframe anterior, muestra los 5 barrios con mayor precio, pero que tengan más de 100 entradas de alquiler.**"
      ]
    },
    {
      "cell_type": "code",
      "execution_count": 26,
      "metadata": {
        "id": "kC7bNyOhiu80",
        "colab": {
          "base_uri": "https://localhost:8080/",
          "height": 255
        },
        "outputId": "3c32f57c-5c2c-45fa-afba-5daa434d355c"
      },
      "outputs": [
        {
          "output_type": "display_data",
          "data": {
            "text/html": [
              "<table class=\"dataframe\">\n",
              "<caption>A data.frame: 5 × 3</caption>\n",
              "<thead>\n",
              "\t<tr><th></th><th scope=col>Barrio</th><th scope=col>Precio</th><th scope=col>freq</th></tr>\n",
              "\t<tr><th></th><th scope=col>&lt;fct&gt;</th><th scope=col>&lt;dbl&gt;</th><th scope=col>&lt;int&gt;</th></tr>\n",
              "</thead>\n",
              "<tbody>\n",
              "\t<tr><th scope=row>93</th><td>Recoletos</td><td>161.92537</td><td>135</td></tr>\n",
              "\t<tr><th scope=row>52</th><td>Goya     </td><td>111.33803</td><td>142</td></tr>\n",
              "\t<tr><th scope=row>106</th><td>Sol      </td><td>100.75036</td><td>701</td></tr>\n",
              "\t<tr><th scope=row>108</th><td>Trafalgar</td><td> 98.57848</td><td>223</td></tr>\n",
              "\t<tr><th scope=row>59</th><td>Justicia </td><td> 98.25468</td><td>534</td></tr>\n",
              "</tbody>\n",
              "</table>\n"
            ],
            "text/markdown": "\nA data.frame: 5 × 3\n\n| <!--/--> | Barrio &lt;fct&gt; | Precio &lt;dbl&gt; | freq &lt;int&gt; |\n|---|---|---|---|\n| 93 | Recoletos | 161.92537 | 135 |\n| 52 | Goya      | 111.33803 | 142 |\n| 106 | Sol       | 100.75036 | 701 |\n| 108 | Trafalgar |  98.57848 | 223 |\n| 59 | Justicia  |  98.25468 | 534 |\n\n",
            "text/latex": "A data.frame: 5 × 3\n\\begin{tabular}{r|lll}\n  & Barrio & Precio & freq\\\\\n  & <fct> & <dbl> & <int>\\\\\n\\hline\n\t93 & Recoletos & 161.92537 & 135\\\\\n\t52 & Goya      & 111.33803 & 142\\\\\n\t106 & Sol       & 100.75036 & 701\\\\\n\t108 & Trafalgar &  98.57848 & 223\\\\\n\t59 & Justicia  &  98.25468 & 534\\\\\n\\end{tabular}\n",
            "text/plain": [
              "    Barrio    Precio    freq\n",
              "93  Recoletos 161.92537 135 \n",
              "52  Goya      111.33803 142 \n",
              "106 Sol       100.75036 701 \n",
              "108 Trafalgar  98.57848 223 \n",
              "59  Justicia   98.25468 534 "
            ]
          },
          "metadata": {}
        }
      ],
      "source": [
        "top_barrio_100 <- entire[entire$freq > 100,]\n",
        "top_barrio_100_view <- data.frame(head(top_barrio_100[order(top_barrio_100$Precio, decreasing=TRUE, na.last=FALSE),],5))\n",
        "top_barrio_100_view"
      ]
    },
    {
      "cell_type": "markdown",
      "metadata": {
        "id": "g5ltk54liu81"
      },
      "source": [
        "**Dibuja el diagrama de densidad de distribución de los diferentes precios. Serían 5 gráficas, una por cada barrio.**"
      ]
    },
    {
      "cell_type": "code",
      "execution_count": 27,
      "metadata": {
        "id": "jB_ItVg3iu81",
        "colab": {
          "base_uri": "https://localhost:8080/",
          "height": 752
        },
        "outputId": "9536048a-5bcc-40b4-d831-f62155aed3ea"
      },
      "outputs": [
        {
          "output_type": "stream",
          "name": "stdout",
          "text": [
            "'data.frame':\t1735 obs. of  14 variables:\n",
            " $ CodigoPostal   : Factor w/ 16 levels \"28001\",\"28003\",..: 10 10 10 9 10 10 4 10 9 9 ...\n",
            " $ Barrio         : Factor w/ 5 levels \"Goya\",\"Justicia\",..: 4 4 4 4 4 4 4 4 4 4 ...\n",
            " $ TipoPropiedad  : Factor w/ 5 levels \"Apartment\",\"Condominium\",..: 1 2 1 1 1 1 1 1 1 1 ...\n",
            " $ TipoAlquiler   : Factor w/ 1 level \"Entire home/apt\": 1 1 1 1 1 1 1 1 1 1 ...\n",
            " $ MaxOcupantes   : int  4 6 4 6 4 4 10 6 4 4 ...\n",
            " $ NumBanyos      : num  1 1 1 1 1 1 2 1 1 1 ...\n",
            " $ NumDormitorios : int  1 2 1 2 1 1 4 2 1 1 ...\n",
            " $ NumCamas       : int  1 3 2 2 2 2 7 4 2 1 ...\n",
            " $ TipoCama       : Factor w/ 5 levels \"Airbed\",\"Couch\",..: 5 5 5 5 5 5 5 5 5 5 ...\n",
            " $ Comodidades    : Factor w/ 1477 levels \"\",\"Cable TV,Internet,Wireless Internet,Air conditioning,Kitchen,Doorman,Elevator in building,Buzzer/wireless inter\"| __truncated__,..: 1053 1055 450 743 650 1404 630 771 577 173 ...\n",
            " $ PiesCuadrados  : int  646 NA NA NA NA NA NA NA NA 753 ...\n",
            " $ Precio         : int  75 130 100 160 49 70 210 120 50 100 ...\n",
            " $ Puntuacion     : int  91 100 97 95 95 88 81 99 91 87 ...\n",
            " $ MetrosCuadrados: num  60 NA NA NA NA ...\n"
          ]
        },
        {
          "output_type": "stream",
          "name": "stderr",
          "text": [
            "Warning message:\n",
            "“Removed 1 rows containing non-finite values (stat_density).”\n"
          ]
        },
        {
          "output_type": "display_data",
          "data": {
            "text/plain": [
              "plot without title"
            ],
            "image/png": "[encoded data removed]"
          },
          "metadata": {
            "image/png": {
              "width": 420,
              "height": 420
            }
          }
        }
      ],
      "source": [
        "airbnb_entire2<-data.frame(airbnb_entire) %>%  \n",
        "filter(Barrio %in% c('Recoletos','Goya','Sol','Trafalgar','Justicia')) %>% \n",
        "as.data.frame()\n",
        "airbnb_entire2 <- droplevels(airbnb_entire2)\n",
        "str (airbnb_entire2)\n",
        "ggplot(data=airbnb_entire2, aes(Precio)) +\n",
        "geom_density(alpha=0.7)+facet_wrap(~ Barrio)\n"
      ]
    },
    {
      "cell_type": "markdown",
      "metadata": {
        "id": "uJEatcSkiu81"
      },
      "source": [
        "**Calcula el tamaño medio, en metros cuadrados, para los 5 barrios anteriores y muestralo en el mismo dataframe junto con el precio y número de entradas**"
      ]
    },
    {
      "cell_type": "code",
      "execution_count": 28,
      "metadata": {
        "id": "1QwTUS_Yiu81",
        "colab": {
          "base_uri": "https://localhost:8080/",
          "height": 255
        },
        "outputId": "79d7524e-4779-4f4b-d13d-606ff578f834"
      },
      "outputs": [
        {
          "output_type": "display_data",
          "data": {
            "text/html": [
              "<table class=\"dataframe\">\n",
              "<caption>A data.frame: 5 × 4</caption>\n",
              "<thead>\n",
              "\t<tr><th></th><th scope=col>Barrio</th><th scope=col>MetrosCuadrados</th><th scope=col>Precio</th><th scope=col>freq</th></tr>\n",
              "\t<tr><th></th><th scope=col>&lt;fct&gt;</th><th scope=col>&lt;dbl&gt;</th><th scope=col>&lt;dbl&gt;</th><th scope=col>&lt;int&gt;</th></tr>\n",
              "</thead>\n",
              "<tbody>\n",
              "\t<tr><th scope=row>1</th><td>Goya     </td><td>51.68504</td><td>111.33803</td><td>142</td></tr>\n",
              "\t<tr><th scope=row>2</th><td>Justicia </td><td>28.52669</td><td> 98.25468</td><td>534</td></tr>\n",
              "\t<tr><th scope=row>3</th><td>Recoletos</td><td>26.66316</td><td>161.92537</td><td>135</td></tr>\n",
              "\t<tr><th scope=row>4</th><td>Sol      </td><td>45.61692</td><td>100.75036</td><td>701</td></tr>\n",
              "\t<tr><th scope=row>5</th><td>Trafalgar</td><td>29.30426</td><td> 98.57848</td><td>223</td></tr>\n",
              "</tbody>\n",
              "</table>\n"
            ],
            "text/markdown": "\nA data.frame: 5 × 4\n\n| <!--/--> | Barrio &lt;fct&gt; | MetrosCuadrados &lt;dbl&gt; | Precio &lt;dbl&gt; | freq &lt;int&gt; |\n|---|---|---|---|---|\n| 1 | Goya      | 51.68504 | 111.33803 | 142 |\n| 2 | Justicia  | 28.52669 |  98.25468 | 534 |\n| 3 | Recoletos | 26.66316 | 161.92537 | 135 |\n| 4 | Sol       | 45.61692 | 100.75036 | 701 |\n| 5 | Trafalgar | 29.30426 |  98.57848 | 223 |\n\n",
            "text/latex": "A data.frame: 5 × 4\n\\begin{tabular}{r|llll}\n  & Barrio & MetrosCuadrados & Precio & freq\\\\\n  & <fct> & <dbl> & <dbl> & <int>\\\\\n\\hline\n\t1 & Goya      & 51.68504 & 111.33803 & 142\\\\\n\t2 & Justicia  & 28.52669 &  98.25468 & 534\\\\\n\t3 & Recoletos & 26.66316 & 161.92537 & 135\\\\\n\t4 & Sol       & 45.61692 & 100.75036 & 701\\\\\n\t5 & Trafalgar & 29.30426 &  98.57848 & 223\\\\\n\\end{tabular}\n",
            "text/plain": [
              "  Barrio    MetrosCuadrados Precio    freq\n",
              "1 Goya      51.68504        111.33803 142 \n",
              "2 Justicia  28.52669         98.25468 534 \n",
              "3 Recoletos 26.66316        161.92537 135 \n",
              "4 Sol       45.61692        100.75036 701 \n",
              "5 Trafalgar 29.30426         98.57848 223 "
            ]
          },
          "metadata": {}
        }
      ],
      "source": [
        "mean_MetrosCuadrados<-aggregate(MetrosCuadrados ~ Barrio, airbnb_entire2, mean,na.rm=TRUE)\n",
        "top_barrio_100_view2 <- merge(x = mean_MetrosCuadrados, y = top_barrio_100_view, by = 'Barrio', y.all=all)\n",
        "head(top_barrio_100_view2, 5)"
      ]
    },
    {
      "cell_type": "markdown",
      "metadata": {
        "id": "RAcTu_zriu81"
      },
      "source": [
        "**Dibuja el diagrama de densidad de distribución de los diferentes tamaños de apartamentos. Serían 5 gráficas, una por cada barrio.**"
      ]
    },
    {
      "cell_type": "code",
      "execution_count": 29,
      "metadata": {
        "id": "nGgrMkV-iu81",
        "colab": {
          "base_uri": "https://localhost:8080/",
          "height": 471
        },
        "outputId": "4607792d-2206-4191-d727-4b9c55a8ec8f"
      },
      "outputs": [
        {
          "output_type": "stream",
          "name": "stderr",
          "text": [
            "Warning message:\n",
            "“Removed 1645 rows containing non-finite values (stat_density).”\n"
          ]
        },
        {
          "output_type": "display_data",
          "data": {
            "text/plain": [
              "plot without title"
            ],
            "image/png": "[encoded data removed]"
          },
          "metadata": {
            "image/png": {
              "width": 420,
              "height": 420
            }
          }
        }
      ],
      "source": [
        "ggplot(data=airbnb_entire2, aes(MetrosCuadrados)) +\n",
        "geom_density(alpha=0.7)+facet_wrap(~ Barrio)"
      ]
    },
    {
      "cell_type": "markdown",
      "metadata": {
        "id": "wUVXYd5jiu81"
      },
      "source": [
        "**Esta claro que las medias de metros cuadrados de cada uno de estos 5 barrios parecen ser diferentes, pero ¿son estadísticamente diferentes?\n",
        "¿Que test habría que usar para comprobarlo?**"
      ]
    },
    {
      "cell_type": "code",
      "execution_count": 30,
      "metadata": {
        "id": "N6pJNuWqiu82",
        "colab": {
          "base_uri": "https://localhost:8080/",
          "height": 86
        },
        "outputId": "74b80feb-598e-4fec-9edd-c4604faa3cc6"
      },
      "outputs": [
        {
          "output_type": "display_data",
          "data": {
            "text/plain": [
              "            Df Sum Sq Mean Sq F value Pr(>F)\n",
              "Barrio       4   5832    1458   0.637  0.637\n",
              "Residuals   85 194490    2288               \n",
              "1645 observations deleted due to missingness"
            ]
          },
          "metadata": {}
        }
      ],
      "source": [
        "summary(aov( MetrosCuadrados ~ Barrio, data=airbnb_entire2))"
      ]
    },
    {
      "cell_type": "markdown",
      "source": [
        "**Respuesta:**Usamos ANOVA para comparar las medias de tres o más grupos de datos. El p-valor es realmente alto, por lo que podemos aceptar la hipótesis nula que era que las medias eran iguales"
      ],
      "metadata": {
        "id": "U8ow_s2Mf-Oi"
      }
    },
    {
      "cell_type": "markdown",
      "metadata": {
        "id": "7JBsFSGeiu82"
      },
      "source": [
        "**Para únicamente los pisos de alquiler en el barrio de Sol:**\n",
        "\n",
        "``barrio_sol<-subset(airbnb_entire,Barrio==\"Sol\")``\n",
        "\n",
        "**Calcular un modelo lineal que combine alguna de estas variables:**\n",
        "* NumBanyos\n",
        "* NumDormitorios\n",
        "* MaxOcupantes\n",
        "* MetrosCuadrados"
      ]
    },
    {
      "cell_type": "code",
      "execution_count": 31,
      "metadata": {
        "id": "R-DTRwSdiu82",
        "colab": {
          "base_uri": "https://localhost:8080/",
          "height": 416
        },
        "outputId": "66ccbd95-333b-4f41-aa0c-73d09f1d727a"
      },
      "outputs": [
        {
          "output_type": "display_data",
          "data": {
            "text/plain": [
              "\n",
              "Call:\n",
              "lm(formula = Precio ~ NumBanyos + NumDormitorios + MaxOcupantes + \n",
              "    MetrosCuadrados, data = barrio_sol)\n",
              "\n",
              "Residuals:\n",
              "    Min      1Q  Median      3Q     Max \n",
              "-67.852 -15.599  -4.021  10.042 108.406 \n",
              "\n",
              "Coefficients:\n",
              "                Estimate Std. Error t value Pr(>|t|)    \n",
              "(Intercept)     42.28673   10.25650   4.123 0.000127 ***\n",
              "NumBanyos       15.70888   10.15721   1.547 0.127701    \n",
              "NumDormitorios  22.75344    6.55828   3.469 0.001022 ** \n",
              "MaxOcupantes    -2.85045    2.60279  -1.095 0.278223    \n",
              "MetrosCuadrados  0.29900    0.09997   2.991 0.004155 ** \n",
              "---\n",
              "Signif. codes:  0 ‘***’ 0.001 ‘**’ 0.01 ‘*’ 0.05 ‘.’ 0.1 ‘ ’ 1\n",
              "\n",
              "Residual standard error: 32.42 on 55 degrees of freedom\n",
              "  (641 observations deleted due to missingness)\n",
              "Multiple R-squared:  0.6108,\tAdjusted R-squared:  0.5825 \n",
              "F-statistic: 21.58 on 4 and 55 DF,  p-value: 9.534e-11\n"
            ]
          },
          "metadata": {}
        }
      ],
      "source": [
        "barrio_sol<-subset(airbnb_entire,Barrio==\"Sol\")\n",
        "linear_model_sol <- lm(Precio ~ NumBanyos+NumDormitorios+MaxOcupantes+MetrosCuadrados, data=barrio_sol)\n",
        "summary(linear_model_sol)"
      ]
    },
    {
      "cell_type": "markdown",
      "metadata": {
        "id": "W1iyVUWRiu82"
      },
      "source": [
        "**Primero calculamos la correlación para ver como se relacionan estas variables entre sí.**"
      ]
    },
    {
      "cell_type": "code",
      "source": [
        "#install.packages(\"corrplot\")\n",
        "#library(corrplot)"
      ],
      "metadata": {
        "id": "kbkNvr2rlKAp"
      },
      "execution_count": 32,
      "outputs": []
    },
    {
      "cell_type": "code",
      "source": [
        "dataMP <- cbind(barrio_sol$Precio,barrio_sol$NumBanyos,barrio_sol$NumDormitorios,barrio_sol$MaxOcupantes,barrio_sol$MetrosCuadrados)\n",
        "colnames(dataMP) <- c('Precio','NumBanyos','NumDormitorios','MaxOcupantes','MetrosCuadrados')\n",
        "dataMP<- na.omit(dataMP)\n",
        "dataP <- as.data.frame(dataMP)\n",
        "corrP <- round(cor(dataP, method='pearson'),2)\n",
        "corrP"
      ],
      "metadata": {
        "id": "fOCcdD1h_bn5",
        "colab": {
          "base_uri": "https://localhost:8080/",
          "height": 223
        },
        "outputId": "2293f808-0771-4334-ec64-4b237014553e"
      },
      "execution_count": 33,
      "outputs": [
        {
          "output_type": "display_data",
          "data": {
            "text/html": [
              "<table class=\"dataframe\">\n",
              "<caption>A matrix: 5 × 5 of type dbl</caption>\n",
              "<thead>\n",
              "\t<tr><th></th><th scope=col>Precio</th><th scope=col>NumBanyos</th><th scope=col>NumDormitorios</th><th scope=col>MaxOcupantes</th><th scope=col>MetrosCuadrados</th></tr>\n",
              "</thead>\n",
              "<tbody>\n",
              "\t<tr><th scope=row>Precio</th><td>1.00</td><td>0.60</td><td>0.72</td><td>0.53</td><td>0.64</td></tr>\n",
              "\t<tr><th scope=row>NumBanyos</th><td>0.60</td><td>1.00</td><td>0.69</td><td>0.70</td><td>0.48</td></tr>\n",
              "\t<tr><th scope=row>NumDormitorios</th><td>0.72</td><td>0.69</td><td>1.00</td><td>0.79</td><td>0.57</td></tr>\n",
              "\t<tr><th scope=row>MaxOcupantes</th><td>0.53</td><td>0.70</td><td>0.79</td><td>1.00</td><td>0.43</td></tr>\n",
              "\t<tr><th scope=row>MetrosCuadrados</th><td>0.64</td><td>0.48</td><td>0.57</td><td>0.43</td><td>1.00</td></tr>\n",
              "</tbody>\n",
              "</table>\n"
            ],
            "text/markdown": "\nA matrix: 5 × 5 of type dbl\n\n| <!--/--> | Precio | NumBanyos | NumDormitorios | MaxOcupantes | MetrosCuadrados |\n|---|---|---|---|---|---|\n| Precio | 1.00 | 0.60 | 0.72 | 0.53 | 0.64 |\n| NumBanyos | 0.60 | 1.00 | 0.69 | 0.70 | 0.48 |\n| NumDormitorios | 0.72 | 0.69 | 1.00 | 0.79 | 0.57 |\n| MaxOcupantes | 0.53 | 0.70 | 0.79 | 1.00 | 0.43 |\n| MetrosCuadrados | 0.64 | 0.48 | 0.57 | 0.43 | 1.00 |\n\n",
            "text/latex": "A matrix: 5 × 5 of type dbl\n\\begin{tabular}{r|lllll}\n  & Precio & NumBanyos & NumDormitorios & MaxOcupantes & MetrosCuadrados\\\\\n\\hline\n\tPrecio & 1.00 & 0.60 & 0.72 & 0.53 & 0.64\\\\\n\tNumBanyos & 0.60 & 1.00 & 0.69 & 0.70 & 0.48\\\\\n\tNumDormitorios & 0.72 & 0.69 & 1.00 & 0.79 & 0.57\\\\\n\tMaxOcupantes & 0.53 & 0.70 & 0.79 & 1.00 & 0.43\\\\\n\tMetrosCuadrados & 0.64 & 0.48 & 0.57 & 0.43 & 1.00\\\\\n\\end{tabular}\n",
            "text/plain": [
              "                Precio NumBanyos NumDormitorios MaxOcupantes MetrosCuadrados\n",
              "Precio          1.00   0.60      0.72           0.53         0.64           \n",
              "NumBanyos       0.60   1.00      0.69           0.70         0.48           \n",
              "NumDormitorios  0.72   0.69      1.00           0.79         0.57           \n",
              "MaxOcupantes    0.53   0.70      0.79           1.00         0.43           \n",
              "MetrosCuadrados 0.64   0.48      0.57           0.43         1.00           "
            ]
          },
          "metadata": {}
        }
      ]
    },
    {
      "cell_type": "code",
      "execution_count": 34,
      "metadata": {
        "id": "UnOIVjjxiu82",
        "colab": {
          "base_uri": "https://localhost:8080/",
          "height": 612
        },
        "outputId": "25c7af73-17f6-48c5-8489-c4995a1a1e37"
      },
      "outputs": [
        {
          "output_type": "display_data",
          "data": {
            "text/html": [
              "<table class=\"dataframe\">\n",
              "<caption>A matrix: 4 × 4 of type dbl</caption>\n",
              "<thead>\n",
              "\t<tr><th></th><th scope=col>NumBanyos</th><th scope=col>NumDormitorios</th><th scope=col>MaxOcupantes</th><th scope=col>MetrosCuadrados</th></tr>\n",
              "</thead>\n",
              "<tbody>\n",
              "\t<tr><th scope=row>NumBanyos</th><td>1.00</td><td>0.69</td><td>0.70</td><td>0.48</td></tr>\n",
              "\t<tr><th scope=row>NumDormitorios</th><td>0.69</td><td>1.00</td><td>0.79</td><td>0.57</td></tr>\n",
              "\t<tr><th scope=row>MaxOcupantes</th><td>0.70</td><td>0.79</td><td>1.00</td><td>0.43</td></tr>\n",
              "\t<tr><th scope=row>MetrosCuadrados</th><td>0.48</td><td>0.57</td><td>0.43</td><td>1.00</td></tr>\n",
              "</tbody>\n",
              "</table>\n"
            ],
            "text/markdown": "\nA matrix: 4 × 4 of type dbl\n\n| <!--/--> | NumBanyos | NumDormitorios | MaxOcupantes | MetrosCuadrados |\n|---|---|---|---|---|\n| NumBanyos | 1.00 | 0.69 | 0.70 | 0.48 |\n| NumDormitorios | 0.69 | 1.00 | 0.79 | 0.57 |\n| MaxOcupantes | 0.70 | 0.79 | 1.00 | 0.43 |\n| MetrosCuadrados | 0.48 | 0.57 | 0.43 | 1.00 |\n\n",
            "text/latex": "A matrix: 4 × 4 of type dbl\n\\begin{tabular}{r|llll}\n  & NumBanyos & NumDormitorios & MaxOcupantes & MetrosCuadrados\\\\\n\\hline\n\tNumBanyos & 1.00 & 0.69 & 0.70 & 0.48\\\\\n\tNumDormitorios & 0.69 & 1.00 & 0.79 & 0.57\\\\\n\tMaxOcupantes & 0.70 & 0.79 & 1.00 & 0.43\\\\\n\tMetrosCuadrados & 0.48 & 0.57 & 0.43 & 1.00\\\\\n\\end{tabular}\n",
            "text/plain": [
              "                NumBanyos NumDormitorios MaxOcupantes MetrosCuadrados\n",
              "NumBanyos       1.00      0.69           0.70         0.48           \n",
              "NumDormitorios  0.69      1.00           0.79         0.57           \n",
              "MaxOcupantes    0.70      0.79           1.00         0.43           \n",
              "MetrosCuadrados 0.48      0.57           0.43         1.00           "
            ]
          },
          "metadata": {}
        },
        {
          "output_type": "display_data",
          "data": {
            "text/plain": [
              "Plot with title “Matriz de Correlación”"
            ],
            "image/png": "[encoded data removed]"
          },
          "metadata": {
            "image/png": {
              "width": 420,
              "height": 420
            }
          }
        }
      ],
      "source": [
        "dataM <- cbind(barrio_sol$NumBanyos,barrio_sol$NumDormitorios,barrio_sol$MaxOcupantes,barrio_sol$MetrosCuadrados)\n",
        "colnames(dataM) <- c('NumBanyos','NumDormitorios','MaxOcupantes','MetrosCuadrados')\n",
        "dataM<- na.omit(dataM)\n",
        "data <- as.data.frame(dataM)\n",
        "corr <- round(cor(data, method='pearson'),2)\n",
        "corr\n",
        "col2 <- colorRampPalette(c(\"#67001F\", \"#B2182B\", \"#D6604D\", \"#F4A582\"))\n",
        "matriz_corr <- corrplot(corr, method=\"number\", col=col2(200),type=\"upper\", \n",
        "     title= \"Matriz de Correlación\", tl.cex = 0.7,\n",
        "     sig.level = 0.05, addCoef.col = \"black\", insig = \"blank\")"
      ]
    },
    {
      "cell_type": "markdown",
      "metadata": {
        "id": "la-bfw7biu83"
      },
      "source": [
        "**Se observa que la correlación entre el número de dormitorios y los metros cuadrados es sorprendentemente baja.**\n",
        "**¿Son de fiar esos números?**\n",
        "\n",
        "**Mediante un histograma o curvas de densidad podemos descartar números que notienen sentido en el dataframe barrio_sol,\n",
        "para tener una matriz de correlación que tenga mayor sentido.**\n"
      ]
    },
    {
      "cell_type": "code",
      "source": [
        "#install.packages(\"GGally\")\n",
        "#library(\"GGally\")"
      ],
      "metadata": {
        "id": "JbYTG3aYshBt"
      },
      "execution_count": 35,
      "outputs": []
    },
    {
      "cell_type": "code",
      "execution_count": 36,
      "metadata": {
        "id": "HRqerYzuiu83",
        "colab": {
          "base_uri": "https://localhost:8080/",
          "height": 1000
        },
        "outputId": "f7c79717-6a21-43a9-de88-9a9c73712e0c"
      },
      "outputs": [
        {
          "output_type": "display_data",
          "data": {
            "text/plain": [
              "Plot with title “Histograma Metros Cuadrados”"
            ],
            "image/png": "[encoded data removed]"
          },
          "metadata": {
            "image/png": {
              "width": 420,
              "height": 420
            }
          }
        },
        {
          "output_type": "stream",
          "name": "stderr",
          "text": [
            "`stat_bin()` using `bins = 30`. Pick better value with `binwidth`.\n",
            "\n"
          ]
        },
        {
          "output_type": "display_data",
          "data": {
            "text/plain": [
              "Plot with title “Histograma Numero Dormitorios”"
            ],
            "image/png": "[encoded data removed]"
          },
          "metadata": {
            "image/png": {
              "width": 420,
              "height": 420
            }
          }
        },
        {
          "output_type": "stream",
          "name": "stderr",
          "text": [
            "`stat_bin()` using `bins = 30`. Pick better value with `binwidth`.\n",
            "\n"
          ]
        },
        {
          "output_type": "display_data",
          "data": {
            "text/plain": [
              "plot without title"
            ],
            "image/png": "[encoded data removed]"
          },
          "metadata": {
            "image/png": {
              "width": 420,
              "height": 420
            }
          }
        },
        {
          "output_type": "display_data",
          "data": {
            "text/plain": [
              "plot without title"
            ],
            "image/png": "[encoded data removed]"
          },
          "metadata": {
            "image/png": {
              "width": 420,
              "height": 420
            }
          }
        }
      ],
      "source": [
        "\n",
        "hist(data$MetrosCuadrados,freq=FALSE, col=\"lightcyan\",ylim=c(0,0.004),\n",
        "     main=\"Histograma Metros Cuadrados\",xlab=\"Metros cuadrados\",ylab=\"Densidad\")\n",
        "hist(data$NumDormitorios,freq=FALSE, col=\"lightcyan\",ylim=c(0,0.004),\n",
        "     main=\"Histograma Numero Dormitorios\",xlab=\"Numero\",ylab=\"Densidad\")\n",
        "qplot(data$MetrosCuadrados, geom='histogram', )\n",
        "qplot(data$NumDormitorios, geom='histogram', )\n",
        "\n",
        "   "
      ]
    },
    {
      "cell_type": "code",
      "source": [
        "ggplot(data=barrio_sol,aes(x=MetrosCuadrados, y=Precio))+geom_boxplot()+ \n",
        "scale_color_discrete(name=\"Análisis precios y metros cuadrados\")+ylab('Precio')+xlab('Metros cuadrados') + scale_y_continuous(limits=c(0,100))"
      ],
      "metadata": {
        "id": "9zBctSH64q32",
        "colab": {
          "base_uri": "https://localhost:8080/",
          "height": 541
        },
        "outputId": "093c9bfc-24ab-4cb1-ecf5-6d8766ef044a"
      },
      "execution_count": 37,
      "outputs": [
        {
          "output_type": "stream",
          "name": "stderr",
          "text": [
            "Warning message:\n",
            "“Continuous x aesthetic -- did you forget aes(group=...)?”\n",
            "Warning message:\n",
            "“Removed 641 rows containing missing values (stat_boxplot).”\n",
            "Warning message:\n",
            "“Removed 15 rows containing non-finite values (stat_boxplot).”\n"
          ]
        },
        {
          "output_type": "display_data",
          "data": {
            "text/plain": [
              "plot without title"
            ],
            "image/png": "[encoded data removed]"
          },
          "metadata": {
            "image/png": {
              "width": 420,
              "height": 420
            }
          }
        }
      ]
    },
    {
      "cell_type": "code",
      "source": [
        "ggplot(data=barrio_sol,aes(x=NumDormitorios, y=Precio))+geom_boxplot()+ \n",
        "scale_color_discrete(name=\"Análisis precios y numero dormitorios\")+ylab('Precio')+xlab('Numero dormitorios') + scale_y_continuous(limits=c(0,100))"
      ],
      "metadata": {
        "id": "IiJvb54w5zNJ",
        "colab": {
          "base_uri": "https://localhost:8080/",
          "height": 506
        },
        "outputId": "e0f00b12-243f-453a-b7d5-77a474333e2f"
      },
      "execution_count": 38,
      "outputs": [
        {
          "output_type": "stream",
          "name": "stderr",
          "text": [
            "Warning message:\n",
            "“Continuous x aesthetic -- did you forget aes(group=...)?”\n",
            "Warning message:\n",
            "“Removed 227 rows containing non-finite values (stat_boxplot).”\n"
          ]
        },
        {
          "output_type": "display_data",
          "data": {
            "text/plain": [
              "plot without title"
            ],
            "image/png": "[encoded data removed]"
          },
          "metadata": {
            "image/png": {
              "width": 420,
              "height": 420
            }
          }
        }
      ]
    },
    {
      "cell_type": "code",
      "source": [
        "barrio_sol_filter<-subset(barrio_sol,Precio <= 100 | MetrosCuadrados > 0 | NumDormitorios > 0 | MetrosCuadrados <= 100 | NumDormitorios <= 3)\n",
        "barrio_sol_filter<- droplevels(barrio_sol_filter)\n",
        "str (barrio_sol_filter)\n"
      ],
      "metadata": {
        "id": "bwJfrT6F6SpO",
        "colab": {
          "base_uri": "https://localhost:8080/"
        },
        "outputId": "8e118cc8-8f4c-408f-cc97-7108f3e9d96c"
      },
      "execution_count": 39,
      "outputs": [
        {
          "output_type": "stream",
          "name": "stdout",
          "text": [
            "'data.frame':\t701 obs. of  14 variables:\n",
            " $ CodigoPostal   : Factor w/ 10 levels \"28001\",\"28004\",..: 5 5 5 4 5 5 3 5 4 4 ...\n",
            " $ Barrio         : Factor w/ 1 level \"Sol\": 1 1 1 1 1 1 1 1 1 1 ...\n",
            " $ TipoPropiedad  : Factor w/ 5 levels \"Apartment\",\"Condominium\",..: 1 2 1 1 1 1 1 1 1 1 ...\n",
            " $ TipoAlquiler   : Factor w/ 1 level \"Entire home/apt\": 1 1 1 1 1 1 1 1 1 1 ...\n",
            " $ MaxOcupantes   : int  4 6 4 6 4 4 10 6 4 4 ...\n",
            " $ NumBanyos      : num  1 1 1 1 1 1 2 1 1 1 ...\n",
            " $ NumDormitorios : int  1 2 1 2 1 1 4 2 1 1 ...\n",
            " $ NumCamas       : int  1 3 2 2 2 2 7 4 2 1 ...\n",
            " $ TipoCama       : Factor w/ 3 levels \"Futon\",\"Pull-out Sofa\",..: 3 3 3 3 3 3 3 3 3 3 ...\n",
            " $ Comodidades    : Factor w/ 600 levels \"Cable TV,Wireless Internet,Air conditioning,Kitchen,Elevator in building,Buzzer/wireless intercom,Heating,Famil\"| __truncated__,..: 422 424 168 306 263 577 252 320 224 61 ...\n",
            " $ PiesCuadrados  : int  646 NA NA NA NA NA NA NA NA 753 ...\n",
            " $ Precio         : int  75 130 100 160 49 70 210 120 50 100 ...\n",
            " $ Puntuacion     : int  91 100 97 95 95 88 81 99 91 87 ...\n",
            " $ MetrosCuadrados: num  60 NA NA NA NA ...\n"
          ]
        }
      ]
    },
    {
      "cell_type": "code",
      "source": [
        "dataMP2 <- cbind(barrio_sol_filter$Precio,barrio_sol_filter$NumBanyos,barrio_sol_filter$NumDormitorios,barrio_sol_filter$MaxOcupantes,barrio_sol_filter$MetrosCuadrados)\n",
        "colnames(dataMP2) <- c('Precio','NumBanyos','NumDormitorios','MaxOcupantes','MetrosCuadrados')\n",
        "dataMP2<- na.omit(dataMP2)\n",
        "dataP2 <- as.data.frame(dataMP2)\n",
        "corrP2 <- round(cor(dataP2, method='pearson'),2)\n",
        "corrP2"
      ],
      "metadata": {
        "id": "hzaaUStkAexT",
        "colab": {
          "base_uri": "https://localhost:8080/",
          "height": 223
        },
        "outputId": "d727a501-5cfe-4b8f-dcbf-0bc9121b9068"
      },
      "execution_count": 40,
      "outputs": [
        {
          "output_type": "display_data",
          "data": {
            "text/html": [
              "<table class=\"dataframe\">\n",
              "<caption>A matrix: 5 × 5 of type dbl</caption>\n",
              "<thead>\n",
              "\t<tr><th></th><th scope=col>Precio</th><th scope=col>NumBanyos</th><th scope=col>NumDormitorios</th><th scope=col>MaxOcupantes</th><th scope=col>MetrosCuadrados</th></tr>\n",
              "</thead>\n",
              "<tbody>\n",
              "\t<tr><th scope=row>Precio</th><td>1.00</td><td>0.60</td><td>0.72</td><td>0.53</td><td>0.64</td></tr>\n",
              "\t<tr><th scope=row>NumBanyos</th><td>0.60</td><td>1.00</td><td>0.69</td><td>0.70</td><td>0.48</td></tr>\n",
              "\t<tr><th scope=row>NumDormitorios</th><td>0.72</td><td>0.69</td><td>1.00</td><td>0.79</td><td>0.57</td></tr>\n",
              "\t<tr><th scope=row>MaxOcupantes</th><td>0.53</td><td>0.70</td><td>0.79</td><td>1.00</td><td>0.43</td></tr>\n",
              "\t<tr><th scope=row>MetrosCuadrados</th><td>0.64</td><td>0.48</td><td>0.57</td><td>0.43</td><td>1.00</td></tr>\n",
              "</tbody>\n",
              "</table>\n"
            ],
            "text/markdown": "\nA matrix: 5 × 5 of type dbl\n\n| <!--/--> | Precio | NumBanyos | NumDormitorios | MaxOcupantes | MetrosCuadrados |\n|---|---|---|---|---|---|\n| Precio | 1.00 | 0.60 | 0.72 | 0.53 | 0.64 |\n| NumBanyos | 0.60 | 1.00 | 0.69 | 0.70 | 0.48 |\n| NumDormitorios | 0.72 | 0.69 | 1.00 | 0.79 | 0.57 |\n| MaxOcupantes | 0.53 | 0.70 | 0.79 | 1.00 | 0.43 |\n| MetrosCuadrados | 0.64 | 0.48 | 0.57 | 0.43 | 1.00 |\n\n",
            "text/latex": "A matrix: 5 × 5 of type dbl\n\\begin{tabular}{r|lllll}\n  & Precio & NumBanyos & NumDormitorios & MaxOcupantes & MetrosCuadrados\\\\\n\\hline\n\tPrecio & 1.00 & 0.60 & 0.72 & 0.53 & 0.64\\\\\n\tNumBanyos & 0.60 & 1.00 & 0.69 & 0.70 & 0.48\\\\\n\tNumDormitorios & 0.72 & 0.69 & 1.00 & 0.79 & 0.57\\\\\n\tMaxOcupantes & 0.53 & 0.70 & 0.79 & 1.00 & 0.43\\\\\n\tMetrosCuadrados & 0.64 & 0.48 & 0.57 & 0.43 & 1.00\\\\\n\\end{tabular}\n",
            "text/plain": [
              "                Precio NumBanyos NumDormitorios MaxOcupantes MetrosCuadrados\n",
              "Precio          1.00   0.60      0.72           0.53         0.64           \n",
              "NumBanyos       0.60   1.00      0.69           0.70         0.48           \n",
              "NumDormitorios  0.72   0.69      1.00           0.79         0.57           \n",
              "MaxOcupantes    0.53   0.70      0.79           1.00         0.43           \n",
              "MetrosCuadrados 0.64   0.48      0.57           0.43         1.00           "
            ]
          },
          "metadata": {}
        }
      ]
    },
    {
      "cell_type": "markdown",
      "source": [
        "**Respuesta:** Se ha procedido a centrar los datos ya que se han eliminado los valores a cero y se ha limitado el límite superior de las variables quitando los valores outliers. Con esto se ha mejorado la correlación entre las variables"
      ],
      "metadata": {
        "id": "AWSVEB4cP05x"
      }
    },
    {
      "cell_type": "markdown",
      "metadata": {
        "id": "fDZz5Ik6iu83"
      },
      "source": [
        "**Una vez que hayamos filtrado los datos correspondientes calcular el valor o la combinación de valores que mejor nos permite obtener el precio de un inmueble.**"
      ]
    },
    {
      "cell_type": "code",
      "execution_count": 41,
      "metadata": {
        "id": "30i_ZtcOiu83",
        "colab": {
          "base_uri": "https://localhost:8080/",
          "height": 416
        },
        "outputId": "73eae8c8-56d0-4196-b1fe-ec2de464b0a4"
      },
      "outputs": [
        {
          "output_type": "display_data",
          "data": {
            "text/plain": [
              "\n",
              "Call:\n",
              "lm(formula = Precio ~ NumBanyos + NumDormitorios + MaxOcupantes + \n",
              "    MetrosCuadrados, data = barrio_sol_filter)\n",
              "\n",
              "Residuals:\n",
              "    Min      1Q  Median      3Q     Max \n",
              "-67.852 -15.599  -4.021  10.042 108.406 \n",
              "\n",
              "Coefficients:\n",
              "                Estimate Std. Error t value Pr(>|t|)    \n",
              "(Intercept)     42.28673   10.25650   4.123 0.000127 ***\n",
              "NumBanyos       15.70888   10.15721   1.547 0.127701    \n",
              "NumDormitorios  22.75344    6.55828   3.469 0.001022 ** \n",
              "MaxOcupantes    -2.85045    2.60279  -1.095 0.278223    \n",
              "MetrosCuadrados  0.29900    0.09997   2.991 0.004155 ** \n",
              "---\n",
              "Signif. codes:  0 ‘***’ 0.001 ‘**’ 0.01 ‘*’ 0.05 ‘.’ 0.1 ‘ ’ 1\n",
              "\n",
              "Residual standard error: 32.42 on 55 degrees of freedom\n",
              "  (641 observations deleted due to missingness)\n",
              "Multiple R-squared:  0.6108,\tAdjusted R-squared:  0.5825 \n",
              "F-statistic: 21.58 on 4 and 55 DF,  p-value: 9.534e-11\n"
            ]
          },
          "metadata": {}
        }
      ],
      "source": [
        "linear_model_sol2 <- lm(Precio ~ NumBanyos+NumDormitorios+MaxOcupantes+MetrosCuadrados, data=barrio_sol_filter)\n",
        "summary(linear_model_sol2)"
      ]
    },
    {
      "cell_type": "code",
      "source": [
        "#install.packages(\"MASS\")\n",
        "#library(MASS)\n",
        "fit <- lm(Precio ~ NumBanyos+NumDormitorios+MaxOcupantes+MetrosCuadrados, data=barrio_sol_filter)\n",
        "step <- stepAIC(fit, direction=\"both\")\n",
        "step$anova"
      ],
      "metadata": {
        "id": "GkSXrd82MRFq",
        "colab": {
          "base_uri": "https://localhost:8080/",
          "height": 695
        },
        "outputId": "ff8ef22c-583d-462e-f6e3-e97f15a31ff7"
      },
      "execution_count": 42,
      "outputs": [
        {
          "output_type": "stream",
          "name": "stdout",
          "text": [
            "Start:  AIC=422.24\n",
            "Precio ~ NumBanyos + NumDormitorios + MaxOcupantes + MetrosCuadrados\n",
            "\n",
            "                  Df Sum of Sq   RSS    AIC\n",
            "- MaxOcupantes     1    1260.7 59074 421.53\n",
            "<none>                         57813 422.24\n",
            "- NumBanyos        1    2514.2 60328 422.79\n",
            "- MetrosCuadrados  1    9403.7 67217 429.28\n",
            "- NumDormitorios   1   12652.6 70466 432.11\n",
            "\n",
            "Step:  AIC=421.53\n",
            "Precio ~ NumBanyos + NumDormitorios + MetrosCuadrados\n",
            "\n",
            "                  Df Sum of Sq   RSS    AIC\n",
            "- NumBanyos        1    1586.6 60661 421.12\n",
            "<none>                         59074 421.53\n",
            "+ MaxOcupantes     1    1260.7 57813 422.24\n",
            "- MetrosCuadrados  1   10185.3 69259 429.08\n",
            "- NumDormitorios   1   12712.4 71786 431.23\n",
            "\n",
            "Step:  AIC=421.12\n",
            "Precio ~ NumDormitorios + MetrosCuadrados\n",
            "\n",
            "                  Df Sum of Sq   RSS    AIC\n",
            "<none>                         60661 421.12\n",
            "+ NumBanyos        1    1586.6 59074 421.53\n",
            "+ MaxOcupantes     1     333.1 60328 422.79\n",
            "- MetrosCuadrados  1   11724.9 72386 429.73\n",
            "- NumDormitorios   1   27392.5 88053 441.48\n"
          ]
        },
        {
          "output_type": "display_data",
          "data": {
            "text/html": [
              "<table class=\"dataframe\">\n",
              "<caption>A Anova: 3 × 6</caption>\n",
              "<thead>\n",
              "\t<tr><th scope=col>Step</th><th scope=col>Df</th><th scope=col>Deviance</th><th scope=col>Resid. Df</th><th scope=col>Resid. Dev</th><th scope=col>AIC</th></tr>\n",
              "\t<tr><th scope=col>&lt;chr&gt;</th><th scope=col>&lt;dbl&gt;</th><th scope=col>&lt;dbl&gt;</th><th scope=col>&lt;dbl&gt;</th><th scope=col>&lt;dbl&gt;</th><th scope=col>&lt;dbl&gt;</th></tr>\n",
              "</thead>\n",
              "<tbody>\n",
              "\t<tr><td>              </td><td>NA</td><td>      NA</td><td>55</td><td>57813.38</td><td>422.2379</td></tr>\n",
              "\t<tr><td>- MaxOcupantes</td><td> 1</td><td>1260.707</td><td>56</td><td>59074.08</td><td>421.5322</td></tr>\n",
              "\t<tr><td>- NumBanyos   </td><td> 1</td><td>1586.594</td><td>57</td><td>60660.68</td><td>421.1224</td></tr>\n",
              "</tbody>\n",
              "</table>\n"
            ],
            "text/markdown": "\nA Anova: 3 × 6\n\n| Step &lt;chr&gt; | Df &lt;dbl&gt; | Deviance &lt;dbl&gt; | Resid. Df &lt;dbl&gt; | Resid. Dev &lt;dbl&gt; | AIC &lt;dbl&gt; |\n|---|---|---|---|---|---|\n| <!----> | NA |       NA | 55 | 57813.38 | 422.2379 |\n| - MaxOcupantes |  1 | 1260.707 | 56 | 59074.08 | 421.5322 |\n| - NumBanyos    |  1 | 1586.594 | 57 | 60660.68 | 421.1224 |\n\n",
            "text/latex": "A Anova: 3 × 6\n\\begin{tabular}{llllll}\n Step & Df & Deviance & Resid. Df & Resid. Dev & AIC\\\\\n <chr> & <dbl> & <dbl> & <dbl> & <dbl> & <dbl>\\\\\n\\hline\n\t                & NA &       NA & 55 & 57813.38 & 422.2379\\\\\n\t - MaxOcupantes &  1 & 1260.707 & 56 & 59074.08 & 421.5322\\\\\n\t - NumBanyos    &  1 & 1586.594 & 57 & 60660.68 & 421.1224\\\\\n\\end{tabular}\n",
            "text/plain": [
              "  Step           Df Deviance Resid. Df Resid. Dev AIC     \n",
              "1                NA       NA 55        57813.38   422.2379\n",
              "2 - MaxOcupantes  1 1260.707 56        59074.08   421.5322\n",
              "3 - NumBanyos     1 1586.594 57        60660.68   421.1224"
            ]
          },
          "metadata": {}
        }
      ]
    },
    {
      "cell_type": "markdown",
      "source": [
        "**Respuesta** con lo cual ahora lanzamos el modelo con un AIC menor al ser el mejor modelo posible"
      ],
      "metadata": {
        "id": "MGuNnLF8M_aG"
      }
    },
    {
      "cell_type": "code",
      "source": [
        "linear_model_sol2 <- lm(Precio ~ NumDormitorios+MetrosCuadrados, data=barrio_sol_filter)\n",
        "summary(linear_model_sol2)"
      ],
      "metadata": {
        "id": "ByYaRZxYNIC_",
        "colab": {
          "base_uri": "https://localhost:8080/",
          "height": 364
        },
        "outputId": "bb57381e-f664-438b-a2fe-b9d82221c2af"
      },
      "execution_count": 43,
      "outputs": [
        {
          "output_type": "display_data",
          "data": {
            "text/plain": [
              "\n",
              "Call:\n",
              "lm(formula = Precio ~ NumDormitorios + MetrosCuadrados, data = barrio_sol_filter)\n",
              "\n",
              "Residuals:\n",
              "    Min      1Q  Median      3Q     Max \n",
              "-65.287 -15.730  -1.842  10.737 106.700 \n",
              "\n",
              "Coefficients:\n",
              "                Estimate Std. Error t value Pr(>|t|)    \n",
              "(Intercept)     48.29992    7.00735   6.893 4.80e-09 ***\n",
              "NumDormitorios  22.36155    4.40760   5.073 4.45e-06 ***\n",
              "MetrosCuadrados  0.32837    0.09893   3.319  0.00158 ** \n",
              "---\n",
              "Signif. codes:  0 ‘***’ 0.001 ‘**’ 0.01 ‘*’ 0.05 ‘.’ 0.1 ‘ ’ 1\n",
              "\n",
              "Residual standard error: 32.62 on 57 degrees of freedom\n",
              "  (641 observations deleted due to missingness)\n",
              "Multiple R-squared:  0.5917,\tAdjusted R-squared:  0.5773 \n",
              "F-statistic: 41.29 on 2 and 57 DF,  p-value: 8.205e-12\n"
            ]
          },
          "metadata": {}
        }
      ]
    },
    {
      "cell_type": "markdown",
      "metadata": {
        "id": "AUBsTIMYiu83"
      },
      "source": [
        "**¿Que variable es más fiable para conocer el precio de un inmueble, el número de habitaciones o los metros cuadrados?**"
      ]
    },
    {
      "cell_type": "markdown",
      "source": [
        "**Respuesta:**Es más fiable el número de dormitorios ya que tiene un Pr menor"
      ],
      "metadata": {
        "id": "MHNsQJpe9kxS"
      }
    },
    {
      "cell_type": "markdown",
      "metadata": {
        "id": "mmP-ibWPiu83"
      },
      "source": [
        "**Responde con su correspondiente margen de error del 95%, ¿cuantos euros incrementa el precio del alquiler por cada metro cuadrado extra del piso?**"
      ]
    },
    {
      "cell_type": "code",
      "source": [
        "linear_model_sol3 <- lm(Precio ~ MetrosCuadrados, data=barrio_sol_filter)\n",
        "summary(linear_model_sol3)\n",
        "confint(linear_model_sol3)"
      ],
      "metadata": {
        "id": "nK90wT4uCjYt",
        "colab": {
          "base_uri": "https://localhost:8080/",
          "height": 459
        },
        "outputId": "fdaf79c6-2303-4b2f-eb1c-c6fa1b119004"
      },
      "execution_count": 44,
      "outputs": [
        {
          "output_type": "display_data",
          "data": {
            "text/plain": [
              "\n",
              "Call:\n",
              "lm(formula = Precio ~ MetrosCuadrados, data = barrio_sol_filter)\n",
              "\n",
              "Residuals:\n",
              "    Min      1Q  Median      3Q     Max \n",
              "-61.403 -25.126  -6.573  10.003 138.353 \n",
              "\n",
              "Coefficients:\n",
              "                Estimate Std. Error t value Pr(>|t|)    \n",
              "(Intercept)     69.57277    6.70573  10.375 7.79e-15 ***\n",
              "MetrosCuadrados  0.61367    0.09721   6.313 4.13e-08 ***\n",
              "---\n",
              "Signif. codes:  0 ‘***’ 0.001 ‘**’ 0.01 ‘*’ 0.05 ‘.’ 0.1 ‘ ’ 1\n",
              "\n",
              "Residual standard error: 38.96 on 58 degrees of freedom\n",
              "  (641 observations deleted due to missingness)\n",
              "Multiple R-squared:  0.4073,\tAdjusted R-squared:  0.397 \n",
              "F-statistic: 39.85 on 1 and 58 DF,  p-value: 4.134e-08\n"
            ]
          },
          "metadata": {}
        },
        {
          "output_type": "display_data",
          "data": {
            "text/html": [
              "<table class=\"dataframe\">\n",
              "<caption>A matrix: 2 × 2 of type dbl</caption>\n",
              "<thead>\n",
              "\t<tr><th></th><th scope=col>2.5 %</th><th scope=col>97.5 %</th></tr>\n",
              "</thead>\n",
              "<tbody>\n",
              "\t<tr><th scope=row>(Intercept)</th><td>56.1497852</td><td>82.9957569</td></tr>\n",
              "\t<tr><th scope=row>MetrosCuadrados</th><td> 0.4190858</td><td> 0.8082612</td></tr>\n",
              "</tbody>\n",
              "</table>\n"
            ],
            "text/markdown": "\nA matrix: 2 × 2 of type dbl\n\n| <!--/--> | 2.5 % | 97.5 % |\n|---|---|---|\n| (Intercept) | 56.1497852 | 82.9957569 |\n| MetrosCuadrados |  0.4190858 |  0.8082612 |\n\n",
            "text/latex": "A matrix: 2 × 2 of type dbl\n\\begin{tabular}{r|ll}\n  & 2.5 \\% & 97.5 \\%\\\\\n\\hline\n\t(Intercept) & 56.1497852 & 82.9957569\\\\\n\tMetrosCuadrados &  0.4190858 &  0.8082612\\\\\n\\end{tabular}\n",
            "text/plain": [
              "                2.5 %      97.5 %    \n",
              "(Intercept)     56.1497852 82.9957569\n",
              "MetrosCuadrados  0.4190858  0.8082612"
            ]
          },
          "metadata": {}
        }
      ]
    },
    {
      "cell_type": "markdown",
      "source": [
        "**Respuesta:** Se incremento en 0.1419054"
      ],
      "metadata": {
        "id": "jUaq2I2v-JvH"
      }
    },
    {
      "cell_type": "markdown",
      "metadata": {
        "id": "y1WtHNbAiu84"
      },
      "source": [
        "**Responde con su correspondiente margen de error del 95%, ¿cuantos euros incrementa el precio del alquiler por cada habitación?**"
      ]
    },
    {
      "cell_type": "code",
      "source": [
        "linear_model_sol4 <- lm(Precio ~ NumDormitorios, data=barrio_sol_filter)\n",
        "summary(linear_model_sol4)\n",
        "confint(linear_model_sol4)"
      ],
      "metadata": {
        "id": "LCzzZaTnDR_7",
        "colab": {
          "base_uri": "https://localhost:8080/",
          "height": 442
        },
        "outputId": "3760dac0-dbd0-431c-95cf-2aaa5b4aba36"
      },
      "execution_count": 45,
      "outputs": [
        {
          "output_type": "display_data",
          "data": {
            "text/plain": [
              "\n",
              "Call:\n",
              "lm(formula = Precio ~ NumDormitorios, data = barrio_sol_filter)\n",
              "\n",
              "Residuals:\n",
              "     Min       1Q   Median       3Q      Max \n",
              "-206.225  -22.676   -4.312   16.416  263.960 \n",
              "\n",
              "Coefficients:\n",
              "               Estimate Std. Error t value Pr(>|t|)    \n",
              "(Intercept)      52.584      2.568   20.48   <2e-16 ***\n",
              "NumDormitorios   33.364      1.459   22.87   <2e-16 ***\n",
              "---\n",
              "Signif. codes:  0 ‘***’ 0.001 ‘**’ 0.01 ‘*’ 0.05 ‘.’ 0.1 ‘ ’ 1\n",
              "\n",
              "Residual standard error: 38.9 on 699 degrees of freedom\n",
              "Multiple R-squared:  0.4281,\tAdjusted R-squared:  0.4272 \n",
              "F-statistic: 523.1 on 1 and 699 DF,  p-value: < 2.2e-16\n"
            ]
          },
          "metadata": {}
        },
        {
          "output_type": "display_data",
          "data": {
            "text/html": [
              "<table class=\"dataframe\">\n",
              "<caption>A matrix: 2 × 2 of type dbl</caption>\n",
              "<thead>\n",
              "\t<tr><th></th><th scope=col>2.5 %</th><th scope=col>97.5 %</th></tr>\n",
              "</thead>\n",
              "<tbody>\n",
              "\t<tr><th scope=row>(Intercept)</th><td>47.54299</td><td>57.62561</td></tr>\n",
              "\t<tr><th scope=row>NumDormitorios</th><td>30.50004</td><td>36.22803</td></tr>\n",
              "</tbody>\n",
              "</table>\n"
            ],
            "text/markdown": "\nA matrix: 2 × 2 of type dbl\n\n| <!--/--> | 2.5 % | 97.5 % |\n|---|---|---|\n| (Intercept) | 47.54299 | 57.62561 |\n| NumDormitorios | 30.50004 | 36.22803 |\n\n",
            "text/latex": "A matrix: 2 × 2 of type dbl\n\\begin{tabular}{r|ll}\n  & 2.5 \\% & 97.5 \\%\\\\\n\\hline\n\t(Intercept) & 47.54299 & 57.62561\\\\\n\tNumDormitorios & 30.50004 & 36.22803\\\\\n\\end{tabular}\n",
            "text/plain": [
              "               2.5 %    97.5 %  \n",
              "(Intercept)    47.54299 57.62561\n",
              "NumDormitorios 30.50004 36.22803"
            ]
          },
          "metadata": {}
        }
      ]
    },
    {
      "cell_type": "markdown",
      "source": [
        "**Respuesta:** Se incrementa en 26.06883"
      ],
      "metadata": {
        "id": "SwoGIsWg-0z8"
      }
    },
    {
      "cell_type": "markdown",
      "metadata": {
        "id": "DvgHo7q3iu84"
      },
      "source": [
        "**¿Cual es la probabilidad de encontrar, en el barrio de Sol, un apartamento en alquiler con 3 dormitorios?\n",
        "¿Cual es el intervalo de confianza de esa probabilidad?**"
      ]
    },
    {
      "cell_type": "code",
      "execution_count": 46,
      "metadata": {
        "id": "oZMoZPI0iu84",
        "colab": {
          "base_uri": "https://localhost:8080/"
        },
        "outputId": "7e941cd7-31b0-4044-93a2-d63835e317e1"
      },
      "outputs": [
        {
          "output_type": "stream",
          "name": "stdout",
          "text": [
            "[1] \"Eventos totales n: 701 Casos éxito ns: 55\"\n"
          ]
        }
      ],
      "source": [
        "n <- nrow(barrio_sol_filter)\n",
        "ns <- nrow(barrio_sol_filter[barrio_sol_filter$NumDormitorios ==3, ])\n",
        "print(paste(\"Eventos totales n:\",n, \"Casos éxito ns:\", ns))"
      ]
    },
    {
      "cell_type": "code",
      "execution_count": 47,
      "metadata": {
        "id": "MKAb07iciu84",
        "colab": {
          "base_uri": "https://localhost:8080/",
          "height": 208
        },
        "outputId": "6ae52cbc-7ee1-4e37-f836-f7965d1e97c9"
      },
      "outputs": [
        {
          "output_type": "display_data",
          "data": {
            "text/plain": [
              "\n",
              "\tExact binomial test\n",
              "\n",
              "data:  ns and n\n",
              "number of successes = 55, number of trials = 701, p-value < 2.2e-16\n",
              "alternative hypothesis: true probability of success is not equal to 0.5\n",
              "95 percent confidence interval:\n",
              " 0.0596506 0.1009033\n",
              "sample estimates:\n",
              "probability of success \n",
              "            0.07845934 \n"
            ]
          },
          "metadata": {}
        }
      ],
      "source": [
        "binom.test(ns,n)"
      ]
    },
    {
      "cell_type": "markdown",
      "source": [
        "**Respuesta:** La probabilidad es del 0.08064516 y el intervalo de confianza es [0.06132845, 0.10367897]"
      ],
      "metadata": {
        "id": "FPcFAVnxFaYr"
      }
    }
  ],
  "metadata": {
    "kernelspec": {
      "display_name": "R",
      "language": "R",
      "name": "ir"
    },
    "language_info": {
      "codemirror_mode": "r",
      "file_extension": ".r",
      "mimetype": "text/x-r-source",
      "name": "R",
      "pygments_lexer": "r",
      "version": "3.6.1"
    },
    "colab": {
      "name": "0-Practica Ignacio Martin Vitero.ipynb",
      "provenance": [],
      "collapsed_sections": []
    }
  },
  "nbformat": 4,
  "nbformat_minor": 0
}